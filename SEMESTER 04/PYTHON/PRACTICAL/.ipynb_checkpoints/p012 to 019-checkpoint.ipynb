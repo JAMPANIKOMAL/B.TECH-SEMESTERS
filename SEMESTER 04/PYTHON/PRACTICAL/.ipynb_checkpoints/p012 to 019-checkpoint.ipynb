{
 "cells": [
  {
   "cell_type": "markdown",
   "id": "c5c2d1dd-baf8-4de8-a1c5-83cd05ce465b",
   "metadata": {},
   "source": [
    "**Practical 012**"
   ]
  },
  {
   "cell_type": "markdown",
   "id": "a71f2c2e-f369-4434-ad41-88325b350398",
   "metadata": {},
   "source": [
    "**Problem Statement 01: <br/>\n",
    "Given a string and a list of words representing a list, find the longest word in the dictionary that can be formed by deleting some characters of the given string.<br/>\n",
    "Input: <br/>\n",
    "s = \"abpcplea\"<br/>\n",
    "list = [\"ale\", \"apple\", \"monkey\", \"plea\"]<br/>\n",
    "Output: <br/>\n",
    "Longest word in list: apple**"
   ]
  },
  {
   "cell_type": "code",
   "execution_count": null,
   "id": "7f20a30b-b7b0-4d67-b5ce-7a072f87ec18",
   "metadata": {},
   "outputs": [],
   "source": []
  },
  {
   "cell_type": "markdown",
   "id": "e431d049-955b-43f5-aca5-aa73b967938d",
   "metadata": {},
   "source": [
    "**Problem Statement 02:** <br/>\n",
    "**You're tasked with writing a function to determine whether a given sentence is a palindrome, considering only alphanumeric characters and ignoring case sensitivity and other things.<br/>\n",
    "Input:<br/>\n",
    "sentence1 = \"A man, a plan, a canal, Panama!\"<br/>\n",
    "sentence2 = \"race a car\"<br/>\n",
    "Output:<br/>\n",
    "Is 'A man, a plan, a canal, Panama!' a palindrome? True<br/>\n",
    "Is 'race a car' a palindrome? False**"
   ]
  },
  {
   "cell_type": "markdown",
   "id": "aca0ddb9-f10b-42ab-8baf-f863f83dc23c",
   "metadata": {},
   "source": [
    "**Problem Statement 03:** <br/>\n",
    "**You're tasked with counting the frequency of words in a given paragraph while excluding certain stop words (common words such as \"the\", \"and\", \"is\", etc.).<br/>\n",
    "Input:<br/>\n",
    "paragraph = \"Python is a powerful programming language. Python is used for web development, data science, and artificial intelligence.\"<br/>\n",
    "stop_words = [\"is\", \"a\", \"for\", \"and\"]<br/>\n",
    "Output:<br/>\n",
    "Word frequency (excluding stop words): {'python': 2, 'powerful': 1, 'programming': 1, 'language.': 1, 'used': 1, 'web': 1, 'development,': 1, 'data': 1, 'science,': 1, 'artificial': 1, 'intelligence.': 1}**"
   ]
  },
  {
   "cell_type": "markdown",
   "id": "5edfa680-a898-4d07-90da-6465543c9549",
   "metadata": {},
   "source": [
    "**Problem Statement 04:** <br/>\n",
    "**You're given a list of strings, and you need to find and return a list of characters that appear in every string in the list.<br/>\n",
    "Input:<br/>\n",
    "strings = [\"apple\", \"banana\", \"orange\"]<br/>\n",
    "Output:<br/>\n",
    "Common characters: ['a']**"
   ]
  },
  {
   "cell_type": "markdown",
   "id": "888e1a70",
   "metadata": {},
   "source": [
    "**Practical 013**"
   ]
  },
  {
   "cell_type": "markdown",
   "id": "73b7192c",
   "metadata": {},
   "source": [
    "**Problem Statement 01:** <br/>\n",
    "**Write a Python code to convert the contents of a configuration text file (e.g., config.txt) into a Python dictionary. This helps in easily accessing and manipulating configuration values in Python.**\n"
   ]
  },
  {
   "cell_type": "markdown",
   "id": "810203b4",
   "metadata": {},
   "source": [
    "**Problem Statement 02:** <br/>\n",
    "**Write a Python code to convert a dictionary containing configuration data into a text file. This allows saving configuration data for reuse or deployment.<br/>\n",
    "Input:<br/>\n",
    "new_config = {<br/>\n",
    "&nbsp;&nbsp;\"username\": \"new_user\",<br/>\n",
    "&nbsp;&nbsp;\"password\": \"new_password\",<br/>\n",
    "&nbsp;&nbsp;\"database\": \"new_db\",<br/>\n",
    "&nbsp;&nbsp;\"host\": \"localhost\",<br/>\n",
    "&nbsp;&nbsp;\"port\": \"5432\"<br/>\n",
    "}**"
   ]
  },
  {
   "cell_type": "markdown",
   "id": "b06d3497",
   "metadata": {},
   "source": [
    "**Problem Statement 03:** <br/>\n",
    "**Write a Python code to update a specific configuration parameter in an existing text file. This involves reading the existing configuration, modifying a particular parameter, and writing the updated data back to the file.<br/>\n",
    "Example:<br/>\n",
    "update_config_parameter('config.txt', 'password', 'new_password123')**"
   ]
  },
  {
   "cell_type": "markdown",
   "id": "b2c468f8-6f70-4e75-9fc4-430580a38cfd",
   "metadata": {},
   "source": [
    "**Problem Statement 04:** <br/>\n",
    "**Write a Python code to merge multiple configuration files into a single configuration. You need to read each file, combine their settings into one dictionary, and write the merged result into a new text file.**"
   ]
  },
  {
   "cell_type": "markdown",
   "id": "eda3d5be-8880-4fe4-86c9-379ceaac2b79",
   "metadata": {},
   "source": [
    "**Problem Statement 05:** <br/>\n",
    "**Write a Python code to delete a specific configuration parameter from a text file. Read the existing configuration, remove the specified key, and save the updated data back to the file.<br/>\n",
    "Example:<br/>\n",
    "delete_config_parameter('config.txt', 'port')**"
   ]
  },
  {
   "cell_type": "markdown",
   "id": "05409826",
   "metadata": {},
   "source": [
    "**Practical 014**"
   ]
  },
  {
   "cell_type": "markdown",
   "id": "c1485f03",
   "metadata": {},
   "source": [
    "**Problem Statement 01: Student Grade Management (CSV):** <br/>\n",
    "**You are a teacher at a school and maintain student grade records in a CSV file. The file contains student IDs, names, and grades for different subjects (e.g., Math, Science, English). Develop a Python program to read this CSV file, calculate each student's average grade, display the top-performing students, allow the user to search for a student by ID or name, and update their grades. Provide an option to save the updated data back to the CSV file.**"
   ]
  },
  {
   "cell_type": "markdown",
   "id": "261cc3d0",
   "metadata": {},
   "source": [
    "**Problem Statement 02: Product Inventory Tracking (JSON):** <br/>\n",
    "**Your company manages a product inventory using a JSON file. Each product entry includes details such as product ID, name, quantity in stock, and unit price. Write a Python program to read this JSON file, display the list of available products, allow the user to search for a product by name or ID, update the quantity of a product after purchase, and generate a report showing low-stock items (products with quantity below a certain threshold).**"
   ]
  },
  {
   "cell_type": "markdown",
   "id": "8830e996",
   "metadata": {},
   "source": [
    "**Problem Statement 03: Customer Database Management (CSV):** <br/>\n",
    "**You are working for a small retail business that maintains a customer database in a CSV file. The file contains customer information such as name, email, phone number, and purchase history. Develop a Python program to read this CSV file, allow the user to search for a customer by name or email, and update their purchase history. Additionally, provide an option to add new customers to the database and save the updated data back to the CSV file.**"
   ]
  },
  {
   "cell_type": "markdown",
   "id": "1bd14abe-3e54-4d3e-b4ba-1cceb9da7c20",
   "metadata": {},
   "source": [
    "**Problem Statement 04: Text File Encryption/Decryption (TXT):** <br/>\n",
    "**You are working on a security application that requires encrypting and decrypting text files using a simple substitution cipher. Write a Python program that can encrypt or decrypt the contents of a text file using a provided substitution key. The program should provide options for the user to choose between encryption and decryption, specify the input and output file paths, and enter the substitution key.**"
   ]
  },
  {
   "cell_type": "markdown",
   "id": "027c672d",
   "metadata": {},
   "source": [
    "**Practical 015**"
   ]
  },
  {
   "cell_type": "markdown",
   "id": "00e47e88",
   "metadata": {},
   "source": [
    "**Problem Statement 01:** <br/>\n",
    "**Create a base class Shape with methods to calculate area and perimeter. Then create subclasses Rectangle and Circle that inherit from Shape and implement their specific area and perimeter calculation methods.**"
   ]
  },
  {
   "cell_type": "markdown",
   "id": "da908430",
   "metadata": {},
   "source": [
    "**Problem Statement 02:** <br/>\n",
    "**Create a base class Vehicle with attributes like make, model, and year, and a method to display vehicle information. Then create subclasses of Car and Motorcycle that are inherited from the Vehicle and add their specific attributes like seating capacity or type of engine.**"
   ]
  },
  {
   "cell_type": "markdown",
   "id": "71acabec",
   "metadata": {},
   "source": [
    "**Problem Statement 03:** <br/>\n",
    "**Create a base class Employee with attributes like name, ID, and salary, and methods to calculate and display details. Then create subclasses Manager and Developer that inherit from Employee and add attributes like department or programming language.**"
   ]
  },
  {
   "cell_type": "markdown",
   "id": "27aa0274-c890-471d-94d7-2db66fab425e",
   "metadata": {},
   "source": [
    "**Problem Statement 04:** <br/>\n",
    "**Create a base class Animal with methods to make sound and display species. Then create subclasses Dog, Cat, and Bird that inherit from Animal and implement their specific sound methods.**"
   ]
  },
  {
   "cell_type": "markdown",
   "id": "0980c2d6-2673-4415-ab30-c1d22ec695d4",
   "metadata": {},
   "source": [
    "**Problem Statement 05:** <br/>\n",
    "**Create a base class Account with methods for deposit, withdraw, and display balance. Then create subclasses SavingsAccount and CheckingAccount that inherit from Account and implement their specific interest calculation or overdraft protection methods.**"
   ]
  },
  {
   "cell_type": "markdown",
   "id": "5d93f93a",
   "metadata": {},
   "source": [
    "**Practical 016**"
   ]
  },
  {
   "cell_type": "markdown",
   "id": "9ee1fe43",
   "metadata": {},
   "source": [
    "**Problem Statement 01: Employee Management System:** <br/>\n",
    "**Create a base class Employee with public, private, and protected attributes representing employee details such as name, employee ID, and salary. Implement methods to display employee details and calculate salary. Then create subclasses Manager and Developer that inherit from Employee and demonstrate access to different types of attributes and methods.**"
   ]
  },
  {
   "cell_type": "markdown",
   "id": "7dbfa718",
   "metadata": {},
   "source": [
    "**Problem Statement 02: Bank Account System:** <br/>\n",
    "**Create a base class Account with public, private, and protected attributes representing account details such as account number, balance, and interest rate. Implement methods to deposit, withdraw, and calculate interest. Then create subclasses SavingsAccount and CheckingAccount that inherit from Account and demonstrate access to different types of attributes and methods.**"
   ]
  },
  {
   "cell_type": "markdown",
   "id": "01abc44d",
   "metadata": {},
   "source": [
    "**Problem Statement 03: Vehicle Management System:** <br/>\n",
    "**Create a base class Vehicle with public, private, and protected attributes representing vehicle details such as make, model, and year. Implement methods to display vehicle information. Then create subclasses Car and Motorcycle that inherit from Vehicle and demonstrate access to different types of attributes and methods.**"
   ]
  },
  {
   "cell_type": "markdown",
   "id": "286d13ea-a6da-4e89-84ac-b9c96c815038",
   "metadata": {},
   "source": [
    "**Problem Statement 04: School Management System:** <br/>\n",
    "**Create a base class Student with public, private, and protected attributes representing student details such as name, roll number, and marks. Implement methods to display student details and calculate grades. Then create subclasses ClassMonitor and Topper that inherit from Student and demonstrate access to different types of attributes and methods.**"
   ]
  },
  {
   "cell_type": "markdown",
   "id": "02b246bf-8c14-4ba9-96a5-2e8cdc7bb379",
   "metadata": {},
   "source": [
    "**Problem Statement 05: Product Inventory Management:** <br/>\n",
    "**Create a base class Product with public, private, and protected attributes representing product details such as name, ID, and price. Implement methods to display product information. Then create subclasses ElectronicProduct and ClothingProduct that inherit from Product and demonstrate access to different types of attributes and methods.**"
   ]
  },
  {
   "cell_type": "markdown",
   "id": "646292cc",
   "metadata": {},
   "source": [
    "**Practical 017**"
   ]
  },
  {
   "cell_type": "markdown",
   "id": "73282b24",
   "metadata": {},
   "source": [
    "**Problem Statement 01: Inventory Management System:** <br/>\n",
    "**A retail company needs a software solution to streamline inventory management. The system should enable employees to add new products to the inventory, specifying details such as the product name, price, and quantity available. Additionally, the system should support an operation to combine two products, calculating the average price and total quantity of the combined product.<br/>\n",
    "Python Feature: This solution will utilize Python classes to represent products and operator overloading to perform calculations when combining products.**"
   ]
  },
  {
   "cell_type": "markdown",
   "id": "546206a7",
   "metadata": {},
   "source": [
    "**Problem Statement 02: Student Record Management:** <br/>\n",
    "**A school administration requires a digital tool to efficiently manage student records. The program should allow administrators to create individual student profiles, including information such as the student's name, age, and academic grades for different subjects. Moreover, the system should provide functionality to dynamically add new grades for specific subjects and retrieve grades for any subject as needed.<br/>\n",
    "Python Feature: Python classes will be used to represent student profiles, with methods to add and retrieve grades dynamically.**"
   ]
  },
  {
   "cell_type": "markdown",
   "id": "178675f1",
   "metadata": {},
   "source": [
    "**Problem Statement 03: Bank Account Management:** <br/>\n",
    "**A banking institution seeks a software solution to handle customer accounts effectively. The program should facilitate the creation and management of bank accounts, storing details such as the account number, current balance, and account holder's name. Furthermore, the system should support deposit operations by overloading the addition operator, enabling customers to deposit funds into their accounts seamlessly.<br/>\n",
    "Python Feature: Python classes will be used to represent bank accounts, and operator overloading will be employed to enable deposit operations.**"
   ]
  },
  {
   "cell_type": "markdown",
   "id": "1833e77b-cd9c-4de1-9788-cdc1d8e97237",
   "metadata": {},
   "source": [
    "**Problem Statement 04: Social Media Profile Management:** <br/>\n",
    "**A social networking platform aims to develop a tool for managing user profiles efficiently. The program should allow users to create and customize their profiles with information like their username and a brief bio. Additionally, the system should enable users to gain followers, with functionality to increment the follower count dynamically as users interact with each other's profiles.<br/>\n",
    "Python Feature: Python classes will represent user profiles, with methods to customize profiles and dynamically manage follower counts.**"
   ]
  },
  {
   "cell_type": "markdown",
   "id": "68978431-1374-4fc4-b1b4-88d4d99430b6",
   "metadata": {},
   "source": [
    "**Problem Statement 05: Shopping Cart Implementation:** <br/>\n",
    "**An online marketplace requires a robust shopping cart system to enhance the shopping experience for its customers. The system should allow users to add items to their carts while browsing products, specifying details such as the item name, price, and desired quantity. Upon checkout, the system should display a summary of the items in the cart, including their respective details, facilitating a seamless shopping process.<br/>\n",
    "Python Feature: Python classes will be used to represent items and the shopping cart, allowing for easy addition and retrieval of item details.**"
   ]
  },
  {
   "cell_type": "markdown",
   "id": "494a4fe0-76cb-4d34-98a3-7f6ae3af152c",
   "metadata": {},
   "source": [
    "**Practical 018**"
   ]
  },
  {
   "cell_type": "markdown",
   "id": "ea884a48-d3a7-42b7-a6fd-91bfe8c9080a",
   "metadata": {},
   "source": [
    "**Problem Statement 01: RegEx - Allowed Characters:** <br/>\n",
    "**Write a Python program to check that a string contains only a certain set of characters (in this case a-z, A-Z and 0-9).**"
   ]
  },
  {
   "cell_type": "markdown",
   "id": "f29ea196-f478-46ef-bd9c-a67dbe5d5e69",
   "metadata": {},
   "source": [
    "**Problem Statement 02: RegEx - a followed by one or more b's:** <br/>\n",
    "**Write a Python program that matches a string that has an a followed by one or more b's**"
   ]
  },
  {
   "cell_type": "markdown",
   "id": "0c5938c1-6a8a-492e-ac9b-0d83ebe82e4c",
   "metadata": {},
   "source": [
    "**Problem Statement 03: RegEx - a followed by two to three b's:** <br/>\n",
    "**Write a Python program that matches a string that has an a followed by two to three 'b'.**"
   ]
  },
  {
   "cell_type": "markdown",
   "id": "0293461e-690c-46d1-815f-78838cbe69bc",
   "metadata": {},
   "source": [
    "**Problem Statement 04: RegEx - a followed by anything, ending in b:** <br/>\n",
    "**Write a Python program that matches a string that has an 'a' followed by anything, ending in 'b'.**"
   ]
  },
  {
   "cell_type": "markdown",
   "id": "ce83f098-73d9-4e6a-843a-5ca887f0c22e",
   "metadata": {},
   "source": [
    "**Problem Statement 05: RegEx - word containing 'z':** <br/>\n",
    "**Write a Python program that matches a word containing 'z'**"
   ]
  },
  {
   "cell_type": "markdown",
   "id": "a1b5f051-2dd4-4f79-a167-902b9fb73e52",
   "metadata": {},
   "source": [
    "**Problem Statement 06: RegEx - string starting with a specific number:** <br/>\n",
    "**Write a Python program where a string will start with a specific number.**"
   ]
  },
  {
   "cell_type": "markdown",
   "id": "9ebc1cb6-8460-4157-b878-d1b3ada5370f",
   "metadata": {},
   "source": [
    "**Problem Statement 07: RegEx - numbers of length 1 to 3:** <br/>\n",
    "**Write a Python program to search the numbers (0-9) of length between 1 to 3 in a given string.**"
   ]
  },
  {
   "cell_type": "markdown",
   "id": "bd36bf56-f5ca-47e2-9ebc-51e3acbbfbab",
   "metadata": {},
   "source": [
    "**Problem Statement 08: RegEx - find substrings within a string:** <br/>\n",
    "**Write a Python program to find the substrings within a string.** <br/>\n",
    "**Sample text : 'Python exercises, PHP exercises, C# exercises'** <br/>\n",
    "**Pattern : 'exercises'**"
   ]
  },
  {
   "cell_type": "markdown",
   "id": "f6cf9da1-e3b7-49bc-a83f-bbfb67d2d1e7",
   "metadata": {},
   "source": [
    "**Problem Statement 09: Extracting Email Addresses:** <br/>\n",
    "**Problem Statement: Given a large text file containing various lines of data, extract all the email addresses present in the file.** <br/>\n",
    "**Example: \"Contact us at support@example.com or sales@example.org for more information.\" should yield [\"support@example.com\", \"sales@example.org\"].**"
   ]
  },
  {
   "cell_type": "markdown",
   "id": "1f84aad9-2035-4be9-b56d-9f8c62cda621",
   "metadata": {},
   "source": [
    "**Problem Statement 10: Validating Phone Numbers:** <br/>\n",
    "**Problem Statement: Create a function to validate whether a given string is a valid phone number in the format (XXX) XXX-XXXX or XXX-XXX-XXXX.** <br/>\n",
    "**Example: \"Phone number (123) 456-7890 is valid, but 123-45-67890 is not.\" should yield True for the first phone number and False for the second.**"
   ]
  },
  {
   "cell_type": "markdown",
   "id": "68657c18-c26e-453c-85f4-6f6be372c1c3",
   "metadata": {},
   "source": [
    "**Problem Statement 11: Finding Dates:** <br/>\n",
    "**Problem Statement: Write a script to find all the dates in a text document, where dates are in the format DD/MM/YYYY.** <br/>\n",
    "**Example: \"Important dates are 12/05/2021 and 23/08/2022.\" should yield [\"12/05/2021\", \"23/08/2022\"].**"
   ]
  },
  {
   "cell_type": "markdown",
   "id": "65b4ba70-0763-45d2-8e4b-57c3a2777993",
   "metadata": {},
   "source": [
    "**Problem Statement 12: Replacing URLs:** <br/>\n",
    "**Problem Statement: Given a string containing multiple URLs, replace all the URLs with a placeholder text [LINK].** <br/>\n",
    "**Example: \"Visit https://example.com or http://example.org for more info.\" should yield \"Visit [LINK] or [LINK] for more info.\".**"
   ]
  },
  {
   "cell_type": "markdown",
   "id": "ea7e99da-30b8-42c8-8bcb-114f9955ee5f",
   "metadata": {},
   "source": [
    "**Problem Statement 13: Extracting Hashtags:** <br/>\n",
    "**Problem Statement: Extract all the hashtags from a social media post.** <br/>\n",
    "**Example: \"Loving the #sunshine and #beachlife!\" should yield [\"#sunshine\", \"#beachlife\"].**"
   ]
  },
  {
   "cell_type": "markdown",
   "id": "78292ebf-8122-4041-90f7-0ff8357044f8",
   "metadata": {},
   "source": [
    "**Practical 019**"
   ]
  },
  {
   "cell_type": "markdown",
   "id": "995f5c55-71ce-4d5f-872d-a9fa1aea0131",
   "metadata": {},
   "source": [
    "**Problem Statement 01: Division with Multiple Exception Types:** <br/>\n",
    "**Write a function safe_divide(a, b) that takes two arguments and performs division. Handle the following exceptions:** <br/>\n",
    "**ZeroDivisionError: When b is zero, print \"Cannot divide by zero\" and return None.** <br/>\n",
    "**TypeError: When either a or b is not a number, print \"Invalid input type\" and return None.**"
   ]
  },
  {
   "cell_type": "markdown",
   "id": "0b928fa7-c22b-42c0-a99a-5b6f730cfdfe",
   "metadata": {},
   "source": [
    "**Problem Statement 02: File Processing with Specific Exceptions:** <br/>\n",
    "**Create a function process_file(filename) that attempts to open and read a file. Handle exceptions for:** <br/>\n",
    "**FileNotFoundError: Print \"File not found\".** <br/>\n",
    "**PermissionError: Print \"Permission denied\".** <br/>\n",
    "**IOError: Print \"An IOError occurred\".**"
   ]
  },
  {
   "cell_type": "markdown",
   "id": "02025f64-bb7f-4810-893a-0a37328023f8",
   "metadata": {},
   "source": [
    "**Problem Statement 03: Custom Exception for Age Validation:** <br/>\n",
    "**Define a custom exception InvalidAgeError and write a function validate_age(age) that raises this exception if the age is not between 0 and 120 (inclusive). Use this function to check a list of ages and handle the exception by printing an appropriate message.**"
   ]
  },
  {
   "cell_type": "markdown",
   "id": "d98cd766-3b08-4bac-8115-dadce70a4a90",
   "metadata": {},
   "source": [
    "**Problem Statement 04: Nested Exception Handling:** <br/>\n",
    "**Write a function nested_exception_handling() that performs the following:** <br/>\n",
    "**Tries to open a file and read an integer from it.** <br/>\n",
    "**Catches exceptions for file-related errors (FileNotFoundError, IOError).** <br/>\n",
    "**Within the same try block, convert the read value to an integer and handle potential ValueError.** <br/>\n",
    "**Print specific error messages for each exception and ensure the file is closed properly using a final block.**"
   ]
  }
 ],
 "metadata": {
  "kernelspec": {
   "display_name": "Python 3 (ipykernel)",
   "language": "python",
   "name": "python3"
  },
  "language_info": {
   "codemirror_mode": {
    "name": "ipython",
    "version": 3
   },
   "file_extension": ".py",
   "mimetype": "text/x-python",
   "name": "python",
   "nbconvert_exporter": "python",
   "pygments_lexer": "ipython3",
   "version": "3.13.3"
  }
 },
 "nbformat": 4,
 "nbformat_minor": 5
}
