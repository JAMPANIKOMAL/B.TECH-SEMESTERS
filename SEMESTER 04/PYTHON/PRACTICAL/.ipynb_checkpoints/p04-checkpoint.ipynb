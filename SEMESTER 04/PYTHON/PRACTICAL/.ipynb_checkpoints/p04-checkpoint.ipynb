{
 "cells": [
  {
   "cell_type": "markdown",
   "id": "c5c2d1dd-baf8-4de8-a1c5-83cd05ce465b",
   "metadata": {},
   "source": [
    "**Practical 04:**  "
   ]
  },
  {
   "cell_type": "markdown",
   "id": "a71f2c2e-f369-4434-ad41-88325b350398",
   "metadata": {},
   "source": [
    "**Problem Statement 01:**  \n",
    "\n",
    "**Create a Python program to display the patterns using FOR LOOP:**  \n",
    "\n",
    "**If input = 5, print:**  \n",
    "\n",
    "**A A A A A**  \n",
    "\n",
    "**B B B B**  \n",
    "\n",
    "**C C C**  \n",
    "\n",
    "**D D**  \n",
    "\n",
    "**E**  "
   ]
  },
  {
   "cell_type": "code",
   "execution_count": 1,
   "id": "f6331bc4-49f2-458e-a8ae-0d0702bc97e0",
   "metadata": {},
   "outputs": [
    {
     "name": "stdin",
     "output_type": "stream",
     "text": [
      "Enter your number: 10\n"
     ]
    },
    {
     "name": "stdout",
     "output_type": "stream",
     "text": [
      "A A A A A A A A A A \n",
      "B B B B B B B B B \n",
      "C C C C C C C C \n",
      "D D D D D D D \n",
      "E E E E E E \n",
      "F F F F F \n",
      "G G G G \n",
      "H H H \n",
      "I I \n",
      "J \n"
     ]
    }
   ],
   "source": [
    "n = int(input(\"Enter your number:\"))\n",
    "alphabet_string = \"ABCDEFGHIJKLMNOPQRSTUVWXYZ\"\n",
    "for i in range(1, n + 1):\n",
    "    for j in range(1, n - i + 2):\n",
    "        print(alphabet_string[(i - 1) % 26], end = \" \")\n",
    "    print()"
   ]
  },
  {
   "cell_type": "markdown",
   "id": "6002c43b-d900-4224-83b4-05df7ab58e4e",
   "metadata": {},
   "source": [
    "**Problem Statement 02:**  \n",
    "\n",
    "**Create a Python program to display the patterns using FOR LOOP:**  \n",
    "\n",
    "**If input = 5, print:**  \n",
    "\n",
    "**1**  \n",
    "\n",
    "**2 3**  \n",
    "\n",
    "**4 5 6**  \n",
    "\n",
    "**7 8 9 10**  \n",
    "\n",
    "**11 12 13 14 15**  "
   ]
  },
  {
   "cell_type": "code",
   "execution_count": 2,
   "id": "ffed638b-7576-434a-a2eb-d9a041a60948",
   "metadata": {},
   "outputs": [
    {
     "name": "stdin",
     "output_type": "stream",
     "text": [
      "Enter your number: 10\n"
     ]
    },
    {
     "name": "stdout",
     "output_type": "stream",
     "text": [
      "1 \n",
      "2 3 \n",
      "4 5 6 \n",
      "7 8 9 10 \n",
      "11 12 13 14 15 \n",
      "16 17 18 19 20 21 \n",
      "22 23 24 25 26 27 28 \n",
      "29 30 31 32 33 34 35 36 \n",
      "37 38 39 40 41 42 43 44 45 \n",
      "46 47 48 49 50 51 52 53 54 55 \n"
     ]
    }
   ],
   "source": [
    "n = int(input(\"Enter your number:\"))\n",
    "c = 1\n",
    "for i in range(1, n + 1):\n",
    "    for j in range(1, i + 1):\n",
    "        print(c, end = \" \")\n",
    "        c += 1\n",
    "    print()"
   ]
  },
  {
   "cell_type": "markdown",
   "id": "26914335-4f66-481a-89b5-04f1cf7aaed0",
   "metadata": {},
   "source": [
    "**Problem Statement 03:**  \n",
    "\n",
    "**Create a Python program to display the patterns using FOR LOOP:**  \n",
    "\n",
    "**If input = 5, print:**  \n",
    "\n",
    "**\\* - \\* - \\***  \n",
    "\n",
    "**\\- \\* - \\* -**  \n",
    "\n",
    "**\\* - \\* - \\***  \n",
    "\n",
    "**\\- \\* - \\* -**  \n",
    "\n",
    "**\\* - \\* - \\***  "
   ]
  },
  {
   "cell_type": "code",
   "execution_count": 3,
   "id": "d36d78ec-3d7a-4566-8a59-b57809338d80",
   "metadata": {},
   "outputs": [
    {
     "name": "stdin",
     "output_type": "stream",
     "text": [
      "Enter your number: 10\n"
     ]
    },
    {
     "name": "stdout",
     "output_type": "stream",
     "text": [
      "* - * - * - * - * - \n",
      "* - * - * - * - * - \n",
      "* - * - * - * - * - \n",
      "* - * - * - * - * - \n",
      "* - * - * - * - * - \n",
      "* - * - * - * - * - \n",
      "* - * - * - * - * - \n",
      "* - * - * - * - * - \n",
      "* - * - * - * - * - \n",
      "* - * - * - * - * - \n"
     ]
    }
   ],
   "source": [
    "n = int(input(\"Enter your number:\"))\n",
    "rs = \"*-\"\n",
    "c = 0\n",
    "for i in range(1, n + 1):\n",
    "    for j in range(1, n + 1):\n",
    "        c += 1\n",
    "        print(rs[(c % 2) - 1], end = \" \")\n",
    "    print()"
   ]
  },
  {
   "cell_type": "markdown",
   "id": "90a62cda-78c0-4815-b03b-ffc568a5abaf",
   "metadata": {},
   "source": [
    "**Problem Statement 04:**  \n",
    "\n",
    "**Create a Python program to display the patterns using FOR LOOP:**  \n",
    "\n",
    "**If input = 5, print:**  \n",
    "\n",
    "&nbsp;&nbsp;&nbsp;&nbsp;&nbsp;**\\***  \n",
    "\n",
    "&nbsp;&nbsp;&nbsp;&nbsp;**\\* \\***  \n",
    "\n",
    "&nbsp;&nbsp;&nbsp;**\\* \\* \\***  \n",
    "\n",
    "&nbsp;&nbsp;**\\* \\* \\* \\***  \n",
    "\n",
    "**\\* \\* \\* \\* \\***  \n"
   ]
  },
  {
   "cell_type": "code",
   "execution_count": 4,
   "id": "6e521d4b-658b-4591-8195-def4fb1e2baf",
   "metadata": {},
   "outputs": [
    {
     "name": "stdin",
     "output_type": "stream",
     "text": [
      "Enter your number: 10\n"
     ]
    },
    {
     "name": "stdout",
     "output_type": "stream",
     "text": [
      "          *                   \n",
      "         * *                 \n",
      "        * * *               \n",
      "       * * * *             \n",
      "      * * * * *           \n",
      "     * * * * * *         \n",
      "    * * * * * * *       \n",
      "   * * * * * * * *     \n",
      "  * * * * * * * * *   \n",
      " * * * * * * * * * * \n"
     ]
    }
   ],
   "source": [
    "n = int(input(\"Enter your number:\"))\n",
    "for i in range(1, n + 1):\n",
    "    print(\" \" * (n - i), end = \" \")\n",
    "    for j in range(1, n + 1):\n",
    "        if i < j:\n",
    "            print(\" \", end = \" \")\n",
    "        else:\n",
    "            print(\"*\", end = \" \")\n",
    "    print()"
   ]
  },
  {
   "cell_type": "markdown",
   "id": "2defd54b-aa12-4dd5-bd8e-c278542618cf",
   "metadata": {},
   "source": [
    "**Problem Statement 05:**  \n",
    "\n",
    "**Create a Python program to display the patterns using FOR LOOP:**  \n",
    "\n",
    "**If input = 5, print:**  \n",
    "\n",
    "**\\***  \n",
    "\n",
    "**\\* \\***  \n",
    "\n",
    "**\\* &nbsp; \\***  \n",
    "\n",
    "**\\* &nbsp; &nbsp; \\***  \n",
    "\n",
    "**\\* \\* \\* \\* \\***  "
   ]
  },
  {
   "cell_type": "code",
   "execution_count": 5,
   "id": "52f12ef8-260a-49ff-96bc-7db6abb3c76d",
   "metadata": {},
   "outputs": [
    {
     "name": "stdin",
     "output_type": "stream",
     "text": [
      "Enter your number: 10\n"
     ]
    },
    {
     "name": "stdout",
     "output_type": "stream",
     "text": [
      "*  \n",
      "* *  \n",
      "*   *               \n",
      "*     *             \n",
      "*       *           \n",
      "*         *         \n",
      "*           *       \n",
      "*             *     \n",
      "*               *   \n",
      "* * * * * * * * * *  \n"
     ]
    }
   ],
   "source": [
    "n = int(input(\"Enter your number:\"))\n",
    "for i in range(1, n + 1):\n",
    "    for j in range(1, n + 1):\n",
    "        if i == 1 or i == 2 or i == n:\n",
    "            print(\"* \" * i, end = \" \")\n",
    "            break\n",
    "        else:\n",
    "            if j == 1 or j == i:\n",
    "                print(\"*\", end = \" \")\n",
    "            else:\n",
    "                print(\" \", end = \" \")\n",
    "    print()"
   ]
  },
  {
   "cell_type": "markdown",
   "id": "186188e4-4cf9-4695-961b-7596cb6840a7",
   "metadata": {},
   "source": [
    "**Problem Statement 06:**  \n",
    "\n",
    "**Create a Python program to display the patterns using FOR LOOP:**  \n",
    "\n",
    "**If input = 5, print:**  \n",
    "\n",
    "**\\* \\* \\* \\* \\***  \n",
    "\n",
    "&nbsp;&nbsp;&nbsp;&nbsp;&nbsp;&nbsp;&nbsp;&nbsp;&nbsp;&nbsp;&nbsp;**\\***  \n",
    "\n",
    "**\\* \\* \\* \\* \\***  \n",
    "\n",
    "&nbsp;&nbsp;&nbsp;&nbsp;&nbsp;&nbsp;&nbsp;&nbsp;&nbsp;&nbsp;&nbsp;**\\***  \n",
    "\n",
    "**\\* \\* \\* \\* \\***  "
   ]
  },
  {
   "cell_type": "code",
   "execution_count": 6,
   "id": "622c6eca-8315-4d25-9128-0de0a0b358b8",
   "metadata": {},
   "outputs": [
    {
     "name": "stdin",
     "output_type": "stream",
     "text": [
      "Enter your number: 10\n"
     ]
    },
    {
     "name": "stdout",
     "output_type": "stream",
     "text": [
      "* * * * * * * * * *  \n",
      "                  * \n",
      "* * * * * * * * * *  \n",
      "                  * \n",
      "* * * * * * * * * *  \n",
      "                  * \n",
      "* * * * * * * * * *  \n",
      "                  * \n",
      "* * * * * * * * * *  \n",
      "                  * \n"
     ]
    }
   ],
   "source": [
    "n = int(input(\"Enter your number:\"))\n",
    "for i in range(1, n + 1):\n",
    "    for j in range(1, n + 1):\n",
    "        if i % 2 != 0:\n",
    "            print(\"* \" * n, end = \" \")\n",
    "            break\n",
    "        else:\n",
    "            if j == n:\n",
    "                print(\"*\", end = \" \")\n",
    "            else:\n",
    "                print(\" \", end = \" \")\n",
    "    print()"
   ]
  },
  {
   "cell_type": "markdown",
   "id": "3ac656c8-e9bc-4440-86aa-45e30392badf",
   "metadata": {},
   "source": [
    "**Problem Statement 07:**  \n",
    "\n",
    "**Create a Python program to display the patterns using FOR LOOP:**  \n",
    "\n",
    "**If input = 5, print:**  \n",
    "\n",
    "**1**  \n",
    "\n",
    "**1 2**  \n",
    "\n",
    "**1 2 3**  \n",
    "\n",
    "**1 2 3 4**  \n",
    "\n",
    "**1 2 3 4 5**  "
   ]
  },
  {
   "cell_type": "code",
   "execution_count": 7,
   "id": "db3fc809-502b-419a-a2a7-945ae72b3096",
   "metadata": {},
   "outputs": [
    {
     "name": "stdin",
     "output_type": "stream",
     "text": [
      "Enter your number: 10\n"
     ]
    },
    {
     "name": "stdout",
     "output_type": "stream",
     "text": [
      "1 \n",
      "1 2 \n",
      "1 2 3 \n",
      "1 2 3 4 \n",
      "1 2 3 4 5 \n",
      "1 2 3 4 5 6 \n",
      "1 2 3 4 5 6 7 \n",
      "1 2 3 4 5 6 7 8 \n",
      "1 2 3 4 5 6 7 8 9 \n",
      "1 2 3 4 5 6 7 8 9 10 \n"
     ]
    }
   ],
   "source": [
    "n = int(input(\"Enter your number:\"))\n",
    "for i in range(1, n + 1):\n",
    "    for j in range(1, i + 1):\n",
    "        print(j, end = \" \")\n",
    "    print()"
   ]
  }
 ],
 "metadata": {
  "kernelspec": {
   "display_name": "Python 3 (ipykernel)",
   "language": "python",
   "name": "python3"
  },
  "language_info": {
   "codemirror_mode": {
    "name": "ipython",
    "version": 3
   },
   "file_extension": ".py",
   "mimetype": "text/x-python",
   "name": "python",
   "nbconvert_exporter": "python",
   "pygments_lexer": "ipython3",
   "version": "3.13.1"
  }
 },
 "nbformat": 4,
 "nbformat_minor": 5
}
