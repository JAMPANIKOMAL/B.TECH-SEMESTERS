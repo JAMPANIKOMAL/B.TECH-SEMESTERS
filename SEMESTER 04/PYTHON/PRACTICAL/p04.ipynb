{
 "cells": [
  {
   "cell_type": "markdown",
   "id": "c5c2d1dd-baf8-4de8-a1c5-83cd05ce465b",
   "metadata": {},
   "source": [
    "**Practical 03**"
   ]
  },
  {
   "cell_type": "markdown",
   "id": "a71f2c2e-f369-4434-ad41-88325b350398",
   "metadata": {},
   "source": [
    "**Problem Statement 01: \n",
    "You are building an e-commerce website, and you need to keep track of items in a user’s shopping cart. Implement the following:\\\n",
    "·        Create an empty list called shopping_cart.\\\n",
    "·        Allow the user to add items (product names) to the cart.\\\n",
    "·        Display the current items in the cart.\\\n",
    "·        Allow the user to remove items from the cart.\\\n",
    "·        Calculate the total number of items in the cart.**"
   ]
  },
  {
   "cell_type": "code",
   "execution_count": 1,
   "id": "e926c501-3865-4514-a19b-89df7618dc54",
   "metadata": {},
   "outputs": [
    {
     "name": "stdout",
     "output_type": "stream",
     "text": [
      "\n",
      "Slect your choice:\n",
      "1. View Available Products\n",
      "2. View your cart\n",
      "3. Add products to your cart\n",
      "4. Delete products from your cart\n",
      "5. Exit\n"
     ]
    },
    {
     "name": "stdin",
     "output_type": "stream",
     "text": [
      "Enter your choice: 1\n"
     ]
    },
    {
     "name": "stdout",
     "output_type": "stream",
     "text": [
      "\n",
      "1. Pen  2. Pencil  3. Eraser  4. Pencil Box  5. Sharpener  6. Compass  7. Divider  8. Small Scale  9. Large Scale  \n",
      "\n",
      "Slect your choice:\n",
      "1. View Available Products\n",
      "2. View your cart\n",
      "3. Add products to your cart\n",
      "4. Delete products from your cart\n",
      "5. Exit\n"
     ]
    },
    {
     "name": "stdin",
     "output_type": "stream",
     "text": [
      "Enter your choice: 2\n"
     ]
    },
    {
     "name": "stdout",
     "output_type": "stream",
     "text": [
      "\n",
      "Your Cart is Empty...\n",
      "\n",
      "\n",
      "Slect your choice:\n",
      "1. View Available Products\n",
      "2. View your cart\n",
      "3. Add products to your cart\n",
      "4. Delete products from your cart\n",
      "5. Exit\n"
     ]
    },
    {
     "name": "stdin",
     "output_type": "stream",
     "text": [
      "Enter your choice: 3\n"
     ]
    },
    {
     "name": "stdout",
     "output_type": "stream",
     "text": [
      "\n",
      "1. Pen  2. Pencil  3. Eraser  4. Pencil Box  5. Sharpener  6. Compass  7. Divider  8. Small Scale  9. Large Scale  "
     ]
    },
    {
     "name": "stdin",
     "output_type": "stream",
     "text": [
      "Enter the index of product from above to add to your cart: 1\n"
     ]
    },
    {
     "name": "stdout",
     "output_type": "stream",
     "text": [
      "Product added to your cart...\n",
      "\n",
      "Slect your choice:\n",
      "1. View Available Products\n",
      "2. View your cart\n",
      "3. Add products to your cart\n",
      "4. Delete products from your cart\n",
      "5. Exit\n"
     ]
    },
    {
     "name": "stdin",
     "output_type": "stream",
     "text": [
      "Enter your choice: 2\n"
     ]
    },
    {
     "name": "stdout",
     "output_type": "stream",
     "text": [
      "\n",
      "1. Pen  \n",
      "\n",
      "Slect your choice:\n",
      "1. View Available Products\n",
      "2. View your cart\n",
      "3. Add products to your cart\n",
      "4. Delete products from your cart\n",
      "5. Exit\n"
     ]
    },
    {
     "name": "stdin",
     "output_type": "stream",
     "text": [
      "Enter your choice: 4\n"
     ]
    },
    {
     "name": "stdout",
     "output_type": "stream",
     "text": [
      "\n",
      "1. Pen  "
     ]
    },
    {
     "name": "stdin",
     "output_type": "stream",
     "text": [
      "Enter the index of product from above to delete from your cart: 1\n"
     ]
    },
    {
     "name": "stdout",
     "output_type": "stream",
     "text": [
      "Product removed from your cart...\n",
      "\n",
      "Slect your choice:\n",
      "1. View Available Products\n",
      "2. View your cart\n",
      "3. Add products to your cart\n",
      "4. Delete products from your cart\n",
      "5. Exit\n"
     ]
    },
    {
     "name": "stdin",
     "output_type": "stream",
     "text": [
      "Enter your choice: 2\n"
     ]
    },
    {
     "name": "stdout",
     "output_type": "stream",
     "text": [
      "\n",
      "Your Cart is Empty...\n",
      "\n",
      "\n",
      "Slect your choice:\n",
      "1. View Available Products\n",
      "2. View your cart\n",
      "3. Add products to your cart\n",
      "4. Delete products from your cart\n",
      "5. Exit\n"
     ]
    },
    {
     "name": "stdin",
     "output_type": "stream",
     "text": [
      "Enter your choice: 5\n"
     ]
    },
    {
     "name": "stdout",
     "output_type": "stream",
     "text": [
      "Exiting...\n"
     ]
    }
   ],
   "source": [
    "shopping_cart = []\n",
    "product_names = [\"Pen\", \"Pencil\", \"Eraser\", \"Pencil Box\", \"Sharpener\", \"Compass\", \"Divider\", \"Small Scale\", \"Large Scale\"]\n",
    "\n",
    "choice = 0\n",
    "while True:\n",
    "    print(\"\\nSlect your choice:\")\n",
    "    print(\"1. View Available Products\")\n",
    "    print(\"2. View your cart\")\n",
    "    print(\"3. Add products to your cart\")\n",
    "    print(\"4. Delete products from your cart\")\n",
    "    print(\"5. Exit\")\n",
    "    choice = int(input(\"Enter your choice:\"))\n",
    "\n",
    "    if choice == 1:\n",
    "        print(\"\")\n",
    "        for i in range(len(product_names)):\n",
    "            print(f\"{i + 1}. {product_names[i]}\", end =\"  \")\n",
    "        print(\"\")\n",
    "\n",
    "    elif choice == 2:\n",
    "        print(\"\")\n",
    "        if len(shopping_cart) != 0:\n",
    "            for i in range(len(shopping_cart)):\n",
    "                print(f\"{i + 1}. {shopping_cart[i]}\", end =\"  \")\n",
    "        else:\n",
    "            print(\"Your Cart is Empty...\")\n",
    "        print(\"\")\n",
    "    \n",
    "    elif choice == 3:\n",
    "        print(\"\")\n",
    "        i = 0\n",
    "        for i in range(len(product_names)):\n",
    "            print(f\"{i + 1}. {product_names[i]}\", end =\"  \")\n",
    "        pid = int(input(\"Enter the index of product from above to add to your cart:\"))\n",
    "        shopping_cart.append(product_names[pid - 1])\n",
    "        print(\"Product added to your cart...\")\n",
    "    \n",
    "    elif choice == 4:\n",
    "        print(\"\")\n",
    "        if len(shopping_cart) != 0:\n",
    "            i = 0\n",
    "            for i in range(len(shopping_cart)):\n",
    "                print(f\"{i + 1}. {shopping_cart[i]}\", end =\"  \")\n",
    "            pid = int(input(\"Enter the index of product from above to delete from your cart:\"))\n",
    "            if i in range(len(shopping_cart)):\n",
    "                shopping_cart.remove(shopping_cart[pid - 1])\n",
    "                print(\"Product removed from your cart...\")\n",
    "            else:\n",
    "                print(\"Enter a valid index...\")\n",
    "        else:\n",
    "            print(\"Your cart is empty...\")\n",
    "\n",
    "    elif choice == 5:\n",
    "        print(\"Exiting...\")\n",
    "        break\n",
    "\n",
    "    else:\n",
    "        print(\"Enter a valid choice!\")"
   ]
  },
  {
   "cell_type": "markdown",
   "id": "443e1433-13f7-4b41-9a82-572eb6a0fd9e",
   "metadata": {},
   "source": [
    "<br/>\n",
    "\n",
    "**Problem Statement 02: \n",
    "You are building a student management system. Implement the following:\\\n",
    "·        Create a dictionary called student_records where each key is a student ID (e.g., roll number) and the student’s name, age, and grade value.\\\n",
    "·        Allow the user to add new student records.\\\n",
    "·        Display the details of a specific student given their ID.**"
   ]
  },
  {
   "cell_type": "code",
   "execution_count": 2,
   "id": "12c4e0fd-5a25-4f80-ae50-2303da176309",
   "metadata": {},
   "outputs": [
    {
     "name": "stdout",
     "output_type": "stream",
     "text": [
      "\n",
      "Slect your choice:\n",
      "1. View all Student Records\n",
      "2. View records of a specific student\n",
      "3. Add new student records\n",
      "4. Exit\n"
     ]
    },
    {
     "name": "stdin",
     "output_type": "stream",
     "text": [
      "Enter your choice: 1\n"
     ]
    },
    {
     "name": "stdout",
     "output_type": "stream",
     "text": [
      "\n",
      "Student 1:\n",
      "    Name: komal\n",
      "    Age: 19\n",
      "    Grade: 10\n",
      "\n",
      "Student 2:\n",
      "    Name: pavan\n",
      "    Age: 18\n",
      "    Grade: 9\n",
      "\n",
      "Student 3:\n",
      "    Name: sai\n",
      "    Age: 17\n",
      "    Grade: 8\n",
      "\n",
      "Slect your choice:\n",
      "1. View all Student Records\n",
      "2. View records of a specific student\n",
      "3. Add new student records\n",
      "4. Exit\n"
     ]
    },
    {
     "name": "stdin",
     "output_type": "stream",
     "text": [
      "Enter your choice: 2\n"
     ]
    },
    {
     "name": "stdout",
     "output_type": "stream",
     "text": [
      "\n"
     ]
    },
    {
     "name": "stdin",
     "output_type": "stream",
     "text": [
      "Enter the student id: 3\n"
     ]
    },
    {
     "name": "stdout",
     "output_type": "stream",
     "text": [
      "\n",
      "Student 3:\n",
      "    Name: sai\n",
      "    Age: 17\n",
      "    Grade: 8\n",
      "\n",
      "Slect your choice:\n",
      "1. View all Student Records\n",
      "2. View records of a specific student\n",
      "3. Add new student records\n",
      "4. Exit\n"
     ]
    },
    {
     "name": "stdin",
     "output_type": "stream",
     "text": [
      "Enter your choice: 3\n"
     ]
    },
    {
     "name": "stdout",
     "output_type": "stream",
     "text": [
      "\n"
     ]
    },
    {
     "name": "stdin",
     "output_type": "stream",
     "text": [
      "Enter the student id: 4\n",
      "Enter the name: nadh\n",
      "Enter the age: 17\n",
      "Enter the grade: 8\n"
     ]
    },
    {
     "name": "stdout",
     "output_type": "stream",
     "text": [
      "Student added successfully...\n",
      "\n",
      "Slect your choice:\n",
      "1. View all Student Records\n",
      "2. View records of a specific student\n",
      "3. Add new student records\n",
      "4. Exit\n"
     ]
    },
    {
     "name": "stdin",
     "output_type": "stream",
     "text": [
      "Enter your choice: 1\n"
     ]
    },
    {
     "name": "stdout",
     "output_type": "stream",
     "text": [
      "\n",
      "Student 1:\n",
      "    Name: komal\n",
      "    Age: 19\n",
      "    Grade: 10\n",
      "\n",
      "Student 2:\n",
      "    Name: pavan\n",
      "    Age: 18\n",
      "    Grade: 9\n",
      "\n",
      "Student 3:\n",
      "    Name: sai\n",
      "    Age: 17\n",
      "    Grade: 8\n",
      "\n",
      "Student 4:\n",
      "    Name: nadh\n",
      "    Age: 17\n",
      "    Grade: 8\n",
      "\n",
      "Slect your choice:\n",
      "1. View all Student Records\n",
      "2. View records of a specific student\n",
      "3. Add new student records\n",
      "4. Exit\n"
     ]
    },
    {
     "name": "stdin",
     "output_type": "stream",
     "text": [
      "Enter your choice: 2\n"
     ]
    },
    {
     "name": "stdout",
     "output_type": "stream",
     "text": [
      "\n"
     ]
    },
    {
     "name": "stdin",
     "output_type": "stream",
     "text": [
      "Enter the student id: 5\n"
     ]
    },
    {
     "name": "stdout",
     "output_type": "stream",
     "text": [
      "No records found...\n",
      "\n",
      "Slect your choice:\n",
      "1. View all Student Records\n",
      "2. View records of a specific student\n",
      "3. Add new student records\n",
      "4. Exit\n"
     ]
    },
    {
     "name": "stdin",
     "output_type": "stream",
     "text": [
      "Enter your choice: 3\n"
     ]
    },
    {
     "name": "stdout",
     "output_type": "stream",
     "text": [
      "\n"
     ]
    },
    {
     "name": "stdin",
     "output_type": "stream",
     "text": [
      "Enter the student id: 2\n"
     ]
    },
    {
     "name": "stdout",
     "output_type": "stream",
     "text": [
      "Student already exists...\n",
      "Student added successfully...\n",
      "\n",
      "Slect your choice:\n",
      "1. View all Student Records\n",
      "2. View records of a specific student\n",
      "3. Add new student records\n",
      "4. Exit\n"
     ]
    },
    {
     "name": "stdin",
     "output_type": "stream",
     "text": [
      "Enter your choice: 4\n"
     ]
    },
    {
     "name": "stdout",
     "output_type": "stream",
     "text": [
      "Exiting...\n"
     ]
    }
   ],
   "source": [
    "student_records = {1 : {\"name\" : \"komal\", \"age\" : 19, \"grade\" : 10}, 2 : {\"name\" : \"pavan\", \"age\" : 18, \"grade\" : 9}, 3 : {\"name\" : \"sai\", \"age\" : 17, \"grade\" : 8}}\n",
    "\n",
    "choice = 0\n",
    "while True:\n",
    "    print(\"\\nSlect your choice:\")\n",
    "    print(\"1. View all Student Records\")\n",
    "    print(\"2. View records of a specific student\")\n",
    "    print(\"3. Add new student records\")\n",
    "    print(\"4. Exit\")\n",
    "    choice = int(input(\"Enter your choice:\"))\n",
    "\n",
    "    if choice == 1:\n",
    "        for key, values in student_records.items():\n",
    "            print(f\"\\nStudent {key}:\")\n",
    "            print(f\"    Name: {values[\"name\"]}\")\n",
    "            print(f\"    Age: {values[\"age\"]}\")\n",
    "            print(f\"    Grade: {values[\"grade\"]}\")\n",
    "\n",
    "    elif choice == 2:\n",
    "        print(\"\")\n",
    "        sid = int(input(\"Enter the student id:\"))\n",
    "        if sid in student_records.keys():\n",
    "            print(f\"\\nStudent {sid}:\")\n",
    "            print(f\"    Name: {student_records[sid][\"name\"]}\")\n",
    "            print(f\"    Age: {student_records[sid][\"age\"]}\")\n",
    "            print(f\"    Grade: {student_records[sid][\"grade\"]}\")\n",
    "        else:\n",
    "            print(\"No records found...\")\n",
    "    \n",
    "    elif choice == 3:\n",
    "        print(\"\")\n",
    "        sid = int(input(\"Enter the student id:\"))\n",
    "        if sid in student_records.keys():\n",
    "            print(\"Student already exists...\")\n",
    "        else:\n",
    "            tname = input(\"Enter the name:\")\n",
    "            tage = int(input(\"Enter the age:\"))\n",
    "            tgrade = input(\"Enter the grade:\")\n",
    "            student_records[sid] = {\"name\" : tname, \"age\" : tage, \"grade\" : tgrade}\n",
    "            print(\"Student added successfully...\")\n",
    "\n",
    "    elif choice == 4:\n",
    "        print(\"Exiting...\")\n",
    "        break\n",
    "\n",
    "    else:\n",
    "        print(\"Enter a valid choice!\")"
   ]
  },
  {
   "cell_type": "markdown",
   "id": "b46518f5-ed47-4d25-a5dd-054a40caf908",
   "metadata": {},
   "source": [
    "<br/>\n",
    "\n",
    "**Problem Statement 03:\n",
    "You are developing a weather monitoring system. Implement the following:\\\n",
    "·        Collect temperature data for different cities.\\\n",
    "·        Store each city’s data as a tuple containing its name and average temperature.\\\n",
    "·        Display the temperature data for all cities.**"
   ]
  },
  {
   "cell_type": "code",
   "execution_count": 3,
   "id": "3372317a-6003-4ed6-b53b-84eb81b2004e",
   "metadata": {},
   "outputs": [
    {
     "name": "stdout",
     "output_type": "stream",
     "text": [
      "\n",
      "Slect your choice:\n",
      "1. View all Cities temperature data\n",
      "2. Add new City temperature data\n",
      "3. Exit\n"
     ]
    },
    {
     "name": "stdin",
     "output_type": "stream",
     "text": [
      "Enter your choice: 1\n"
     ]
    },
    {
     "name": "stdout",
     "output_type": "stream",
     "text": [
      "\n",
      "City : Gandhinagar, Average Temperature : 37\n",
      "\n",
      "City : Ahmedabad, Average Temperature : 39\n",
      "\n",
      "City : Surat:, Average Temperature : 42\n",
      "\n",
      "Slect your choice:\n",
      "1. View all Cities temperature data\n",
      "2. Add new City temperature data\n",
      "3. Exit\n"
     ]
    },
    {
     "name": "stdin",
     "output_type": "stream",
     "text": [
      "Enter your choice: 2\n"
     ]
    },
    {
     "name": "stdout",
     "output_type": "stream",
     "text": [
      "\n"
     ]
    },
    {
     "name": "stdin",
     "output_type": "stream",
     "text": [
      "Enter city name: Lavad\n",
      "Enter the average temparature: 39\n"
     ]
    },
    {
     "name": "stdout",
     "output_type": "stream",
     "text": [
      "City data added successfully...\n",
      "\n",
      "Slect your choice:\n",
      "1. View all Cities temperature data\n",
      "2. Add new City temperature data\n",
      "3. Exit\n"
     ]
    },
    {
     "name": "stdin",
     "output_type": "stream",
     "text": [
      "Enter your choice: 1\n"
     ]
    },
    {
     "name": "stdout",
     "output_type": "stream",
     "text": [
      "\n",
      "City : Gandhinagar, Average Temperature : 37\n",
      "\n",
      "City : Ahmedabad, Average Temperature : 39\n",
      "\n",
      "City : Surat:, Average Temperature : 42\n",
      "\n",
      "City : Lavad, Average Temperature : 39\n",
      "\n",
      "Slect your choice:\n",
      "1. View all Cities temperature data\n",
      "2. Add new City temperature data\n",
      "3. Exit\n"
     ]
    },
    {
     "name": "stdin",
     "output_type": "stream",
     "text": [
      "Enter your choice: 4\n"
     ]
    },
    {
     "name": "stdout",
     "output_type": "stream",
     "text": [
      "Exiting...\n"
     ]
    }
   ],
   "source": [
    "wmsd = {\"Gandhinagar\" : 37, \"Ahmedabad\" : 39, \"Surat:\" : 42}\n",
    "\n",
    "choice = 0\n",
    "while True:\n",
    "    print(\"\\nSlect your choice:\")\n",
    "    print(\"1. View all Cities temperature data\")\n",
    "    print(\"2. Add new City temperature data\")\n",
    "    print(\"3. Exit\")\n",
    "    choice = int(input(\"Enter your choice:\"))\n",
    "\n",
    "    if choice == 1:\n",
    "        for key, values in wmsd.items():\n",
    "            print(f\"\\nCity : {key}, Average Temperature : {values}\")\n",
    "    \n",
    "    elif choice == 2:\n",
    "        print(\"\")\n",
    "        cname = input(\"Enter city name:\")\n",
    "        if cname in wmsd.keys():\n",
    "            print(\"City data already exists...\")\n",
    "        else:\n",
    "            ttemp = input(\"Enter the average temparature:\")\n",
    "            wmsd[cname] = ttemp\n",
    "        print(\"City data added successfully...\")\n",
    "\n",
    "    elif choice == 4:\n",
    "        print(\"Exiting...\")\n",
    "        break\n",
    "\n",
    "    else:\n",
    "        print(\"Enter a valid choice!\")"
   ]
  }
 ],
 "metadata": {
  "kernelspec": {
   "display_name": "Python 3 (ipykernel)",
   "language": "python",
   "name": "python3"
  },
  "language_info": {
   "codemirror_mode": {
    "name": "ipython",
    "version": 3
   },
   "file_extension": ".py",
   "mimetype": "text/x-python",
   "name": "python",
   "nbconvert_exporter": "python",
   "pygments_lexer": "ipython3",
   "version": "3.13.1"
  }
 },
 "nbformat": 4,
 "nbformat_minor": 5
}
