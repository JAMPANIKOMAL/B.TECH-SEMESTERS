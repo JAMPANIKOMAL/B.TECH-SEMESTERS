{
 "cells": [
  {
   "cell_type": "markdown",
   "id": "c5c2d1dd-baf8-4de8-a1c5-83cd05ce465b",
   "metadata": {},
   "source": [
    "**Practical 07**"
   ]
  },
  {
   "cell_type": "markdown",
   "id": "a71f2c2e-f369-4434-ad41-88325b350398",
   "metadata": {},
   "source": [
    "**Problem Statement 01: \\\n",
    "Stock Price Variation Tracker: Write a function track_price_variation that takes a list of daily stock prices and returns a list of tuples. Each tuple should contain the day number (starting from 0), the price for that day, and the difference in price from the previous day. For the first day, the difference can be listed as None.**"
   ]
  },
  {
   "cell_type": "code",
   "execution_count": 1,
   "id": "d01614f6-76c2-4c84-90a2-f3a9d0420891",
   "metadata": {},
   "outputs": [
    {
     "name": "stdout",
     "output_type": "stream",
     "text": [
      "[(0, 200, 'None'), (1, 187, 13), (2, 213, -26), (3, 225, -12), (4, 227, -2), (5, 210, 17)]\n"
     ]
    }
   ],
   "source": [
    "def track_price_variation(l):\n",
    "    rl = []\n",
    "    for i in range(len(l)):\n",
    "        d = (i,)\n",
    "        p = (l[i],)\n",
    "        if i == 0:\n",
    "            dp = (\"None\",)\n",
    "        else:\n",
    "            dp = (l[i - 1] - l[i],)\n",
    "        tt = d + p + dp\n",
    "        rl.append(tt)\n",
    "    return rl\n",
    "\n",
    "l = [200, 187, 213, 225, 227, 210]\n",
    "rl = track_price_variation(l)\n",
    "print(rl)"
   ]
  },
  {
   "cell_type": "markdown",
   "id": "e431d049-955b-43f5-aca5-aa73b967938d",
   "metadata": {},
   "source": [
    "**Problem Statement 02: \\\n",
    "Todo List Manager: Create a function to manage Todo that takes a list of to-do items and a command (‘add’, ‘remove’, ‘complete’) and modifies the list based on the command.**"
   ]
  },
  {
   "cell_type": "code",
   "execution_count": 2,
   "id": "f82e7ed0-a0ca-4627-8e75-12e70e996af4",
   "metadata": {},
   "outputs": [
    {
     "name": "stdout",
     "output_type": "stream",
     "text": [
      "['read', 'write', 'sleep', 'eat', 'brush']\n",
      "['read', 'write', 'sleep', 'brush']\n",
      "['read', 'write', 'sleep', 'brush[Completed]']\n"
     ]
    }
   ],
   "source": [
    "def todo_manager(command, l):\n",
    "    c = command.lower()\n",
    "    if c == \"add\":\n",
    "        t = input(\"Input the task to be added:\")\n",
    "        l.append(t)\n",
    "    elif c == \"remove\":\n",
    "        t = input(\"Input the task to be removed:\")\n",
    "        l.remove(t)\n",
    "    elif c == \"complete\":\n",
    "        t = input(\"Input the task to be marked completed:\")\n",
    "        l.remove(t)\n",
    "        t += \"[Completed]\"\n",
    "        l.append(t)\n",
    "    return l\n",
    "\n",
    "l = [\"read\", \"write\", \"sleep\", \"eat\"]\n",
    "print(todo_manager(\"add\", l))\n",
    "print(todo_manager(\"remove\", l))\n",
    "print(todo_manager(\"complete\", l))"
   ]
  },
  {
   "cell_type": "markdown",
   "id": "aca0ddb9-f10b-42ab-8baf-f863f83dc23c",
   "metadata": {},
   "source": [
    "**Problem Statement 03: \\\n",
    "Book Collection Sorter: Write a function to sort books. It should take a list of book titles and sort them by the length of the title, with the shortest title first.**"
   ]
  },
  {
   "cell_type": "code",
   "execution_count": 3,
   "id": "e71dbd16-e83b-4086-9d51-e95037adaea9",
   "metadata": {},
   "outputs": [
    {
     "name": "stdout",
     "output_type": "stream",
     "text": [
      "Original List:\n",
      "['Python Programming: Using Problem Solving Approach by Reema Tharej', 'Python Programming - Learn & Practice by, Swapnil Saurav', 'Python Programming: A Complete Guide for Beginners to Master, Python Programming Language by Brian Draper', \"Roger S. Pressman, Software Engineering: a practitioner's approach 8th Edition, McGraw Hill\", 'Rajib Mall, Fundamentals of Software Engineering, Prentice Hall India', 'Pankaj Jalote, An integrated approach to Software Engineering by Springer', 'Ian Sommerville, Software Engineering, Addision and Wesley', 'Cryptography theory and practice, by D. R. Stinson', 'Handbook of applied cryptography, by A. Menezes, P. V. Oorschot, and S. Vanstone', 'Introduction to modern cryptography, by J. Katz and Y. Lindell', 'The foundations of cryptography (Volume I), by O. Goldreich', 'A graduate course in applied cryptography, by D. Boneh and V. Shoup', 'Lecture notes on cryptography, by S. Goldwasser and M. Bellare', 'Handout for basic probability by Luca Trevisa', 'Handout for probability by Boaz Barak', 'Handout for Algebra by Luca Trevisan']\n",
      "\n",
      "Sorted list:\n",
      "['Handout for Algebra by Luca Trevisan', 'Handout for probability by Boaz Barak', 'Handout for basic probability by Luca Trevisa', 'Cryptography theory and practice, by D. R. Stinson', 'Python Programming - Learn & Practice by, Swapnil Saurav', 'Ian Sommerville, Software Engineering, Addision and Wesley', 'The foundations of cryptography (Volume I), by O. Goldreich', 'Introduction to modern cryptography, by J. Katz and Y. Lindell', 'Lecture notes on cryptography, by S. Goldwasser and M. Bellare', 'Python Programming: Using Problem Solving Approach by Reema Tharej', 'A graduate course in applied cryptography, by D. Boneh and V. Shoup', 'Rajib Mall, Fundamentals of Software Engineering, Prentice Hall India', 'Pankaj Jalote, An integrated approach to Software Engineering by Springer', 'Handbook of applied cryptography, by A. Menezes, P. V. Oorschot, and S. Vanstone', \"Roger S. Pressman, Software Engineering: a practitioner's approach 8th Edition, McGraw Hill\", 'Python Programming: A Complete Guide for Beginners to Master, Python Programming Language by Brian Draper']\n"
     ]
    }
   ],
   "source": [
    "def books_sorter(l):\n",
    "    sl = sorted(l, key = len)\n",
    "    return sl\n",
    "    \n",
    "books = [\"Python Programming: Using Problem Solving Approach by Reema Tharej\", \"Python Programming - Learn & Practice by, Swapnil Saurav\", \"Python Programming: A Complete Guide for Beginners to Master, Python Programming Language by Brian Draper\", \"Roger S. Pressman, Software Engineering: a practitioner's approach 8th Edition, McGraw Hill\", \"Rajib Mall, Fundamentals of Software Engineering, Prentice Hall India\", \"Pankaj Jalote, An integrated approach to Software Engineering by Springer\", \"Ian Sommerville, Software Engineering, Addision and Wesley\", \"Cryptography theory and practice, by D. R. Stinson\", \"Handbook of applied cryptography, by A. Menezes, P. V. Oorschot, and S. Vanstone\", \"Introduction to modern cryptography, by J. Katz and Y. Lindell\", \"The foundations of cryptography (Volume I), by O. Goldreich\", \"A graduate course in applied cryptography, by D. Boneh and V. Shoup\", \"Lecture notes on cryptography, by S. Goldwasser and M. Bellare\", \"Handout for basic probability by Luca Trevisa\", \"Handout for probability by Boaz Barak\", \"Handout for Algebra by Luca Trevisan\"]\n",
    "print(\"Original List:\")\n",
    "print(books)\n",
    "\n",
    "print(\"\\nSorted list:\")\n",
    "print(books_sorter(books))"
   ]
  },
  {
   "cell_type": "markdown",
   "id": "f5d7e14d-42ae-42f8-acee-42c97e7c785e",
   "metadata": {},
   "source": [
    "**Problem Statement 04: \\\n",
    "Duplicate Finder: Implement a function to find duplicates that take a list of numbers and returns a list of all numbers that appear more than once.**"
   ]
  },
  {
   "cell_type": "code",
   "execution_count": 4,
   "id": "a91bf28d-0b64-487f-93e7-0c8e20217814",
   "metadata": {},
   "outputs": [
    {
     "name": "stdout",
     "output_type": "stream",
     "text": [
      "Original List:\n",
      "[1, 2, 1, 6, 3, 8, 4, 8, 1, 9, 1, 4, 0]\n",
      "\n",
      "Duplicate number's list:\n",
      "[8, 1, 4]\n"
     ]
    }
   ],
   "source": [
    "def dup_fin(l):\n",
    "    nl = []\n",
    "    for i in range(len(l)):\n",
    "        if l[i] in l[i + 1 : ]:\n",
    "            nl.append(l[i])\n",
    "    nl = set(nl)\n",
    "    nl = list(nl)\n",
    "    return nl\n",
    "\n",
    "l = [1, 2, 1, 6, 3, 8, 4, 8, 1, 9, 1, 4, 0]\n",
    "print(\"Original List:\")\n",
    "print(l)\n",
    "\n",
    "print(\"\\nDuplicate number's list:\")\n",
    "print(dup_fin(l))"
   ]
  },
  {
   "cell_type": "markdown",
   "id": "8b0310a0-7c2d-4495-9031-a40d67af1edd",
   "metadata": {},
   "source": [
    "**Problem Statement 05: \\\n",
    "Data Normalizer: Write a function to normalize data that takes a list of numbers and normalizes them so that the numbers range from 0 to 1 (inclusive).\\\n",
    "XNew = (X - X_min) / (X_max - X_min).**"
   ]
  },
  {
   "cell_type": "code",
   "execution_count": 5,
   "id": "12c412f4-39cf-48e6-951c-0b1f1ce36cf2",
   "metadata": {},
   "outputs": [
    {
     "name": "stdout",
     "output_type": "stream",
     "text": [
      "Original List:\n",
      "[11, 25, 13, 69, 33, 81, 49, 82, 12, 90, 18, 43, 10]\n",
      "\n",
      "Normalised list:\n",
      "[0.0125, 0.1875, 0.0375, 0.7375, 0.2875, 0.8875, 0.4875, 0.9, 0.025, 1.0, 0.1, 0.4125, 0.0]\n"
     ]
    }
   ],
   "source": [
    "def dat_nor(l):\n",
    "    nl = []\n",
    "    maxn = max(l)\n",
    "    minn = min(l)\n",
    "    d = maxn - minn\n",
    "    for i in l:\n",
    "        ni = (i - minn) / d\n",
    "        nl.append(ni)\n",
    "    return nl\n",
    "\n",
    "l = [11, 25, 13, 69, 33, 81, 49, 82, 12, 90, 18, 43, 10]\n",
    "print(\"Original List:\")\n",
    "print(l)\n",
    "\n",
    "print(\"\\nNormalised list:\")\n",
    "print(dat_nor(l))"
   ]
  },
  {
   "cell_type": "markdown",
   "id": "8af3f5cf-96a5-4cc4-a976-3fefe5f2896f",
   "metadata": {},
   "source": [
    "**Problem Statement 06: \\\n",
    "Reversing a Sentence: You are building a text editor application, and one of the features you want to implement is sentence reversal.**"
   ]
  },
  {
   "cell_type": "code",
   "execution_count": 6,
   "id": "259bf7f5-3f12-4ea0-a3b0-b3a88d486cdc",
   "metadata": {},
   "outputs": [
    {
     "name": "stdout",
     "output_type": "stream",
     "text": [
      "lamoK si eman yM\n"
     ]
    }
   ],
   "source": [
    "def sen_rev(s):\n",
    "    rs = s[::-1]\n",
    "    return rs\n",
    "\n",
    "sen = \"My name is Komal\"\n",
    "rsen = sen_rev(sen)\n",
    "print(rsen)"
   ]
  }
 ],
 "metadata": {
  "kernelspec": {
   "display_name": "Python 3 (ipykernel)",
   "language": "python",
   "name": "python3"
  },
  "language_info": {
   "codemirror_mode": {
    "name": "ipython",
    "version": 3
   },
   "file_extension": ".py",
   "mimetype": "text/x-python",
   "name": "python",
   "nbconvert_exporter": "python",
   "pygments_lexer": "ipython3",
   "version": "3.13.1"
  }
 },
 "nbformat": 4,
 "nbformat_minor": 5
}
