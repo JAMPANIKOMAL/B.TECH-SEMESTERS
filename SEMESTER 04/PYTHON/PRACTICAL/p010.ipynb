{
 "cells": [
  {
   "cell_type": "markdown",
   "id": "c5c2d1dd-baf8-4de8-a1c5-83cd05ce465b",
   "metadata": {},
   "source": [
    "**Practical 010**"
   ]
  },
  {
   "cell_type": "markdown",
   "id": "a71f2c2e-f369-4434-ad41-88325b350398",
   "metadata": {},
   "source": [
    "**Problem Statement 01: <br/>\n",
    "Text Analysis and Word Counting <br/> You are tasked with analyzing a given text document and generating a report containing the word count for each unique word. Additionally, you need to identify the most frequent word in the document. Write a Python function analyze_text(text) that takes a text document as input and returns a dictionary containing the word count for each unique word, as well as the most frequent word and its count.**"
   ]
  },
  {
   "cell_type": "code",
   "execution_count": 1,
   "id": "165ede42-4b3f-4eff-8920-0fbd88137027",
   "metadata": {},
   "outputs": [
    {
     "name": "stdout",
     "output_type": "stream",
     "text": [
      "{'Unique words': {'i': 2, 'scream,': 3, 'you': 2, 'we': 2, 'all': 2, 'scream': 2, 'for': 2, 'an': 2, 'ice': 2, 'cream.': 2}, 'Frequent word': 'cream.'}\n"
     ]
    }
   ],
   "source": [
    "def analyze_text(t):\n",
    "    f = open(t, \"r\")\n",
    "    s = f.read()\n",
    "    s = s.lower()\n",
    "    ss = s.split()\n",
    "    du = {}\n",
    "    for i in ss:\n",
    "        du[i] = du.get(i, 1) + 1\n",
    "\n",
    "    d = {}\n",
    "    d[\"Unique words\"] = du\n",
    "    \n",
    "    i = 0\n",
    "    fw = \"\"\n",
    "    \n",
    "    for k, v in du.items():\n",
    "        if v > i:\n",
    "            fw = k\n",
    "            \n",
    "    dfw = {fw : i}\n",
    "    d[\"Frequent word\"] = fw\n",
    "    f.close()\n",
    "    \n",
    "    return d\n",
    "\n",
    "filename = r\"C:\\JAMPANI KOMAL\\RRU\\B.TECH-SEMESTERS\\SEMESTER 04\\PYTHON\\PRACTICAL\\p010\\1.txt\"\n",
    "dict = analyze_text(filename)\n",
    "print(dict)"
   ]
  },
  {
   "cell_type": "markdown",
   "id": "e431d049-955b-43f5-aca5-aa73b967938d",
   "metadata": {},
   "source": [
    "**Problem Statement 02: <br/>\n",
    "Text Encryption and Decryption <br/> You're tasked with creating a simple encryption and decryption tool for sensitive messages. Write Python functions encrypt_message (message, shift) and decrypt_message (encrypted_message, shift) to encrypt and decrypt messages using the Caesar cipher technique.**"
   ]
  },
  {
   "cell_type": "code",
   "execution_count": 2,
   "id": "48ef29b7-bc4b-4d99-b7fa-b08b5cfbe162",
   "metadata": {},
   "outputs": [
    {
     "name": "stdin",
     "output_type": "stream",
     "text": [
      "Enter your message:  My name is Billa..\n",
      "Enter your shift:  6\n"
     ]
    },
    {
     "name": "stdout",
     "output_type": "stream",
     "text": [
      "Encrypted Message:  S&tgsk&oy&Horrg44\n",
      "Decrypted Message:  My name is Billa..\n"
     ]
    }
   ],
   "source": [
    "def encrypt_message (message, shift):\n",
    "    pt = message\n",
    "    key = shift\n",
    "    ct = \"\"\n",
    "    for x in pt:\n",
    "        ct = ct + chr((ord(x) + key))\n",
    "    return ct\n",
    "\n",
    "def decrypt_message (encrypted_message, shift):\n",
    "    ct = encrypted_message\n",
    "    key = shift\n",
    "    pt = \"\"\n",
    "    for x in ct:\n",
    "        pt = pt + chr((ord(x) - key))\n",
    "    return pt\n",
    "\n",
    "message = str(input(\"Enter your message: \"))\n",
    "shift = int(input(\"Enter your shift: \"))\n",
    "\n",
    "encrypted_message = encrypt_message(message, shift)\n",
    "print(\"Encrypted Message: \", encrypted_message)\n",
    "\n",
    "decrypted_message = decrypt_message(encrypted_message, shift)\n",
    "print(\"Decrypted Message: \", decrypted_message)"
   ]
  },
  {
   "cell_type": "markdown",
   "id": "aca0ddb9-f10b-42ab-8baf-f863f83dc23c",
   "metadata": {},
   "source": [
    "**Problem Statement 03: <br/>\n",
    "Unique Email Addresses <br/> You're given a list of email addresses where each address consists of a local name and a domain name separated by the '@' symbol. You need to determine the number of unique email domains.**"
   ]
  },
  {
   "cell_type": "code",
   "execution_count": 3,
   "id": "f9cc0de3-70d8-4720-859d-099eedcfd15d",
   "metadata": {},
   "outputs": [
    {
     "name": "stdout",
     "output_type": "stream",
     "text": [
      "[['komal', 'gmail.com'], ['pavan123', 'outlook.com'], ['23bcscs054', 'student.rru.ac.in'], ['mudit', 'gmail.com'], ['jampani', 'gmail.com'], ['tejas', 'hotmail.com'], ['aashutosh', 'gmail.com']]\n",
      "{'gmail.com': 5, 'outlook.com': 2, 'student.rru.ac.in': 2, 'hotmail.com': 2}\n"
     ]
    }
   ],
   "source": [
    "l = [\"komal@gmail.com\", \"pavan123@outlook.com\", \"23bcscs054@student.rru.ac.in\", \"mudit@gmail.com\", \"jampani@gmail.com\", \"tejas@hotmail.com\", \"aashutosh@gmail.com\"]\n",
    "cl = l\n",
    "\n",
    "sl = []\n",
    "\n",
    "for i in cl:\n",
    "    sl.append(i.split(\"@\"))\n",
    "\n",
    "d = {}\n",
    "for i in sl:\n",
    "    d[i[1]] = d.get(i[1], 1) + 1\n",
    "\n",
    "print(sl)\n",
    "print(d)"
   ]
  }
 ],
 "metadata": {
  "kernelspec": {
   "display_name": "Python 3 (ipykernel)",
   "language": "python",
   "name": "python3"
  },
  "language_info": {
   "codemirror_mode": {
    "name": "ipython",
    "version": 3
   },
   "file_extension": ".py",
   "mimetype": "text/x-python",
   "name": "python",
   "nbconvert_exporter": "python",
   "pygments_lexer": "ipython3",
   "version": "3.13.2"
  }
 },
 "nbformat": 4,
 "nbformat_minor": 5
}
