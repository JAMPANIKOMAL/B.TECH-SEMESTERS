{
 "cells": [
  {
   "cell_type": "markdown",
   "id": "c5c2d1dd-baf8-4de8-a1c5-83cd05ce465b",
   "metadata": {},
   "source": [
    "**Practical 010**"
   ]
  },
  {
   "cell_type": "markdown",
   "id": "a71f2c2e-f369-4434-ad41-88325b350398",
   "metadata": {},
   "source": [
    "**Problem Statement 01: <br/>\n",
    "Text Analysis and Word Counting <br/> You are tasked with analyzing a given text document and generating a report containing the word count for each unique word. Additionally, you need to identify the most frequent word in the document. Write a Python function analyze_text(text) that takes a text document as input and returns a dictionary containing the word count for each unique word, as well as the most frequent word and its count.**"
   ]
  },
  {
   "cell_type": "markdown",
   "id": "e431d049-955b-43f5-aca5-aa73b967938d",
   "metadata": {},
   "source": [
    "**Problem Statement 02: <br/>\n",
    "Text Encryption and Decryption <br/> You're tasked with creating a simple encryption and decryption tool for sensitive messages. Write Python functions encrypt_message (message, shift) and decrypt_message (encrypted_message, shift) to encrypt and decrypt messages using the Caesar cipher technique.**"
   ]
  },
  {
   "cell_type": "markdown",
   "id": "aca0ddb9-f10b-42ab-8baf-f863f83dc23c",
   "metadata": {},
   "source": [
    "**Problem Statement 03: <br/>\n",
    "Unique Email Addresses <br/> You're given a list of email addresses where each address consists of a local name and a domain name separated by the '@' symbol. You need to determine the number of unique email domains.**"
   ]
  }
 ],
 "metadata": {
  "kernelspec": {
   "display_name": "Python 3 (ipykernel)",
   "language": "python",
   "name": "python3"
  },
  "language_info": {
   "codemirror_mode": {
    "name": "ipython",
    "version": 3
   },
   "file_extension": ".py",
   "mimetype": "text/x-python",
   "name": "python",
   "nbconvert_exporter": "python",
   "pygments_lexer": "ipython3",
   "version": "3.13.2"
  }
 },
 "nbformat": 4,
 "nbformat_minor": 5
}
