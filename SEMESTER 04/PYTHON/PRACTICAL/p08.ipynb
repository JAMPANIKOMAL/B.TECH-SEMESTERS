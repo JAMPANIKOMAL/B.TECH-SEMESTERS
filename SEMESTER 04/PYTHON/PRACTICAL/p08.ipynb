{
 "cells": [
  {
   "cell_type": "markdown",
   "id": "c5c2d1dd-baf8-4de8-a1c5-83cd05ce465b",
   "metadata": {},
   "source": [
    "**Practical 07**"
   ]
  },
  {
   "cell_type": "markdown",
   "id": "a71f2c2e-f369-4434-ad41-88325b350398",
   "metadata": {},
   "source": [
    "**Problem Statement 01: \\\n",
    "You are building a word game. Write a function that checks whether two given strings are anagrams (contain the same letters, ignoring spaces and capitalization). <br/> Test cases: <br/> (\"listen\", \"silent\") --> Output: True <br/> (\"hello\", \"world\") --> Output: False.**"
   ]
  },
  {
   "cell_type": "code",
   "execution_count": null,
   "id": "a65977cf",
   "metadata": {},
   "outputs": [],
   "source": [
    "def wordgame(a, b):\n",
    "    nsa = a.replace(\" \", \"\")\n",
    "    nsb = b.replace(\" \", \"\")\n",
    "\n",
    "    nsla = nsa.lower()\n",
    "    nslb = nsb.lower()\n",
    "\n",
    "    la = list(nsla)\n",
    "    lb = list(nslb)\n",
    "\n",
    "    la.sort()\n",
    "    lb.sort()\n",
    "\n",
    "    if la == lb:\n",
    "        return True\n",
    "    else:\n",
    "        return False\n",
    "\n",
    "a = input(\"Input your first word:\")\n",
    "b = input(\"Input your second word:\")\n",
    "\n",
    "r = wordgame(a, b)\n",
    "\n",
    "print(r)"
   ]
  },
  {
   "cell_type": "markdown",
   "id": "e431d049-955b-43f5-aca5-aa73b967938d",
   "metadata": {},
   "source": [
    "**Problem Statement 02: \\\n",
    "You are working on a code formatter. Write a function that converts a given CamelCase string to snake_case (all lowercase with underscores). <br/> Test case: <br/> (\"CamelCaseExample\") --> Output: \"camel_case_example\".**"
   ]
  },
  {
   "cell_type": "code",
   "execution_count": null,
   "id": "3294790a",
   "metadata": {},
   "outputs": [],
   "source": [
    "def tosnakecase(a):\n",
    "    alphastr = \"ABCDEFGHIJKLMNOPQRSTUVWXYZ\"\n",
    "    sa = a[0].lower()\n",
    "    for i in a[1:]:\n",
    "        if i in alphastr:\n",
    "            sa += \"_\"\n",
    "        sa += i.lower()\n",
    "\n",
    "    return sa\n",
    "\n",
    "ca = input(\"Input your CamelCase:\")\n",
    "sa = tosnakecase(ca)\n",
    "print(\"snake_case:\", sa)"
   ]
  },
  {
   "cell_type": "markdown",
   "id": "aca0ddb9-f10b-42ab-8baf-f863f83dc23c",
   "metadata": {},
   "source": [
    "**Problem Statement 03: \\\n",
    "You are building a user registration system. Write a function that checks whether a given password meets the following criteria: <br/> 1. At least 8 characters long <br/> 2. Contains at least one uppercase letter <br/> 3. Contains at least one lowercase letter <br/> 4. Contains at least one digit.**"
   ]
  },
  {
   "cell_type": "code",
   "execution_count": null,
   "id": "fbccc056",
   "metadata": {},
   "outputs": [],
   "source": [
    "def passwordchecker(p):\n",
    "    calphastr = \"ABCDEFGHIJKLMNOPQRSTUVWXYZ\"\n",
    "    salphastr = \"abcdefghijklmnopqrstuvwxyz\"\n",
    "    digstr = \"1234567890\"\n",
    "\n",
    "    cf = sf = df = False\n",
    "    for i in p:\n",
    "        if i in calphastr:\n",
    "            cf = True\n",
    "        elif i in salphastr:\n",
    "            sf = True\n",
    "        elif i in digstr:\n",
    "            df = True\n",
    "    \n",
    "    if len(p) > 8 and cf == True and sf == True and df == True:\n",
    "        print(\"Passowrd meets our criteria!\")\n",
    "    else:\n",
    "        print(\"Passowrd does not meet our criteria!\")\n",
    "    \n",
    "p = input(\"Input your password:\")\n",
    "passwordchecker(p)"
   ]
  },
  {
   "cell_type": "markdown",
   "id": "f5d7e14d-42ae-42f8-acee-42c97e7c785e",
   "metadata": {},
   "source": [
    "**Problem Statement 04: \\\n",
    "You are working on a text manipulation tool that requires rotating words in a sentence. Implement a Python function rotate_sentence(sentence, n) that takes a sentence and an integer n as input and rotates each word in the sentence by n positions to the right. <br/> Test case: <br/> rotating \"Hello World\" by 1 position results in \"World Hello\".**"
   ]
  },
  {
   "cell_type": "code",
   "execution_count": null,
   "id": "1a277018",
   "metadata": {},
   "outputs": [],
   "source": [
    "def sentencerotater(s, n):\n",
    "    ls = s.split()\n",
    "    for i in range(n):\n",
    "        t = ls.pop(0)\n",
    "        ls.append(t)\n",
    "    rs = \" \".join(ls)\n",
    "    return rs\n",
    "\n",
    "sen = input(\"Input your sentence:\")\n",
    "n = int(input(\"Input number of positions:\"))\n",
    "rsen = sentencerotater(sen, n)\n",
    "print(\"Rotated sentence:\", rsen)"
   ]
  },
  {
   "cell_type": "markdown",
   "id": "8b0310a0-7c2d-4495-9031-a40d67af1edd",
   "metadata": {},
   "source": [
    "**Problem Statement 05: \\\n",
    "You are working on a text processing tool and need to determine whether a given string is a palindrome. Write a Python function is_palindrome(word) that takes a word as input and returns True if it is a palindrome, otherwise False..**"
   ]
  },
  {
   "cell_type": "code",
   "execution_count": null,
   "id": "6a1be970",
   "metadata": {},
   "outputs": [],
   "source": [
    "def is_palindrome(w):\n",
    "    lw = w.lower()\n",
    "    slw = lw.replace(\" \", \"\")\n",
    "    rslw = slw[::-1]\n",
    "\n",
    "    if slw == rslw:\n",
    "        return True\n",
    "    else:\n",
    "        return False\n",
    "\n",
    "w = input(\"Input your word:\")\n",
    "r = is_palindrome(w)\n",
    "\n",
    "if r:\n",
    "    print(\"Is a palindrome.\")\n",
    "else:\n",
    "    print(\"Is not a palindrome.\")"
   ]
  }
 ],
 "metadata": {
  "kernelspec": {
   "display_name": "Python 3",
   "language": "python",
   "name": "python3"
  },
  "language_info": {
   "codemirror_mode": {
    "name": "ipython",
    "version": 3
   },
   "file_extension": ".py",
   "mimetype": "text/x-python",
   "name": "python",
   "nbconvert_exporter": "python",
   "pygments_lexer": "ipython3",
   "version": "3.13.2"
  }
 },
 "nbformat": 4,
 "nbformat_minor": 5
}
