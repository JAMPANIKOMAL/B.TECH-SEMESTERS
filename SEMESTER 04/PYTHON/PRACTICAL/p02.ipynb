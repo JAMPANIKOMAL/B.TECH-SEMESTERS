{
 "cells": [
  {
   "cell_type": "markdown",
   "id": "c5c2d1dd-baf8-4de8-a1c5-83cd05ce465b",
   "metadata": {},
   "source": [
    "**Practical 02**"
   ]
  },
  {
   "cell_type": "markdown",
   "id": "a71f2c2e-f369-4434-ad41-88325b350398",
   "metadata": {},
   "source": [
    "**Problem Statement 01: You are working in a loan approval section of a bank; you need to create a Python script for \"printing loan approval or not\" from the following criteria. (AGE SHOULD BE GREATER THAN 18, SALARY SHOULD BE NO LESS THAN 4 LAKHS, AND CREDIT SCORE SHOULD BE NO LESS THAN 600).**"
   ]
  },
  {
   "cell_type": "code",
   "execution_count": 1,
   "id": "22de7144-c8e1-4181-9735-ca0fac35cc93",
   "metadata": {},
   "outputs": [
    {
     "name": "stdout",
     "output_type": "stream",
     "text": [
      "Fill the following form for loan\n"
     ]
    },
    {
     "name": "stdin",
     "output_type": "stream",
     "text": [
      "Name: Komal\n",
      "Age: 19\n",
      "Salary (in lakhs): 0\n",
      "Credit Score: 0\n"
     ]
    },
    {
     "name": "stdout",
     "output_type": "stream",
     "text": [
      "\n",
      "Loan not Approved\n"
     ]
    }
   ],
   "source": [
    "print(\"Fill the following form for loan\")\n",
    "name = input(\"Name:\")\n",
    "age = int(input(\"Age:\"))\n",
    "salary = int(input(\"Salary (in lakhs):\"))\n",
    "credit_score = int(input(\"Credit Score:\"))\n",
    "\n",
    "if age > 18 and salary >= 4 and credit_score > 600:\n",
    "    print(\"\\nLoan Approved\")\n",
    "else:\n",
    "    print(\"\\nLoan not Approved\")"
   ]
  },
  {
   "cell_type": "markdown",
   "id": "443e1433-13f7-4b41-9a82-572eb6a0fd9e",
   "metadata": {},
   "source": [
    "<br/>\n",
    "\n",
    "**Problem Statement 02: You are working in a weather monitoring station. create a Python script to read temperature from the user and convert it from Celsius to Fahrenheit or vice versa after that print weather is frizzing, cold, moderate, or hot.**"
   ]
  },
  {
   "cell_type": "code",
   "execution_count": 2,
   "id": "42da4b81-db55-4c93-82e5-060c02824f5b",
   "metadata": {},
   "outputs": [
    {
     "name": "stdin",
     "output_type": "stream",
     "text": [
      "Enter C for Celsius and F for Fahrenheit and E to exit: c\n",
      "Enter temperature in Celsius 37\n"
     ]
    },
    {
     "name": "stdout",
     "output_type": "stream",
     "text": [
      "Temperature in Fahrenheit = (99, 2)\n",
      "The temperature is Hot\n"
     ]
    }
   ],
   "source": [
    "temp = 0.0\n",
    "ctemp = 0.0\n",
    "c1 = \"\"\n",
    "\n",
    "while True:\n",
    "    c1 = input(\"Enter C for Celsius and F for Fahrenheit and E to exit:\")\n",
    "    \n",
    "    if c1 == \"C\" or c1 == \"c\":\n",
    "        temp = float(input(\"Enter temperature in Celsius\"))\n",
    "        ftemp = (round((temp * (9 / 5)) + 32), 2)\n",
    "        print(\"Temperature in Fahrenheit =\", ftemp)\n",
    "        break\n",
    "    \n",
    "    elif c1 == \"F\" or c1 == \"f\":\n",
    "        temp = float(input(\"Enter temperature in Fahrenheit\"))\n",
    "        ctemp = round(((temp  - 32) * (5 / 9)), 2)\n",
    "        print(\"Temperature in Celsius =\", ctemp)\n",
    "        break\n",
    "        \n",
    "    elif c1 == \"E\" or c1 == \"e\":\n",
    "        print(\"Exiting...\")\n",
    "        break\n",
    "    \n",
    "    else:\n",
    "        print(\"Enter correct character!\")\n",
    "\n",
    "if ctemp == 0.0:\n",
    "    ctemp = temp\n",
    "\n",
    "if ctemp <= 0:\n",
    "    print(\"The temperature is Freezing\")\n",
    "    \n",
    "elif 0 < ctemp <= 15:\n",
    "    print(\"The temperature is Cold\")\n",
    "\n",
    "elif 15 < ctemp <= 30:\n",
    "    print(\"The temperature is Moderate\")\n",
    "\n",
    "else:\n",
    "    print(\"The temperature is Hot\")"
   ]
  },
  {
   "cell_type": "markdown",
   "id": "b46518f5-ed47-4d25-a5dd-054a40caf908",
   "metadata": {},
   "source": [
    "<br/>\n",
    "\n",
    "**Problem Statement 03: Write a Python script for displaying whether the given year is a leap year from THE given condition. (THE YEAR SHOULD BE DIVISIBLE BY 4, IF THE YEAR IS DIVISIBLE BY 100 THEN IT SHOULD BE DIVISIBLE BY 400).**"
   ]
  },
  {
   "cell_type": "code",
   "execution_count": 3,
   "id": "d3386434-f1fd-4cd6-9f12-6d2ffaa43295",
   "metadata": {},
   "outputs": [
    {
     "name": "stdin",
     "output_type": "stream",
     "text": [
      "Enter your year: 2005\n"
     ]
    },
    {
     "name": "stdout",
     "output_type": "stream",
     "text": [
      "2005 is not a leap yaer\n"
     ]
    }
   ],
   "source": [
    "year = int(input(\"Enter your year:\"))\n",
    "\n",
    "leap = False\n",
    "    \n",
    "if year % 4 == 0 and year % 400 != 0 and year % 100 != 0:\n",
    "    leap = True\n",
    "    \n",
    "elif year % 100 == 0 and year % 400 == 0:\n",
    "    leap = True\n",
    "\n",
    "if leap == True:\n",
    "    print(f\"{year} is a leap yaer\")\n",
    "else:\n",
    "        print(f\"{year} is not a leap yaer\")"
   ]
  }
 ],
 "metadata": {
  "kernelspec": {
   "display_name": "Python 3 (ipykernel)",
   "language": "python",
   "name": "python3"
  },
  "language_info": {
   "codemirror_mode": {
    "name": "ipython",
    "version": 3
   },
   "file_extension": ".py",
   "mimetype": "text/x-python",
   "name": "python",
   "nbconvert_exporter": "python",
   "pygments_lexer": "ipython3",
   "version": "3.13.1"
  }
 },
 "nbformat": 4,
 "nbformat_minor": 5
}
