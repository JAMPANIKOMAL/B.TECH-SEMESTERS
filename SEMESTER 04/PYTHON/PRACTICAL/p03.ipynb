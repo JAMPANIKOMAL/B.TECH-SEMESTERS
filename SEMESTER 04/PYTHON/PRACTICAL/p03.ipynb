{
 "cells": [
  {
   "cell_type": "markdown",
   "id": "c5c2d1dd-baf8-4de8-a1c5-83cd05ce465b",
   "metadata": {},
   "source": [
    "**Practical 03**"
   ]
  },
  {
   "cell_type": "markdown",
   "id": "a71f2c2e-f369-4434-ad41-88325b350398",
   "metadata": {},
   "source": [
    "**Problem Statement 01: \n",
    "You are building an e-commerce website, and you need to keep track of items in a user’s shopping cart. Implement the following:\\\n",
    "·        Create an empty list called shopping_cart.\\\n",
    "·        Allow the user to add items (product names) to the cart.\\\n",
    "·        Display the current items in the cart.\\\n",
    "·        Allow the user to remove items from the cart.\\\n",
    "·        Calculate the total number of items in the cart.**"
   ]
  },
  {
   "cell_type": "code",
   "execution_count": 3,
   "id": "e926c501-3865-4514-a19b-89df7618dc54",
   "metadata": {},
   "outputs": [
    {
     "name": "stdout",
     "output_type": "stream",
     "text": [
      "\n",
      "Slect your choice:\n",
      "1. View Available Products\n",
      "2. View your cart\n",
      "3. Add products to your cart\n",
      "4. Delete products from your cart\n",
      "5. Exit\n"
     ]
    },
    {
     "name": "stdin",
     "output_type": "stream",
     "text": [
      "Enter your choice: komal\n"
     ]
    },
    {
     "ename": "ValueError",
     "evalue": "invalid literal for int() with base 10: 'komal'",
     "output_type": "error",
     "traceback": [
      "\u001b[1;31m---------------------------------------------------------------------------\u001b[0m",
      "\u001b[1;31mValueError\u001b[0m                                Traceback (most recent call last)",
      "Cell \u001b[1;32mIn[3], line 12\u001b[0m\n\u001b[0;32m     10\u001b[0m \u001b[38;5;28mprint\u001b[39m(\u001b[38;5;124m\"\u001b[39m\u001b[38;5;124m4. Delete products from your cart\u001b[39m\u001b[38;5;124m\"\u001b[39m)\n\u001b[0;32m     11\u001b[0m \u001b[38;5;28mprint\u001b[39m(\u001b[38;5;124m\"\u001b[39m\u001b[38;5;124m5. Exit\u001b[39m\u001b[38;5;124m\"\u001b[39m)\n\u001b[1;32m---> 12\u001b[0m choice \u001b[38;5;241m=\u001b[39m \u001b[38;5;28;43mint\u001b[39;49m\u001b[43m(\u001b[49m\u001b[38;5;28;43minput\u001b[39;49m\u001b[43m(\u001b[49m\u001b[38;5;124;43m\"\u001b[39;49m\u001b[38;5;124;43mEnter your choice:\u001b[39;49m\u001b[38;5;124;43m\"\u001b[39;49m\u001b[43m)\u001b[49m\u001b[43m)\u001b[49m\n\u001b[0;32m     14\u001b[0m \u001b[38;5;28;01mif\u001b[39;00m choice \u001b[38;5;241m==\u001b[39m \u001b[38;5;241m1\u001b[39m:\n\u001b[0;32m     15\u001b[0m     \u001b[38;5;28mprint\u001b[39m(\u001b[38;5;124m\"\u001b[39m\u001b[38;5;124m\"\u001b[39m)\n",
      "\u001b[1;31mValueError\u001b[0m: invalid literal for int() with base 10: 'komal'"
     ]
    }
   ],
   "source": [
    "shopping_cart = []\n",
    "product_names = [\"Pen\", \"Pencil\", \"Eraser\", \"Pencil Box\", \"Sharpener\", \"Compass\", \"Divider\", \"Small Scale\", \"Large Scale\"]\n",
    "\n",
    "choice = 0\n",
    "while True:\n",
    "    print(\"\\nSlect your choice:\")\n",
    "    print(\"1. View Available Products\")\n",
    "    print(\"2. View your cart\")\n",
    "    print(\"3. Add products to your cart\")\n",
    "    print(\"4. Delete products from your cart\")\n",
    "    print(\"5. Exit\")\n",
    "    choice = int(input(\"Enter your choice:\"))\n",
    "\n",
    "    if choice == 1:\n",
    "        print(\"\")\n",
    "        for i in range(len(product_names)):\n",
    "            print(f\"{i + 1}. {product_names[i]}\", end =\"  \")\n",
    "        print(\"\")\n",
    "\n",
    "    elif choice == 2:\n",
    "        print(\"\")\n",
    "        if len(shopping_cart) != 0:\n",
    "            for i in range(len(shopping_cart)):\n",
    "                print(f\"{i + 1}. {shopping_cart[i]}\", end =\"  \")\n",
    "        else:\n",
    "            print(\"Your Cart is Empty...\")\n",
    "        print(\"\")\n",
    "    \n",
    "    elif choice == 3:\n",
    "        print(\"\")\n",
    "        i = 0\n",
    "        for i in range(len(product_names)):\n",
    "            print(f\"{i + 1}. {product_names[i]}\", end =\"  \")\n",
    "        pid = int(input(\"Enter the index of product from above to add to your cart:\"))\n",
    "        shopping_cart.append(product_names[pid - 1])\n",
    "        print(\"Product added to your cart...\")\n",
    "    \n",
    "    elif choice == 4:\n",
    "        print(\"\")\n",
    "        if len(shopping_cart) != 0:\n",
    "            i = 0\n",
    "            for i in range(len(shopping_cart)):\n",
    "                print(f\"{i + 1}. {shopping_cart[i]}\", end =\"  \")\n",
    "            pid = int(input(\"Enter the index of product from above to delete from your cart:\"))\n",
    "            if i in range(len(shopping_cart)):\n",
    "                shopping_cart.remove(shopping_cart[pid - 1])\n",
    "                print(\"Product removed from your cart...\")\n",
    "            else:\n",
    "                print(\"Enter a valid index...\")\n",
    "        else:\n",
    "            print(\"Your cart is empty...\")\n",
    "\n",
    "    elif choice == 5:\n",
    "        print(\"Exiting...\")\n",
    "        break\n",
    "\n",
    "    else:\n",
    "        print(\"Enter a valid choice!\")"
   ]
  },
  {
   "cell_type": "markdown",
   "id": "443e1433-13f7-4b41-9a82-572eb6a0fd9e",
   "metadata": {},
   "source": [
    "<br/>\n",
    "\n",
    "**Problem Statement 02: \n",
    "You are building a student management system. Implement the following:\\\n",
    "·        Create a dictionary called student_records where each key is a student ID (e.g., roll number) and the student’s name, age, and grade value.\\\n",
    "·        Allow the user to add new student records.\\\n",
    "·        Display the details of a specific student given their ID.**"
   ]
  },
  {
   "cell_type": "code",
   "execution_count": null,
   "id": "12c4e0fd-5a25-4f80-ae50-2303da176309",
   "metadata": {},
   "outputs": [],
   "source": [
    "print(\"Hello World\")"
   ]
  },
  {
   "cell_type": "markdown",
   "id": "b46518f5-ed47-4d25-a5dd-054a40caf908",
   "metadata": {},
   "source": [
    "<br/>\n",
    "\n",
    "**Problem Statement 03:\n",
    "You are developing a weather monitoring system. Implement the following:\\\n",
    "·        Collect temperature data for different cities.\\\n",
    "·        Store each city’s data as a tuple containing its name and average temperature.\\\n",
    "·        Display the temperature data for all cities.**"
   ]
  },
  {
   "cell_type": "code",
   "execution_count": null,
   "id": "3372317a-6003-4ed6-b53b-84eb81b2004e",
   "metadata": {},
   "outputs": [],
   "source": [
    "print(\"Hello World\")"
   ]
  }
 ],
 "metadata": {
  "kernelspec": {
   "display_name": "Python 3 (ipykernel)",
   "language": "python",
   "name": "python3"
  },
  "language_info": {
   "codemirror_mode": {
    "name": "ipython",
    "version": 3
   },
   "file_extension": ".py",
   "mimetype": "text/x-python",
   "name": "python",
   "nbconvert_exporter": "python",
   "pygments_lexer": "ipython3",
   "version": "3.13.1"
  }
 },
 "nbformat": 4,
 "nbformat_minor": 5
}
