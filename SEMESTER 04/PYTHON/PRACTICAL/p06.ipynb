{
 "cells": [
  {
   "cell_type": "markdown",
   "id": "c5c2d1dd-baf8-4de8-a1c5-83cd05ce465b",
   "metadata": {},
   "source": [
    "**Practical 06**"
   ]
  },
  {
   "cell_type": "markdown",
   "id": "a71f2c2e-f369-4434-ad41-88325b350398",
   "metadata": {},
   "source": [
    "**Problem Statement 01: \\\n",
    "Online Shopping Cart: Imagine you’re developing an online shopping platform. Create a Python program that simulates a user’s shopping cart.\\\n",
    "•    Allow the user to add product names and prices to their cart.\\\n",
    "•    Display the current items in the cart.\\\n",
    "•    Allow the user to remove items from the cart.\\\n",
    "•    Calculate the total price and display the total number of items in the cart.**"
   ]
  },
  {
   "cell_type": "code",
   "execution_count": 12,
   "id": "d01614f6-76c2-4c84-90a2-f3a9d0420891",
   "metadata": {},
   "outputs": [
    {
     "name": "stdout",
     "output_type": "stream",
     "text": [
      "\n",
      "Slect your choice:\n",
      "1. View Available Products\n",
      "2. View your cart and calculate cart value\n",
      "3. Add products to your cart\n",
      "4. Delete products from your cart\n",
      "5. Exit\n"
     ]
    },
    {
     "name": "stdin",
     "output_type": "stream",
     "text": [
      "Enter your choice: 1\n"
     ]
    },
    {
     "name": "stdout",
     "output_type": "stream",
     "text": [
      "\n",
      "1.Pen: ₹10  2.Pencil: ₹5  3.Eraser: ₹5  4.Pencil Box: ₹100  5.Sharpener: ₹5  6.Compass: ₹500  7.Divider: ₹20  8.Small Scale: ₹20  9.Large Scale: ₹30  \n",
      "\n",
      "Slect your choice:\n",
      "1. View Available Products\n",
      "2. View your cart and calculate cart value\n",
      "3. Add products to your cart\n",
      "4. Delete products from your cart\n",
      "5. Exit\n"
     ]
    },
    {
     "name": "stdin",
     "output_type": "stream",
     "text": [
      "Enter your choice: 2\n"
     ]
    },
    {
     "name": "stdout",
     "output_type": "stream",
     "text": [
      "\n",
      "Your Cart is Empty...\n",
      "\n",
      "\n",
      "Slect your choice:\n",
      "1. View Available Products\n",
      "2. View your cart and calculate cart value\n",
      "3. Add products to your cart\n",
      "4. Delete products from your cart\n",
      "5. Exit\n"
     ]
    },
    {
     "name": "stdin",
     "output_type": "stream",
     "text": [
      "Enter your choice: 3\n"
     ]
    },
    {
     "name": "stdout",
     "output_type": "stream",
     "text": [
      "\n",
      "1.Pen: ₹10  2.Pencil: ₹5  3.Eraser: ₹5  4.Pencil Box: ₹100  5.Sharpener: ₹5  6.Compass: ₹500  7.Divider: ₹20  8.Small Scale: ₹20  9.Large Scale: ₹30  "
     ]
    },
    {
     "name": "stdin",
     "output_type": "stream",
     "text": [
      "Enter the index of product from above to add to your cart: 1\n"
     ]
    },
    {
     "name": "stdout",
     "output_type": "stream",
     "text": [
      "Product added to your cart...\n",
      "\n",
      "Slect your choice:\n",
      "1. View Available Products\n",
      "2. View your cart and calculate cart value\n",
      "3. Add products to your cart\n",
      "4. Delete products from your cart\n",
      "5. Exit\n"
     ]
    },
    {
     "name": "stdin",
     "output_type": "stream",
     "text": [
      "Enter your choice: 3\n"
     ]
    },
    {
     "name": "stdout",
     "output_type": "stream",
     "text": [
      "\n",
      "1.Pen: ₹10  2.Pencil: ₹5  3.Eraser: ₹5  4.Pencil Box: ₹100  5.Sharpener: ₹5  6.Compass: ₹500  7.Divider: ₹20  8.Small Scale: ₹20  9.Large Scale: ₹30  "
     ]
    },
    {
     "name": "stdin",
     "output_type": "stream",
     "text": [
      "Enter the index of product from above to add to your cart: 4\n"
     ]
    },
    {
     "name": "stdout",
     "output_type": "stream",
     "text": [
      "Product added to your cart...\n",
      "\n",
      "Slect your choice:\n",
      "1. View Available Products\n",
      "2. View your cart and calculate cart value\n",
      "3. Add products to your cart\n",
      "4. Delete products from your cart\n",
      "5. Exit\n"
     ]
    },
    {
     "name": "stdin",
     "output_type": "stream",
     "text": [
      "Enter your choice: 2\n"
     ]
    },
    {
     "name": "stdout",
     "output_type": "stream",
     "text": [
      "\n",
      "1. Pen: ₹10  2. Pencil Box: ₹100  Total cart value = 110\n",
      "\n",
      "\n",
      "Slect your choice:\n",
      "1. View Available Products\n",
      "2. View your cart and calculate cart value\n",
      "3. Add products to your cart\n",
      "4. Delete products from your cart\n",
      "5. Exit\n"
     ]
    },
    {
     "name": "stdin",
     "output_type": "stream",
     "text": [
      "Enter your choice: 4\n"
     ]
    },
    {
     "name": "stdout",
     "output_type": "stream",
     "text": [
      "\n",
      "1.Pen: ₹10  2.Pencil Box: ₹100  "
     ]
    },
    {
     "name": "stdin",
     "output_type": "stream",
     "text": [
      "Enter the index of product from above to remove from your cart: 1\n"
     ]
    },
    {
     "name": "stdout",
     "output_type": "stream",
     "text": [
      "Product removed from your cart...\n",
      "\n",
      "Slect your choice:\n",
      "1. View Available Products\n",
      "2. View your cart and calculate cart value\n",
      "3. Add products to your cart\n",
      "4. Delete products from your cart\n",
      "5. Exit\n"
     ]
    },
    {
     "name": "stdin",
     "output_type": "stream",
     "text": [
      "Enter your choice: 2\n"
     ]
    },
    {
     "name": "stdout",
     "output_type": "stream",
     "text": [
      "\n",
      "1. Pencil Box: ₹100  Total cart value = 100\n",
      "\n",
      "\n",
      "Slect your choice:\n",
      "1. View Available Products\n",
      "2. View your cart and calculate cart value\n",
      "3. Add products to your cart\n",
      "4. Delete products from your cart\n",
      "5. Exit\n"
     ]
    },
    {
     "name": "stdin",
     "output_type": "stream",
     "text": [
      "Enter your choice: 5\n"
     ]
    },
    {
     "name": "stdout",
     "output_type": "stream",
     "text": [
      "Exiting...\n"
     ]
    }
   ],
   "source": [
    "shopping_cart = {}\n",
    "products = {\"Pen\" : 10, \"Pencil\" : 5, \"Eraser\" : 5, \"Pencil Box\" : 100, \"Sharpener\" : 5, \"Compass\" : 500, \"Divider\" : 20, \"Small Scale\" : 20, \"Large Scale\" : 30}\n",
    "\n",
    "choice = 0\n",
    "while True:\n",
    "    print(\"\\nSlect your choice:\")\n",
    "    print(\"1. View Available Products\")\n",
    "    print(\"2. View your cart and calculate cart value\")\n",
    "    print(\"3. Add products to your cart\")\n",
    "    print(\"4. Delete products from your cart\")\n",
    "    print(\"5. Exit\")\n",
    "    choice = int(input(\"Enter your choice:\"))\n",
    "\n",
    "    if choice == 1:\n",
    "        print(\"\")\n",
    "        k = 1\n",
    "        for i, j in products.items():\n",
    "            print(f\"{k}.{i}: ₹{j}\", end =\"  \")\n",
    "            k += 1\n",
    "        print(\"\")\n",
    "\n",
    "    elif choice == 2:\n",
    "        print(\"\")\n",
    "        if len(shopping_cart) != 0:\n",
    "            total = 0\n",
    "            k = 1\n",
    "            for i, j in shopping_cart.items():\n",
    "                print(f\"{k}. {i}: ₹{j}\", end =\"  \")\n",
    "                k += 1\n",
    "                total += j\n",
    "            print(\"Total cart value =\", total)\n",
    "        else:\n",
    "            print(\"Your Cart is Empty...\")\n",
    "        print(\"\")\n",
    "    \n",
    "    elif choice == 3:\n",
    "        print(\"\")\n",
    "        k = 1\n",
    "        for i, j in products.items():\n",
    "            print(f\"{k}.{i}: ₹{j}\", end =\"  \")\n",
    "            k += 1\n",
    "        pid = int(input(\"Enter the index of product from above to add to your cart:\"))\n",
    "        l = 1\n",
    "        for i, j in products.items():\n",
    "            if l == pid:\n",
    "                shopping_cart[i] = j\n",
    "                break\n",
    "            else:\n",
    "                l += 1\n",
    "        print(\"Product added to your cart...\")\n",
    "    \n",
    "    elif choice == 4:\n",
    "        print(\"\")\n",
    "        if len(shopping_cart) != 0:\n",
    "            k = 1\n",
    "            for i, j in shopping_cart.items():\n",
    "                print(f\"{k}.{i}: ₹{j}\", end =\"  \")\n",
    "                k += 1\n",
    "            pid = int(input(\"Enter the index of product from above to remove from your cart:\"))\n",
    "            l = 1\n",
    "            for i, j in products.items():\n",
    "                if l == pid:\n",
    "                    shopping_cart.pop(i)\n",
    "                    break\n",
    "                else:\n",
    "                    l += 1\n",
    "            print(\"Product removed from your cart...\")\n",
    "        else:\n",
    "            print(\"Your cart is empty...\")\n",
    "\n",
    "    elif choice == 5:\n",
    "        print(\"Exiting...\")\n",
    "        break\n",
    "\n",
    "    else:\n",
    "        print(\"Enter a valid choice!\")"
   ]
  },
  {
   "cell_type": "markdown",
   "id": "443e1433-13f7-4b41-9a82-572eb6a0fd9e",
   "metadata": {},
   "source": [
    "<br/>\n",
    "\n",
    "**Problem Statement 02: \n",
    "You are building a student management system. Implement the following:\\\n",
    "·        Create a dictionary called student_records where each key is a student ID (e.g., roll number) and the student’s name, age, and grade value.\\\n",
    "·        Allow the user to add new student records.\\\n",
    "·        Display the details of a specific student given their ID.**"
   ]
  },
  {
   "cell_type": "markdown",
   "id": "b46518f5-ed47-4d25-a5dd-054a40caf908",
   "metadata": {},
   "source": [
    "<br/>\n",
    "\n",
    "**Problem Statement 03:\n",
    "You are developing a weather monitoring system. Implement the following:\\\n",
    "·        Collect temperature data for different cities.\\\n",
    "·        Store each city’s data as a tuple containing its name and average temperature.\\\n",
    "·        Display the temperature data for all cities.**"
   ]
  }
 ],
 "metadata": {
  "kernelspec": {
   "display_name": "Python 3 (ipykernel)",
   "language": "python",
   "name": "python3"
  },
  "language_info": {
   "codemirror_mode": {
    "name": "ipython",
    "version": 3
   },
   "file_extension": ".py",
   "mimetype": "text/x-python",
   "name": "python",
   "nbconvert_exporter": "python",
   "pygments_lexer": "ipython3",
   "version": "3.13.1"
  }
 },
 "nbformat": 4,
 "nbformat_minor": 5
}
