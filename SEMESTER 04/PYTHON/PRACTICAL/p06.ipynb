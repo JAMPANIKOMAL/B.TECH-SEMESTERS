{
 "cells": [
  {
   "cell_type": "markdown",
   "id": "c5c2d1dd-baf8-4de8-a1c5-83cd05ce465b",
   "metadata": {},
   "source": [
    "**Practical 06**"
   ]
  },
  {
   "cell_type": "markdown",
   "id": "a71f2c2e-f369-4434-ad41-88325b350398",
   "metadata": {},
   "source": [
    "**Problem Statement 01: \\\n",
    "Online Shopping Cart: Imagine you’re developing an online shopping platform. Create a Python program that simulates a user’s shopping cart.\\\n",
    "•    Allow the user to add product names and prices to their cart.\\\n",
    "•    Display the current items in the cart.\\\n",
    "•    Allow the user to remove items from the cart.\\\n",
    "•    Calculate the total price and display the total number of items in the cart.**"
   ]
  },
  {
   "cell_type": "code",
   "execution_count": 1,
   "id": "d01614f6-76c2-4c84-90a2-f3a9d0420891",
   "metadata": {},
   "outputs": [
    {
     "name": "stdout",
     "output_type": "stream",
     "text": [
      "\n",
      "Slect your choice:\n",
      "1. View Available Products\n",
      "2. View your cart and calculate cart value\n",
      "3. Add products to your cart\n",
      "4. Delete products from your cart\n",
      "5. Exit\n"
     ]
    },
    {
     "name": "stdout",
     "output_type": "stream",
     "text": [
      "Enter your choice: 1\n"
     ]
    },
    {
     "name": "stdout",
     "output_type": "stream",
     "text": [
      "\n",
      "1.Pen: ₹10  2.Pencil: ₹5  3.Eraser: ₹5  4.Pencil Box: ₹100  5.Sharpener: ₹5  6.Compass: ₹500  7.Divider: ₹20  8.Small Scale: ₹20  9.Large Scale: ₹30  \n",
      "\n",
      "Slect your choice:\n",
      "1. View Available Products\n",
      "2. View your cart and calculate cart value\n",
      "3. Add products to your cart\n",
      "4. Delete products from your cart\n",
      "5. Exit\n"
     ]
    },
    {
     "name": "stdout",
     "output_type": "stream",
     "text": [
      "Enter your choice: 2\n"
     ]
    },
    {
     "name": "stdout",
     "output_type": "stream",
     "text": [
      "\n",
      "Your Cart is Empty...\n",
      "\n",
      "\n",
      "Slect your choice:\n",
      "1. View Available Products\n",
      "2. View your cart and calculate cart value\n",
      "3. Add products to your cart\n",
      "4. Delete products from your cart\n",
      "5. Exit\n"
     ]
    },
    {
     "name": "stdout",
     "output_type": "stream",
     "text": [
      "Enter your choice: 3\n"
     ]
    },
    {
     "name": "stdout",
     "output_type": "stream",
     "text": [
      "\n",
      "1.Pen: ₹10  2.Pencil: ₹5  3.Eraser: ₹5  4.Pencil Box: ₹100  5.Sharpener: ₹5  6.Compass: ₹500  7.Divider: ₹20  8.Small Scale: ₹20  9.Large Scale: ₹30  "
     ]
    },
    {
     "name": "stdout",
     "output_type": "stream",
     "text": [
      "Enter the index of product from above to add to your cart: 1\n"
     ]
    },
    {
     "name": "stdout",
     "output_type": "stream",
     "text": [
      "Product added to your cart...\n",
      "\n",
      "Slect your choice:\n",
      "1. View Available Products\n",
      "2. View your cart and calculate cart value\n",
      "3. Add products to your cart\n",
      "4. Delete products from your cart\n",
      "5. Exit\n"
     ]
    },
    {
     "name": "stdout",
     "output_type": "stream",
     "text": [
      "Enter your choice: 3\n"
     ]
    },
    {
     "name": "stdout",
     "output_type": "stream",
     "text": [
      "\n",
      "1.Pen: ₹10  2.Pencil: ₹5  3.Eraser: ₹5  4.Pencil Box: ₹100  5.Sharpener: ₹5  6.Compass: ₹500  7.Divider: ₹20  8.Small Scale: ₹20  9.Large Scale: ₹30  "
     ]
    },
    {
     "name": "stdout",
     "output_type": "stream",
     "text": [
      "Enter the index of product from above to add to your cart: 2\n"
     ]
    },
    {
     "name": "stdout",
     "output_type": "stream",
     "text": [
      "Product added to your cart...\n",
      "\n",
      "Slect your choice:\n",
      "1. View Available Products\n",
      "2. View your cart and calculate cart value\n",
      "3. Add products to your cart\n",
      "4. Delete products from your cart\n",
      "5. Exit\n"
     ]
    },
    {
     "name": "stdout",
     "output_type": "stream",
     "text": [
      "Enter your choice: 2\n"
     ]
    },
    {
     "name": "stdout",
     "output_type": "stream",
     "text": [
      "\n",
      "1. Pen: ₹10  2. Pencil: ₹5  Total cart value = 15\n",
      "\n",
      "\n",
      "Slect your choice:\n",
      "1. View Available Products\n",
      "2. View your cart and calculate cart value\n",
      "3. Add products to your cart\n",
      "4. Delete products from your cart\n",
      "5. Exit\n"
     ]
    },
    {
     "name": "stdout",
     "output_type": "stream",
     "text": [
      "Enter your choice: 4\n"
     ]
    },
    {
     "name": "stdout",
     "output_type": "stream",
     "text": [
      "\n",
      "1.Pen: ₹10  2.Pencil: ₹5  "
     ]
    },
    {
     "name": "stdout",
     "output_type": "stream",
     "text": [
      "Enter the index of product from above to remove from your cart: 1\n"
     ]
    },
    {
     "name": "stdout",
     "output_type": "stream",
     "text": [
      "Product removed from your cart...\n",
      "\n",
      "Slect your choice:\n",
      "1. View Available Products\n",
      "2. View your cart and calculate cart value\n",
      "3. Add products to your cart\n",
      "4. Delete products from your cart\n",
      "5. Exit\n"
     ]
    },
    {
     "name": "stdout",
     "output_type": "stream",
     "text": [
      "Enter your choice: 1\n"
     ]
    },
    {
     "name": "stdout",
     "output_type": "stream",
     "text": [
      "\n",
      "1.Pen: ₹10  2.Pencil: ₹5  3.Eraser: ₹5  4.Pencil Box: ₹100  5.Sharpener: ₹5  6.Compass: ₹500  7.Divider: ₹20  8.Small Scale: ₹20  9.Large Scale: ₹30  \n",
      "\n",
      "Slect your choice:\n",
      "1. View Available Products\n",
      "2. View your cart and calculate cart value\n",
      "3. Add products to your cart\n",
      "4. Delete products from your cart\n",
      "5. Exit\n"
     ]
    },
    {
     "name": "stdout",
     "output_type": "stream",
     "text": [
      "Enter your choice: 2\n"
     ]
    },
    {
     "name": "stdout",
     "output_type": "stream",
     "text": [
      "\n",
      "1. Pencil: ₹5  Total cart value = 5\n",
      "\n",
      "\n",
      "Slect your choice:\n",
      "1. View Available Products\n",
      "2. View your cart and calculate cart value\n",
      "3. Add products to your cart\n",
      "4. Delete products from your cart\n",
      "5. Exit\n"
     ]
    },
    {
     "name": "stdout",
     "output_type": "stream",
     "text": [
      "Enter your choice: 5\n"
     ]
    },
    {
     "name": "stdout",
     "output_type": "stream",
     "text": [
      "Exiting...\n"
     ]
    }
   ],
   "source": [
    "shopping_cart = {}\n",
    "products = {\"Pen\" : 10, \"Pencil\" : 5, \"Eraser\" : 5, \"Pencil Box\" : 100, \"Sharpener\" : 5, \"Compass\" : 500, \"Divider\" : 20, \"Small Scale\" : 20, \"Large Scale\" : 30}\n",
    "\n",
    "choice = 0\n",
    "while True:\n",
    "    print(\"\\nSlect your choice:\")\n",
    "    print(\"1. View Available Products\")\n",
    "    print(\"2. View your cart and calculate cart value\")\n",
    "    print(\"3. Add products to your cart\")\n",
    "    print(\"4. Delete products from your cart\")\n",
    "    print(\"5. Exit\")\n",
    "    choice = int(input(\"Enter your choice:\"))\n",
    "\n",
    "    if choice == 1:\n",
    "        print(\"\")\n",
    "        k = 1\n",
    "        for i, j in products.items():\n",
    "            print(f\"{k}.{i}: ₹{j}\", end =\"  \")\n",
    "            k += 1\n",
    "        print(\"\")\n",
    "\n",
    "    elif choice == 2:\n",
    "        print(\"\")\n",
    "        if len(shopping_cart) != 0:\n",
    "            total = 0\n",
    "            k = 1\n",
    "            for i, j in shopping_cart.items():\n",
    "                print(f\"{k}. {i}: ₹{j}\", end =\"  \")\n",
    "                k += 1\n",
    "                total += j\n",
    "            print(\"Total cart value =\", total)\n",
    "        else:\n",
    "            print(\"Your Cart is Empty...\")\n",
    "        print(\"\")\n",
    "    \n",
    "    elif choice == 3:\n",
    "        print(\"\")\n",
    "        k = 1\n",
    "        for i, j in products.items():\n",
    "            print(f\"{k}.{i}: ₹{j}\", end =\"  \")\n",
    "            k += 1\n",
    "        pid = int(input(\"Enter the index of product from above to add to your cart:\"))\n",
    "        l = 1\n",
    "        for i, j in products.items():\n",
    "            if l == pid:\n",
    "                shopping_cart[i] = j\n",
    "                break\n",
    "            else:\n",
    "                l += 1\n",
    "        print(\"Product added to your cart...\")\n",
    "    \n",
    "    elif choice == 4:\n",
    "        print(\"\")\n",
    "        if len(shopping_cart) != 0:\n",
    "            k = 1\n",
    "            for i, j in shopping_cart.items():\n",
    "                print(f\"{k}.{i}: ₹{j}\", end =\"  \")\n",
    "                k += 1\n",
    "            pid = int(input(\"Enter the index of product from above to remove from your cart:\"))\n",
    "            l = 1\n",
    "            for i, j in products.items():\n",
    "                if l == pid:\n",
    "                    shopping_cart.pop(i)\n",
    "                    break\n",
    "                else:\n",
    "                    l += 1\n",
    "            print(\"Product removed from your cart...\")\n",
    "        else:\n",
    "            print(\"Your cart is empty...\")\n",
    "\n",
    "    elif choice == 5:\n",
    "        print(\"Exiting...\")\n",
    "        break\n",
    "\n",
    "    else:\n",
    "        print(\"Enter a valid choice!\")"
   ]
  },
  {
   "cell_type": "markdown",
   "id": "e431d049-955b-43f5-aca5-aa73b967938d",
   "metadata": {},
   "source": [
    "\n",
    "**Problem Statement 02: \\\n",
    "Student Grade Analyzer: As a teacher, you have a list of student names and scores (out of 100) for a test.\\\n",
    "•    Write a Python program that calculates the average score and identifies students who scored above the average.**"
   ]
  },
  {
   "cell_type": "code",
   "execution_count": 2,
   "id": "f82e7ed0-a0ca-4627-8e75-12e70e996af4",
   "metadata": {},
   "outputs": [
    {
     "name": "stdout",
     "output_type": "stream",
     "text": [
      "Average Score = 88.16666666666667\n",
      "Students who scored above average score are:\n",
      "0. jampani\n",
      "1. komal\n",
      "2. nadh\n"
     ]
    }
   ],
   "source": [
    "student_records = [(\"jampani\", 97), (\"komal\", 95), (\"pavan\", 88), (\"sai\", 72), (\"nadh\", 92), (\"chowdary\", 85)]\n",
    "\n",
    "sum = 0\n",
    "for i in student_records:\n",
    "    sum += i[1]\n",
    "\n",
    "avg = sum / (len(student_records))\n",
    "\n",
    "print(\"Average Score =\", avg)\n",
    "print(\"Students who scored above average score are:\")\n",
    "j = 0\n",
    "for i in student_records:\n",
    "    if i[1] >= avg:\n",
    "        print(f\"{j}. {i[0]}\")\n",
    "        j += 1"
   ]
  },
  {
   "cell_type": "markdown",
   "id": "aca0ddb9-f10b-42ab-8baf-f863f83dc23c",
   "metadata": {},
   "source": [
    "**Problem Statement 03: \\\n",
    "Temperature Converter:  You’re building a weather app. Create a Python program that converts temperatures between Celsius and Fahrenheit.\\\n",
    "•    Prompt the user to enter a temperature value and a unit (C or F).\\\n",
    "•    Calculate and display the converted temperature.\\\n",
    "•    Example: If the user enters 32 C, the program should output 89.6 F.**"
   ]
  },
  {
   "cell_type": "code",
   "execution_count": 3,
   "id": "e71dbd16-e83b-4086-9d51-e95037adaea9",
   "metadata": {},
   "outputs": [
    {
     "name": "stdout",
     "output_type": "stream",
     "text": [
      "Enter a temperature value and a unit (C or F), e.g., 32 C: 32 C\n"
     ]
    },
    {
     "name": "stdout",
     "output_type": "stream",
     "text": [
      "Temperature in Celcius = 32 C\n",
      "Temperature in Fahrenheit = 89.6 F\n"
     ]
    },
    {
     "name": "stdout",
     "output_type": "stream",
     "text": [
      "Temperature in Celcius = 32 c\n",
      "Temperature in Fahrenheit = 89.6 F\n"
     ]
    }
   ],
   "source": [
    "temp = input(\"Enter a temperature value and a unit (C or F), e.g., 32 C:\")\n",
    "\n",
    "if temp[-1] == \"c\" or temp[-1] == \"C\":\n",
    "    it = float(temp[:-2])\n",
    "    ft = (it * (9 / 5)) + 32\n",
    "    print(\"Temperature in Celcius =\", temp)\n",
    "    print(\"Temperature in Fahrenheit =\", ft, \"F\")\n",
    "\n",
    "elif temp[-1] == \"f\" or temp[-1] == \"F\":\n",
    "    it = float(temp[:-2])\n",
    "    ct = (it  - 32) * (5 / 9)\n",
    "    print(\"Temperature in Fahrenheit = \", temp)\n",
    "    print(\"Temperature in Celcius =\", ct, \"C\")\n",
    "\n",
    "else:\n",
    "    print(\"Enter a valid input...\")"
   ]
  },
  {
   "cell_type": "markdown",
   "id": "f5d7e14d-42ae-42f8-acee-42c97e7c785e",
   "metadata": {},
   "source": [
    "**Problem Statement 04: \\\n",
    "Vowel Counter:  You’re developing a text analysis tool. Write a Python program that reads a sentence from the user.\\\n",
    "•    Count the number of vowels (a, e, i, o, u) in the sentence.\\\n",
    "•    Display the total count of each vowel.**"
   ]
  },
  {
   "cell_type": "code",
   "execution_count": 4,
   "id": "a91bf28d-0b64-487f-93e7-0c8e20217814",
   "metadata": {},
   "outputs": [
    {
     "name": "stdout",
     "output_type": "stream",
     "text": [
      "Enter your sentence:  My name is Jampani Komal Pavan Sai Nadh Chowdary\n"
     ]
    },
    {
     "name": "stdout",
     "output_type": "stream",
     "text": [
      "Total number of vowels in the given sentence = 15\n",
      "The total count of each vowel is: \n",
      "a: 9\n",
      "e: 1\n",
      "i: 3\n",
      "o: 2\n",
      "u: 0\n"
     ]
    },
    {
     "name": "stdout",
     "output_type": "stream",
     "text": [
      "Total number of vowels in the given sentence = 5\n",
      "The total count of each vowel is: \n",
      "a: 1\n",
      "e: 0\n",
      "i: 3\n",
      "o: 1\n",
      "u: 0\n"
     ]
    }
   ],
   "source": [
    "sen = input(\"Enter your sentence: \")\n",
    "ac = ec = ic = oc = uc = 0\n",
    "sen = sen.lower()\n",
    "\n",
    "for i in sen:\n",
    "    if i == \"a\":\n",
    "        ac += 1\n",
    "    elif i == \"e\":\n",
    "        ec += 1\n",
    "    elif i == \"i\":\n",
    "        ic += 1\n",
    "    elif i == \"o\":\n",
    "        oc += 1\n",
    "    elif i == \"u\":\n",
    "        uc += 1\n",
    "    else:\n",
    "        continue\n",
    "\n",
    "print(\"Total number of vowels in the given sentence =\", ac + ec + ic + oc + uc)\n",
    "print(\"The total count of each vowel is: \")\n",
    "print(\"a:\", ac)\n",
    "print(\"e:\", ec)\n",
    "print(\"i:\", ic)\n",
    "print(\"o:\", oc)\n",
    "print(\"u:\", uc)"
   ]
  },
  {
   "cell_type": "markdown",
   "id": "8b0310a0-7c2d-4495-9031-a40d67af1edd",
   "metadata": {},
   "source": [
    "**Problem Statement 05: \\\n",
    "Bookstore Inventory:  As a bookstore manager, you create a list of book titles and their corresponding quantities in stock.\\\n",
    "•    Write a Python program that asks if the user is a manager or a normal user.\\\n",
    "•    Then allow the manager to create and update the list of books.\\\n",
    "•    Allow other users to search for a book title and check its availability.\\\n",
    "•    Prompt the user to enter a book title.\\\n",
    "•    If the book is in stock, display the quantity available; otherwise, show an appropriate message.**"
   ]
  },
  {
   "cell_type": "code",
   "execution_count": 5,
   "id": "12c412f4-39cf-48e6-951c-0b1f1ce36cf2",
   "metadata": {},
   "outputs": [
    {
     "name": "stdout",
     "output_type": "stream",
     "text": [
      "Are you a manager or normal user:  manager\n"
     ]
    },
    {
     "name": "stdout",
     "output_type": "stream",
     "text": [
      "\n",
      "Select your choice:\n",
      "1. View Booklist\n",
      "2. Update Book Count\n",
      "3. Add new Book\n",
      "4. Delete Book\n",
      "5. Exit\n"
     ]
    },
    {
     "name": "stdout",
     "output_type": "stream",
     "text": [
      "Enter your choice: 1\n"
     ]
    },
    {
     "name": "stdout",
     "output_type": "stream",
     "text": [
      "\n",
      "1. Python Programming: 3\n",
      "2. Java Programming: 1\n",
      "3. Software Engineering: 5\n",
      "4. Cryptography: 1\n",
      "5. C Programming: 0\n",
      "\n",
      "Select your choice:\n",
      "1. View Booklist\n",
      "2. Update Book Count\n",
      "3. Add new Book\n",
      "4. Delete Book\n",
      "5. Exit\n"
     ]
    },
    {
     "name": "stdout",
     "output_type": "stream",
     "text": [
      "Enter your choice: 2\n"
     ]
    },
    {
     "name": "stdout",
     "output_type": "stream",
     "text": [
      "\n",
      "1. Python Programming: 3\n",
      "2. Java Programming: 1\n",
      "3. Software Engineering: 5\n",
      "4. Cryptography: 1\n",
      "5. C Programming: 0\n"
     ]
    },
    {
     "name": "stdout",
     "output_type": "stream",
     "text": [
      "Enter the index of the book to be updated: 5\n",
      "Enter the number of books: 6\n"
     ]
    },
    {
     "name": "stdout",
     "output_type": "stream",
     "text": [
      "Book count updated successfully.\n",
      "\n",
      "Select your choice:\n",
      "1. View Booklist\n",
      "2. Update Book Count\n",
      "3. Add new Book\n",
      "4. Delete Book\n",
      "5. Exit\n"
     ]
    },
    {
     "name": "stdout",
     "output_type": "stream",
     "text": [
      "Enter your choice: 1\n"
     ]
    },
    {
     "name": "stdout",
     "output_type": "stream",
     "text": [
      "\n",
      "1. Python Programming: 3\n",
      "2. Java Programming: 1\n",
      "3. Software Engineering: 5\n",
      "4. Cryptography: 1\n",
      "5. C Programming: 6\n",
      "\n",
      "Select your choice:\n",
      "1. View Booklist\n",
      "2. Update Book Count\n",
      "3. Add new Book\n",
      "4. Delete Book\n",
      "5. Exit\n"
     ]
    },
    {
     "name": "stdout",
     "output_type": "stream",
     "text": [
      "Enter your choice: 3\n",
      "Enter the name of the book to be added: c++ programming\n",
      "Enter the number of books: 7\n"
     ]
    },
    {
     "name": "stdout",
     "output_type": "stream",
     "text": [
      "Book added successfully. (('Python Programming', 3), ('Java Programming', 1), ('Software Engineering', 5), ('Cryptography', 1), ('C Programming', 6), ('c++ programming', 7))\n",
      "\n",
      "Select your choice:\n",
      "1. View Booklist\n",
      "2. Update Book Count\n",
      "3. Add new Book\n",
      "4. Delete Book\n",
      "5. Exit\n"
     ]
    },
    {
     "name": "stdout",
     "output_type": "stream",
     "text": [
      "Enter your choice: 1\n"
     ]
    },
    {
     "name": "stdout",
     "output_type": "stream",
     "text": [
      "\n",
      "1. Python Programming: 3\n",
      "2. Java Programming: 1\n",
      "3. Software Engineering: 5\n",
      "4. Cryptography: 1\n",
      "5. C Programming: 6\n",
      "6. c++ programming: 7\n",
      "\n",
      "Select your choice:\n",
      "1. View Booklist\n",
      "2. Update Book Count\n",
      "3. Add new Book\n",
      "4. Delete Book\n",
      "5. Exit\n"
     ]
    },
    {
     "name": "stdout",
     "output_type": "stream",
     "text": [
      "Enter your choice: 4\n"
     ]
    },
    {
     "name": "stdout",
     "output_type": "stream",
     "text": [
      "\n",
      "1. Python Programming: 3\n",
      "2. Java Programming: 1\n",
      "3. Software Engineering: 5\n",
      "4. Cryptography: 1\n",
      "5. C Programming: 6\n",
      "6. c++ programming: 7\n"
     ]
    },
    {
     "name": "stdout",
     "output_type": "stream",
     "text": [
      "Enter the index of the book to be deleted: 6\n"
     ]
    },
    {
     "name": "stdout",
     "output_type": "stream",
     "text": [
      "Book deleted successfully.\n",
      "\n",
      "Select your choice:\n",
      "1. View Booklist\n",
      "2. Update Book Count\n",
      "3. Add new Book\n",
      "4. Delete Book\n",
      "5. Exit\n"
     ]
    },
    {
     "name": "stdout",
     "output_type": "stream",
     "text": [
      "Enter your choice: 5\n"
     ]
    },
    {
     "name": "stdout",
     "output_type": "stream",
     "text": [
      "Exiting...\n"
     ]
    }
   ],
   "source": [
    "books = [(\"Python Programming\", 3), (\"Java Programming\", 1), (\"Software Engineering\", 5), (\"Cryptography\", 1), (\"C Programming\", 0)]\n",
    "\n",
    "monu = input(\"Are you a manager or normal user: \").replace(\" \", \"\").lower()\n",
    "\n",
    "if monu == \"manager\":\n",
    "    while True:\n",
    "        print(\"\\nSelect your choice:\")\n",
    "        print(\"1. View Booklist\")\n",
    "        print(\"2. Update Book Count\")\n",
    "        print(\"3. Add new Book\")\n",
    "        print(\"4. Delete Book\")\n",
    "        print(\"5. Exit\")\n",
    "        try:\n",
    "            choice = int(input(\"Enter your choice:\"))\n",
    "        except ValueError:\n",
    "            print(\"Invalid input. Please enter a number.\")\n",
    "            continue\n",
    "\n",
    "        if choice == 1:\n",
    "            print(\"\")\n",
    "            for j, i in enumerate(books, 1):\n",
    "                print(f\"{j}. {i[0]}: {i[1]}\")\n",
    "\n",
    "        elif choice == 2:\n",
    "            print(\"\")\n",
    "            for j, i in enumerate(books, 1):\n",
    "                print(f\"{j}. {i[0]}: {i[1]}\")\n",
    "            try:\n",
    "                ind = int(input(\"Enter the index of the book to be updated:\"))\n",
    "                c = int(input(\"Enter the number of books:\"))\n",
    "            except ValueError:\n",
    "                print(\"Invalid input. Please enter a number.\")\n",
    "                continue\n",
    "\n",
    "            if 1 <= ind <= len(books):\n",
    "                books = list(books)\n",
    "                books[ind - 1] = (books[ind - 1][0], c)\n",
    "                books = tuple(books)\n",
    "                print(\"Book count updated successfully.\")\n",
    "            else:\n",
    "                print(\"Invalid book index.\")\n",
    "\n",
    "        elif choice == 3:\n",
    "            bn = input(\"Enter the name of the book to be added:\")\n",
    "            try:\n",
    "                c = int(input(\"Enter the number of books:\"))\n",
    "            except ValueError:\n",
    "                print(\"Invalid input. Please enter a number.\")\n",
    "                continue\n",
    "            books = books + ((bn, c),)\n",
    "            print(\"Book added successfully.\")\n",
    "\n",
    "        elif choice == 4:\n",
    "            print(\"\")\n",
    "            for j, i in enumerate(books, 1):\n",
    "                print(f\"{j}. {i[0]}: {i[1]}\")\n",
    "            try:\n",
    "                ind = int(input(\"Enter the index of the book to be deleted:\"))\n",
    "            except ValueError:\n",
    "                print(\"Invalid input. Please enter a number.\")\n",
    "                continue\n",
    "\n",
    "            if 1 <= ind <= len(books):\n",
    "                books = list(books)\n",
    "                del books[ind - 1]\n",
    "                books = tuple(books)\n",
    "                print(\"Book deleted successfully.\")\n",
    "            else:\n",
    "                print(\"Invalid book index.\")\n",
    "\n",
    "        elif choice == 5:\n",
    "            print(\"Exiting...\")\n",
    "            break\n",
    "\n",
    "        else:\n",
    "            print(\"Enter a valid choice!\")\n",
    "\n",
    "elif monu == \"normaluser\":\n",
    "    while True:\n",
    "        print(\"\\nSelect your choice:\")\n",
    "        print(\"1. View Booklist\")\n",
    "        print(\"2. Search for a Book\")\n",
    "        print(\"3. Exit\")\n",
    "        try:\n",
    "            choice = int(input(\"Enter your choice:\"))\n",
    "        except ValueError:\n",
    "            print(\"Invalid input. Please enter a number.\")\n",
    "            continue\n",
    "\n",
    "        if choice == 1:\n",
    "            print(\"\")\n",
    "            for j, i in enumerate(books, 1):\n",
    "                print(f\"{j}. {i[0]}: {i[1]}\")\n",
    "\n",
    "        elif choice == 2:\n",
    "            print(\"\")\n",
    "            bn = input(\"Enter bookname to be searched:\").lower()\n",
    "            found = False\n",
    "            for i in books:\n",
    "                if i[0].lower() == bn:\n",
    "                    print(\"Book is found and stock =\", i[1])\n",
    "                    found = True\n",
    "                    break\n",
    "            if not found:\n",
    "                print(\"Book not found!\")\n",
    "\n",
    "        elif choice == 3:\n",
    "            print(\"Exiting...\")\n",
    "            break\n",
    "\n",
    "        else:\n",
    "            print(\"Enter a valid choice!\")\n",
    "\n",
    "else:\n",
    "    print(\"Enter a valid string manager or normal user!\")"
   ]
  }
 ],
 "metadata": {
  "kernelspec": {
   "display_name": "Python 3",
   "language": "python",
   "name": "python3"
  },
  "language_info": {
   "codemirror_mode": {
    "name": "ipython",
    "version": 3
   },
   "file_extension": ".py",
   "mimetype": "text/x-python",
   "name": "python",
   "nbconvert_exporter": "python",
   "pygments_lexer": "ipython3",
   "version": "3.13.1"
  }
 },
 "nbformat": 4,
 "nbformat_minor": 5
}
