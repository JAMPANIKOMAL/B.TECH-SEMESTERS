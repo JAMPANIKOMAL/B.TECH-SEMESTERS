{
 "cells": [
  {
   "cell_type": "markdown",
   "id": "c5c2d1dd-baf8-4de8-a1c5-83cd05ce465b",
   "metadata": {},
   "source": [
    "**Practical 09**"
   ]
  },
  {
   "cell_type": "markdown",
   "id": "a71f2c2e-f369-4434-ad41-88325b350398",
   "metadata": {},
   "source": [
    "**Problem Statement 01: \\\n",
    "You are developing a data processing tool where you receive a list of mixed data types. You must filter out non-numeric values and convert the remaining values to integers. Write a Python function filter_and_convert_to_integers(data) that takes a list of mixed data types as input, filters out non-numeric values, and returns a new list with the remaining values converted to integers.**"
   ]
  },
  {
   "cell_type": "code",
   "execution_count": 1,
   "id": "c598a6ce-9f26-4cf3-8483-7fdeccdd90a3",
   "metadata": {},
   "outputs": [
    {
     "name": "stdout",
     "output_type": "stream",
     "text": [
      "Only integers list: [1, 2, 1]\n"
     ]
    }
   ],
   "source": [
    "def filter_and_convert_to_integers(ml):\n",
    "    il = []\n",
    "    for i in ml:\n",
    "        if isinstance(i, (int, float)):\n",
    "            il.append(int(i))\n",
    "    return il\n",
    "\n",
    "ml = [1, 2, \"a\", \"2\", \"b\", 1.2, \"3.4\"]\n",
    "il = filter_and_convert_to_integers(ml)\n",
    "print(\"Only integers list:\", il)"
   ]
  },
  {
   "cell_type": "markdown",
   "id": "e431d049-955b-43f5-aca5-aa73b967938d",
   "metadata": {},
   "source": [
    "**Problem Statement 02: \\\n",
    "You're building a music playlist manager and need to merge two playlists into one sorted playlist. Write a Python function merge_and_sort_playlists (playlist1, playlist2) that takes two lists of songs as input, merges them into one list, and sorts the merged list alphabetically.**"
   ]
  },
  {
   "cell_type": "code",
   "execution_count": 2,
   "id": "8b967267-f715-42c2-98a5-e0c05743b4f5",
   "metadata": {},
   "outputs": [
    {
     "name": "stdout",
     "output_type": "stream",
     "text": [
      "['ant', 'oninon', 'orion', 'pig', 'tor']\n"
     ]
    }
   ],
   "source": [
    "def mergeandsortplaylist(p1, p2):\n",
    "    p1.extend(p2)\n",
    "    p1.sort()\n",
    "    return p1\n",
    "\n",
    "p1 = [\"ant\", \"pig\", \"tor\"]\n",
    "p2 = [\"oninon\", \"orion\"]\n",
    "p3 = mergeandsortplaylist(p1, p2)\n",
    "print(p3)"
   ]
  },
  {
   "cell_type": "markdown",
   "id": "aca0ddb9-f10b-42ab-8baf-f863f83dc23c",
   "metadata": {},
   "source": [
    "**Problem Statement 03: \\\n",
    "You're analyzing sales data and need to group sales amounts by product category and calculate the total sales for each category. Write a Python function calculate_total_sales(sales_data) that takes a list of tuples (product, amount) as input, where the product is the product category and the amount is the sales amount. It should return a dictionary where keys are product categories and values are the total sales amounts for each category.**"
   ]
  },
  {
   "cell_type": "code",
   "execution_count": 3,
   "id": "8b593774-48d2-4795-b7fb-297fffe7a324",
   "metadata": {},
   "outputs": [
    {
     "name": "stdout",
     "output_type": "stream",
     "text": [
      "{'Stationary': 200, 'Fruits': 1100, 'Vegetables': 200}\n"
     ]
    }
   ],
   "source": [
    "def calculate_total_sales(t):\n",
    "    d ={}\n",
    "    # for i in t:\n",
    "    #     if i[0] in d:\n",
    "    #         d[i[0]] += i[1]\n",
    "    #     else:\n",
    "    #         d[i[0]] = i[1]\n",
    "    for i in t:\n",
    "        d[i[0]] = d.get(i[0], 0) + i[1]\n",
    "    return d\n",
    "\n",
    "t = [(\"Stationary\", 200), (\"Fruits\", 1000), (\"Vegetables\", 200), (\"Fruits\", 100)]\n",
    "d = calculate_total_sales(t)\n",
    "print(d)"
   ]
  },
  {
   "cell_type": "markdown",
   "id": "f5d7e14d-42ae-42f8-acee-42c97e7c785e",
   "metadata": {},
   "source": [
    "**Problem Statement 04: \\\n",
    "You're implementing a game where players can rotate a list of numbers to the left by a given number of positions. Write a Python function rotate_list_left (numbers, positions) that takes a list of numbers and the number of positions to rotate as input, and returns a new list with the elements rotated to the left by the specified number of positions.**"
   ]
  },
  {
   "cell_type": "code",
   "execution_count": 4,
   "id": "a2b8c29f-c35a-405c-a483-002435044bb0",
   "metadata": {},
   "outputs": [
    {
     "name": "stdout",
     "output_type": "stream",
     "text": [
      "[3, 4, 5, 6, 1, 2]\n"
     ]
    }
   ],
   "source": [
    "def rotate_list_left(numli, p):\n",
    "    nl = []\n",
    "    for i in range(len(numli)):\n",
    "        nl.append(numli[(i + p) % len(numli)])\n",
    "    return nl\n",
    "\n",
    "numli = [1, 2, 3, 4, 5,6]\n",
    "nl = rotate_list_left(numli, 2)\n",
    "print(nl)"
   ]
  }
 ],
 "metadata": {
  "kernelspec": {
   "display_name": "Python 3 (ipykernel)",
   "language": "python",
   "name": "python3"
  },
  "language_info": {
   "codemirror_mode": {
    "name": "ipython",
    "version": 3
   },
   "file_extension": ".py",
   "mimetype": "text/x-python",
   "name": "python",
   "nbconvert_exporter": "python",
   "pygments_lexer": "ipython3",
   "version": "3.13.2"
  }
 },
 "nbformat": 4,
 "nbformat_minor": 5
}
