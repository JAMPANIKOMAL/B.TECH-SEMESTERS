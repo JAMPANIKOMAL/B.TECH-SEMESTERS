{
 "cells": [
  {
   "cell_type": "markdown",
   "id": "c5c2d1dd-baf8-4de8-a1c5-83cd05ce465b",
   "metadata": {},
   "source": [
    "**Assignment 01**"
   ]
  },
  {
   "cell_type": "markdown",
   "id": "a71f2c2e-f369-4434-ad41-88325b350398",
   "metadata": {},
   "source": [
    "**Problem Statement 01: You are a librarian and you have a list of books in your library. Each book is represented as a string. Your task is to write a Python program to find out how many books in the library have a titles longer than 25 characters.**"
   ]
  },
  {
   "cell_type": "code",
   "execution_count": 1,
   "id": "b2381054-cb34-4256-8424-5463f6b55859",
   "metadata": {},
   "outputs": [
    {
     "name": "stdout",
     "output_type": "stream",
     "text": [
      "Count of books having title longer than 25: 16\n"
     ]
    },
    {
     "name": "stdout",
     "output_type": "stream",
     "text": [
      "Final Amount =  1125.50881\n"
     ]
    }
   ],
   "source": [
    "books = [\"Python Programming: Using Problem Solving Approach by Reema Tharej\", \"Python Programming - Learn & Practice by, Swapnil Saurav\", \"Python Programming: A Complete Guide for Beginners to Master, Python Programming Language by Brian Draper\", \"Roger S. Pressman, Software Engineering: a practitioner's approach 8th Edition, McGraw Hill\", \"Rajib Mall, Fundamentals of Software Engineering, Prentice Hall India\", \"Pankaj Jalote, An integrated approach to Software Engineering by Springer\", \"Ian Sommerville, Software Engineering, Addision and Wesley\", \"Cryptography theory and practice, by D. R. Stinson\", \"Handbook of applied cryptography, by A. Menezes, P. V. Oorschot, and S. Vanstone\", \"Introduction to modern cryptography, by J. Katz and Y. Lindell\", \"The foundations of cryptography (Volume I), by O. Goldreich\", \"A graduate course in applied cryptography, by D. Boneh and V. Shoup\", \"Lecture notes on cryptography, by S. Goldwasser and M. Bellare\", \"Handout for basic probability by Luca Trevisa\", \"Handout for probability by Boaz Barak\", \"Handout for Algebra by Luca Trevisan\"]\n",
    "\n",
    "count = 0\n",
    "\n",
    "for i in books:\n",
    "    if len(i) > 25:\n",
    "        count = count + 1\n",
    "\n",
    "# print(\"Count of books:\", len(books))\n",
    "print(\"Count of books having title longer than 25:\", count)"
   ]
  },
  {
   "cell_type": "markdown",
   "id": "443e1433-13f7-4b41-9a82-572eb6a0fd9e",
   "metadata": {},
   "source": [
    "<br/>\n",
    "\n",
    "**Problem Statement 02: You are a sports coach and you have the heights of your players in centimeters. The heights are stored in a list. Your task is to write a Python program to calculate the average height and find out how many players are taller than the average.**"
   ]
  },
  {
   "cell_type": "code",
   "execution_count": 8,
   "id": "852930a5-fa84-4e40-b080-34115a3cdd45",
   "metadata": {},
   "outputs": [
    {
     "name": "stdout",
     "output_type": "stream",
     "text": [
      "[143.18, 149.21, 161.82, 152.42, 132.19, 146.74, 146.79, 142.01, 130.06, 147.27, 149.67, 160.67, 159.58, 166.11, 144.77, 139.18, 140.23, 152.09, 160.23, 154.66, 152.85, 149.85, 139.81, 133.33, 165.4, 166.54, 138.36, 144.51, 133.23, 132.34, 144.04, 134.72, 130.03, 133.31, 169.25, 148.85, 162.96, 165.11, 161.93, 132.16, 155.6, 132.52, 161.86, 137.06, 159.36, 137.51, 164.78, 146.41, 131.31, 147.08]\n"
     ]
    },
    {
     "name": "stdout",
     "output_type": "stream",
     "text": [
      "\n"
     ]
    },
    {
     "name": "stdout",
     "output_type": "stream",
     "text": [
      "Enter the recent purchace item name of customer Komal : Pen\n",
      "Enter the recent purchace item name of customer Pavan : Pencil\n"
     ]
    },
    {
     "name": "stdout",
     "output_type": "stream",
     "text": [
      "\n",
      "From: seller@gmail.com\n",
      "To: Komal@gmail.com\n",
      "Dear Komal,\n",
      "Your item, Pen, has been shipped and will be delivered to you by 31st February.\n",
      "Regards, \n",
      "Seller\n",
      "\n",
      "From: seller@gmail.com\n",
      "To: Pavan@gmail.com\n",
      "Dear Pavan,\n",
      "Your item, Pencil, has been shipped and will be delivered to you by 31st February.\n",
      "Regards, \n",
      "Seller\n"
     ]
    }
   ],
   "source": [
    "import random \n",
    "\n",
    "players_height_cm = []\n",
    "for i in range(50):\n",
    "    # players_height_cm.append(random.uniform(130.0, 170.0))\n",
    "    height = random.uniform(130.0, 170.0)\n",
    "    height = round(height, 2)\n",
    "    players_height_cm.append(height)\n",
    "\n",
    "# print(players_height_cm)\n",
    "\n"
   ]
  },
  {
   "cell_type": "markdown",
   "id": "b46518f5-ed47-4d25-a5dd-054a40caf908",
   "metadata": {},
   "source": [
    "<br/>\n",
    "\n",
    "**Problem Statement 03: You are a teacher and you have the scores of your students on a test. The scores are stored in a list. Your task is to write a Python program to find the median score. If the number of scores is even, the median is the average of the two middle scores.**"
   ]
  },
  {
   "cell_type": "code",
   "execution_count": 3,
   "id": "6e84cd0d-f382-48e5-b258-06a521812216",
   "metadata": {},
   "outputs": [
    {
     "name": "stdout",
     "output_type": "stream",
     "text": [
      "Hello\n"
     ]
    },
    {
     "name": "stdout",
     "output_type": "stream",
     "text": [
      "Total Bill = 90\n"
     ]
    }
   ],
   "source": [
    "print(\"Hello\")"
   ]
  }
 ],
 "metadata": {
  "kernelspec": {
   "display_name": "Python 3 (ipykernel)",
   "language": "python",
   "name": "python3"
  },
  "language_info": {
   "codemirror_mode": {
    "name": "ipython",
    "version": 3
   },
   "file_extension": ".py",
   "mimetype": "text/x-python",
   "name": "python",
   "nbconvert_exporter": "python",
   "pygments_lexer": "ipython3",
   "version": "3.13.1"
  }
 },
 "nbformat": 4,
 "nbformat_minor": 5
}
