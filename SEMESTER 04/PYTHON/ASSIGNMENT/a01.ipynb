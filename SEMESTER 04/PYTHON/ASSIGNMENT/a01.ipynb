{
 "cells": [
  {
   "cell_type": "markdown",
   "id": "c5c2d1dd-baf8-4de8-a1c5-83cd05ce465b",
   "metadata": {},
   "source": [
    "**Assignment 01**"
   ]
  },
  {
   "cell_type": "markdown",
   "id": "a71f2c2e-f369-4434-ad41-88325b350398",
   "metadata": {},
   "source": [
    "**Problem Statement 01: You are a librarian and you have a list of books in your library. Each book is represented as a string. Your task is to write a Python program to find out how many books in the library have a titles longer than 25 characters.**"
   ]
  },
  {
   "cell_type": "code",
   "execution_count": 1,
   "id": "fbbf5ceb-784b-4f92-bde2-5ecf96bba750",
   "metadata": {},
   "outputs": [
    {
     "name": "stdout",
     "output_type": "stream",
     "text": [
      "Count of books having title longer than 25: 16\n"
     ]
    }
   ],
   "source": [
    "books = [\"Python Programming: Using Problem Solving Approach by Reema Tharej\", \"Python Programming - Learn & Practice by, Swapnil Saurav\", \"Python Programming: A Complete Guide for Beginners to Master, Python Programming Language by Brian Draper\", \"Roger S. Pressman, Software Engineering: a practitioner's approach 8th Edition, McGraw Hill\", \"Rajib Mall, Fundamentals of Software Engineering, Prentice Hall India\", \"Pankaj Jalote, An integrated approach to Software Engineering by Springer\", \"Ian Sommerville, Software Engineering, Addision and Wesley\", \"Cryptography theory and practice, by D. R. Stinson\", \"Handbook of applied cryptography, by A. Menezes, P. V. Oorschot, and S. Vanstone\", \"Introduction to modern cryptography, by J. Katz and Y. Lindell\", \"The foundations of cryptography (Volume I), by O. Goldreich\", \"A graduate course in applied cryptography, by D. Boneh and V. Shoup\", \"Lecture notes on cryptography, by S. Goldwasser and M. Bellare\", \"Handout for basic probability by Luca Trevisa\", \"Handout for probability by Boaz Barak\", \"Handout for Algebra by Luca Trevisan\"]\n",
    "\n",
    "count = 0\n",
    "\n",
    "for i in books:\n",
    "    if len(i) > 25:\n",
    "        count = count + 1\n",
    "\n",
    "# print(\"Count of books:\", len(books))\n",
    "print(\"Count of books having title longer than 25:\", count)"
   ]
  },
  {
   "cell_type": "markdown",
   "id": "443e1433-13f7-4b41-9a82-572eb6a0fd9e",
   "metadata": {},
   "source": [
    "<br/>\n",
    "\n",
    "**Problem Statement 02: You are a sports coach and you have the heights of your players in centimeters. The heights are stored in a list. Your task is to write a Python program to calculate the average height and find out how many players are taller than the average.**"
   ]
  },
  {
   "cell_type": "code",
   "execution_count": 2,
   "id": "70530040-f6c5-4f43-8030-6d51bd5c237c",
   "metadata": {},
   "outputs": [
    {
     "name": "stdout",
     "output_type": "stream",
     "text": [
      "Average height of players in cm: 151.6866\n",
      "Count of players taller than average height: 26\n"
     ]
    }
   ],
   "source": [
    "import random \n",
    "\n",
    "players_height_cm_list = []\n",
    "for i in range(50):\n",
    "    # players_height_cm.append(random.uniform(130.0, 170.0))\n",
    "    height = random.uniform(130.0, 170.0)\n",
    "    height = round(height, 2)\n",
    "    players_height_cm_list.append(height)\n",
    "\n",
    "# print(players_height_cm)\n",
    "\n",
    "players_average_height_cm = sum(players_height_cm_list) / len(players_height_cm_list)\n",
    "print(\"Average height of players in cm:\", players_average_height_cm)\n",
    "\n",
    "count = 0\n",
    "\n",
    "for i in players_height_cm_list:\n",
    "    if i > players_average_height_cm:\n",
    "        count = count + 1\n",
    "\n",
    "print(\"Count of players taller than average height:\", count)"
   ]
  },
  {
   "cell_type": "markdown",
   "id": "b46518f5-ed47-4d25-a5dd-054a40caf908",
   "metadata": {},
   "source": [
    "<br/>\n",
    "\n",
    "**Problem Statement 03: You are a teacher and you have the scores of your students on a test. The scores are stored in a list. Your task is to write a Python program to find the median score. If the number of scores is even, the median is the average of the two middle scores.**"
   ]
  },
  {
   "cell_type": "code",
   "execution_count": 3,
   "id": "dd8420ca-717a-4705-974d-efba6c051a51",
   "metadata": {},
   "outputs": [
    {
     "name": "stdout",
     "output_type": "stream",
     "text": [
      "Median of test scores = 48.0\n"
     ]
    }
   ],
   "source": [
    "import random \n",
    "\n",
    "test_scores_list = []\n",
    "for i in range(50):\n",
    "    test_score = random.randint(0, 100)\n",
    "    test_scores_list.append(test_score)\n",
    "\n",
    "# print(test_scores_list)\n",
    "\n",
    "median = 0\n",
    "if len(test_scores_list) % 2 == 0:\n",
    "    median = (test_scores_list[int(len(test_scores_list) / 2)] + test_scores_list[int(len(test_scores_list) / 2) - 1] ) / 2\n",
    "else:\n",
    "    median = test_scores_list[len(test_scores_list) // 2] \n",
    "\n",
    "print(\"Median of test scores =\", median)"
   ]
  }
 ],
 "metadata": {
  "kernelspec": {
   "display_name": "Python 3 (ipykernel)",
   "language": "python",
   "name": "python3"
  },
  "language_info": {
   "codemirror_mode": {
    "name": "ipython",
    "version": 3
   },
   "file_extension": ".py",
   "mimetype": "text/x-python",
   "name": "python",
   "nbconvert_exporter": "python",
   "pygments_lexer": "ipython3",
   "version": "3.13.1"
  }
 },
 "nbformat": 4,
 "nbformat_minor": 5
}
