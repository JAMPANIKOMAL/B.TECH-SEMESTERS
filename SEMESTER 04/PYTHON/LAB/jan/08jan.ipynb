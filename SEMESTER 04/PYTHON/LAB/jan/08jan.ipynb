{
 "cells": [
  {
   "cell_type": "markdown",
   "id": "c5c2d1dd-baf8-4de8-a1c5-83cd05ce465b",
   "metadata": {},
   "source": [
    "**Practical 01**"
   ]
  },
  {
   "cell_type": "markdown",
   "id": "a71f2c2e-f369-4434-ad41-88325b350398",
   "metadata": {},
   "source": [
    "**Problem Statement 01: Imagine you are developing a finance application that calculates compound interest for investments. Your task is to create a Python program that takes user input for the principal amount, interest rate, and period and then computes the compound interest using the provided numeric data types. Ensure the program handles various scenarios such as interest rates and periods accurately.**"
   ]
  },
  {
   "cell_type": "code",
   "execution_count": 26,
   "id": "b2381054-cb34-4256-8424-5463f6b55859",
   "metadata": {},
   "outputs": [
    {
     "name": "stdin",
     "output_type": "stream",
     "text": [
      "Enter principal amount = 1000\n",
      "Enter interest rate in percent = 12\n",
      "Enter period in months = 12\n",
      "Enter number of times intereset is compunded per year = 4\n"
     ]
    },
    {
     "name": "stdout",
     "output_type": "stream",
     "text": [
      "Final Amount =  1125.50881\n"
     ]
    }
   ],
   "source": [
    "principal = int(input(\"Enter principal amount =\"))\n",
    "interest = float(input(\"Enter interest rate in percent =\"))\n",
    "period = int(input(\"Enter period in months =\"))\n",
    "compounded = int(input(\"Enter number of times intereset is compunded per year =\"))\n",
    "\n",
    "amount = principal * ((1 + ((interest / 100) / compounded)) ** (compounded * (period / 12 )))   \n",
    "\n",
    "print(\"Final Amount = \", amount)"
   ]
  },
  {
   "cell_type": "markdown",
   "id": "443e1433-13f7-4b41-9a82-572eb6a0fd9e",
   "metadata": {},
   "source": [
    "<br/>\n",
    "\n",
    "**Problem Statement 02: You are tasked with building an email automation system for a marketing campaign. Your program must generate personalized email messages for customers based on their names and recent purchases. Develop a Python script that utilizes string operations to construct dynamic email templates by inserting customer names and product details into predefined message formats.**"
   ]
  },
  {
   "cell_type": "code",
   "execution_count": 27,
   "id": "852930a5-fa84-4e40-b080-34115a3cdd45",
   "metadata": {},
   "outputs": [
    {
     "name": "stdin",
     "output_type": "stream",
     "text": [
      "Enter the number of customers = 2\n",
      "Enter the name of customer 0 : Komal\n",
      "Enter the name of customer 1 : Pavan\n"
     ]
    },
    {
     "name": "stdout",
     "output_type": "stream",
     "text": [
      "\n"
     ]
    },
    {
     "name": "stdin",
     "output_type": "stream",
     "text": [
      "Enter the recent purchace item name of customer Komal : Pen\n",
      "Enter the recent purchace item name of customer Pavan : Pencil\n"
     ]
    },
    {
     "name": "stdout",
     "output_type": "stream",
     "text": [
      "\n",
      "From: seller@gmail.com\n",
      "To: Komal@gmail.com\n",
      "Dear Komal,\n",
      "Your item, Pen, has been shipped and will be delivered to you by 31st February.\n",
      "Regards, \n",
      "Seller\n",
      "\n",
      "From: seller@gmail.com\n",
      "To: Pavan@gmail.com\n",
      "Dear Pavan,\n",
      "Your item, Pencil, has been shipped and will be delivered to you by 31st February.\n",
      "Regards, \n",
      "Seller\n"
     ]
    }
   ],
   "source": [
    "n = int(input(\"Enter the number of customers =\"))\n",
    "\n",
    "customers = []\n",
    "for x in range(n):\n",
    "    # print(\"Enter the name of customer\" , x, \": \", end = ' ')\n",
    "    cname = input(f\"Enter the name of customer {x} :\")\n",
    "    customers.append(cname)\n",
    "\n",
    "print(\"\")\n",
    "purchase = []\n",
    "for x in customers:\n",
    "    pname = input(f\"Enter the recent purchace item name of customer {x} :\")\n",
    "    purchase.append(pname)\n",
    "\n",
    "for x in range(len(customers)):\n",
    "    print(\"\\nFrom: seller@gmail.com\")\n",
    "    print(f\"To: {customers[x]}@gmail.com\")\n",
    "    print(f\"Dear {customers[x]},\")\n",
    "    print(f\"Your item, {purchase[x]}, has been shipped and will be delivered to you by 31st February.\")\n",
    "    print(\"Regards, \\nSeller\")"
   ]
  },
  {
   "cell_type": "markdown",
   "id": "b46518f5-ed47-4d25-a5dd-054a40caf908",
   "metadata": {},
   "source": [
    "<br/>\n",
    "\n",
    "**Problem Statement 03: You are a cashier at a grocery store. Customers come to your counter with different items. Each item has a specific price (float). You must add up all the prices (float) to get the total bill (float). Write a Python program to calculate the total bill.**"
   ]
  },
  {
   "cell_type": "code",
   "execution_count": 28,
   "id": "6e84cd0d-f382-48e5-b258-06a521812216",
   "metadata": {},
   "outputs": [
    {
     "name": "stdin",
     "output_type": "stream",
     "text": [
      "Enter the number of items =  3\n",
      "Enter the name of item 0 : Soap\n",
      "Enter the name of item 1 : Lays\n",
      "Enter the name of item 2 : Shampoo\n"
     ]
    },
    {
     "name": "stdout",
     "output_type": "stream",
     "text": [
      "Total Bill = 90\n"
     ]
    }
   ],
   "source": [
    "items = [\"Lays\", \"Shampoo\", \"Detergent\", \"Soap\"]\n",
    "cost = [10, 50, 70, 30]\n",
    "\n",
    "n = int(input(\"Enter the number of items = \"))\n",
    "\n",
    "grocery_list = []\n",
    "for x in range(n):\n",
    "    iname = input(f\"Enter the name of item {x} :\")\n",
    "    grocery_list.append(iname)\n",
    "\n",
    "bill = 0\n",
    "for x in grocery_list:\n",
    "    i = items.index(x)\n",
    "    bill += cost[i]\n",
    "\n",
    "print(\"Total Bill =\", bill)\n",
    "    "
   ]
  }
 ],
 "metadata": {
  "kernelspec": {
   "display_name": "Python 3 (ipykernel)",
   "language": "python",
   "name": "python3"
  },
  "language_info": {
   "codemirror_mode": {
    "name": "ipython",
    "version": 3
   },
   "file_extension": ".py",
   "mimetype": "text/x-python",
   "name": "python",
   "nbconvert_exporter": "python",
   "pygments_lexer": "ipython3",
   "version": "3.13.1"
  }
 },
 "nbformat": 4,
 "nbformat_minor": 5
}
