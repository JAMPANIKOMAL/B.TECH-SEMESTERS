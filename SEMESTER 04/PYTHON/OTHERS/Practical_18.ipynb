{
 "cells": [
  {
   "cell_type": "markdown",
   "id": "b4c643d3",
   "metadata": {},
   "source": [
    "**Practical 18:**\n"
   ]
  },
  {
   "cell_type": "markdown",
   "id": "ac084e9e",
   "metadata": {},
   "source": [
    "**Problem Statement 01:**\n",
    "**Write a Python program to check that a string contains only a certain set of characters (in this case a-z, A-Z and 0-9).**"
   ]
  },
  {
   "cell_type": "markdown",
   "id": "ab459579",
   "metadata": {},
   "source": [
    "**Problem Statement 02:**\n",
    "**Write a Python program that matches a string that has an a followed by one or more b's.**"
   ]
  },
  {
   "cell_type": "markdown",
   "id": "81bf5991",
   "metadata": {},
   "source": [
    "**Problem Statement 03:**\n",
    "**Write a Python program that matches a string that has an a followed by two to three 'b'.**"
   ]
  },
  {
   "cell_type": "markdown",
   "id": "d32f062e",
   "metadata": {},
   "source": [
    "**Problem Statement 04:**\n",
    "**Write a Python program that matches a string that has an 'a' followed by anything, ending in 'b'.**"
   ]
  },
  {
   "cell_type": "markdown",
   "id": "56470560",
   "metadata": {},
   "source": [
    "**Problem Statement 05:**\n",
    "**Write a Python program that matches a word containing 'z'.**"
   ]
  },
  {
   "cell_type": "markdown",
   "id": "54738b21",
   "metadata": {},
   "source": [
    "**Problem Statement 06:**\n",
    "**Write a Python program where a string will start with a specific number.**"
   ]
  },
  {
   "cell_type": "markdown",
   "id": "cd72e987",
   "metadata": {},
   "source": [
    "**Problem Statement 07:**\n",
    "**Write a Python program to search the numbers (0-9) of length between 1 to 3 in a given string.**"
   ]
  },
  {
   "cell_type": "markdown",
   "id": "91e6ab83",
   "metadata": {},
   "source": [
    "**Problem Statement 08:**\n",
    "**Write a Python program to find the substrings within a string.**\n",
    "**Sample text : 'Python exercises, PHP exercises, C# exercises'**\n",
    "**Pattern : 'exercises'**"
   ]
  },
  {
   "cell_type": "markdown",
   "id": "4666a662",
   "metadata": {},
   "source": [
    "**Problem Statement 09: Extracting Email Addresses:**\n",
    "**Problem Statement: Given a large text file containing various lines of data, extract all the email addresses present in the file.**\n",
    "**Example: \"Contact us at support@example.com or sales@example.org for more information.\" should yield [\"support@example.com\", \"sales@example.org\"].**"
   ]
  },
  {
   "cell_type": "markdown",
   "id": "22bfca20",
   "metadata": {},
   "source": [
    "**Problem Statement 10: Validating Phone Numbers:**\n",
    "**Problem Statement: Create a function to validate whether a given string is a valid phone number in the format (XXX) XXX-XXXX or XXX-XXX-XXXX.**\n",
    "**Example: \"Phone number (123) 456-7890 is valid, but 123-45-67890 is not.\" should yield True for the first phone number and False for the second.**"
   ]
  },
  {
   "cell_type": "markdown",
   "id": "f5c6f8e2",
   "metadata": {},
   "source": [
    "**Problem Statement 11: Finding Dates:**\n",
    "**Problem Statement: Write a script to find all the dates in a text document, where dates are in the format DD/MM/YYYY.**\n",
    "**Example: \"Important dates are 12/05/2021 and 23/08/2022.\" should yield [\"12/05/2021\", \"23/08/2022\"].**"
   ]
  },
  {
   "cell_type": "markdown",
   "id": "1f139d88",
   "metadata": {},
   "source": [
    "**Problem Statement 12: Replacing URLs:**\n",
    "**Problem Statement: Given a string containing multiple URLs, replace all the URLs with a placeholder text [LINK].**\n",
    "**Example: \"Visit https://example.com or http://example.org for more info.\" should yield \"Visit [LINK] or [LINK] for more info.\"**"
   ]
  },
  {
   "cell_type": "markdown",
   "id": "83fbf997",
   "metadata": {},
   "source": [
    "**Problem Statement 13: Extracting Hashtags:**\n",
    "**Problem Statement: Extract all the hashtags from a social media post.**\n",
    "**Example: \"Loving the #sunshine and #beachlife!\" should yield [\"#sunshine\", \"#beachlife\"].**"
   ]
  }
 ],
 "metadata": {
  "kernelspec": {
   "display_name": "Python 3 (ipykernel)",
   "language": "python",
   "name": "python3"
  },
  "language_info": {
   "codemirror_mode": {
    "name": "ipython",
    "version": 3
   },
   "file_extension": ".py",
   "mimetype": "text/x-python",
   "name": "python",
   "nbconvert_exporter": "python",
   "pygments_lexer": "ipython3",
   "version": "3.13.3"
  }
 },
 "nbformat": 4,
 "nbformat_minor": 5
}
