{
 "cells": [
  {
   "cell_type": "raw",
   "id": "543ca102-cdff-4ca1-9606-151ef004a06e",
   "metadata": {},
   "source": [
    "You are building a word game. Write a function that checks whether two given strings are anagrams (contain the same letters, ignoring spaces and capitalization).\n",
    "# Test cases\n",
    "(\"listen\", \"silent\")\n",
    "# Output: True\n",
    " \n",
    "(\"hello\", \"world\")\n",
    "# Output: False"
   ]
  },
  {
   "cell_type": "code",
   "execution_count": 1,
   "id": "eb6af0ee-a219-4d36-9264-966d75f11b23",
   "metadata": {},
   "outputs": [
    {
     "name": "stdin",
     "output_type": "stream",
     "text": [
      "Input your first word: listen\n",
      "Input your second word: silent\n"
     ]
    },
    {
     "name": "stdout",
     "output_type": "stream",
     "text": [
      "True\n"
     ]
    }
   ],
   "source": [
    "def are_anagrams(first_string, second_string):\n",
    "    normalized_first_string = first_string.replace(\" \", \"\").lower()\n",
    "    normalized_second_string = second_string.replace(\" \", \"\").lower()\n",
    "    first_string_list = list(normalized_first_string)\n",
    "    second_string_list = list(normalized_second_string)\n",
    "    first_string_list.sort()\n",
    "    second_string_list.sort()\n",
    "    if first_string_list == second_string_list:\n",
    "        return True\n",
    "    else:\n",
    "        return False\n",
    "\n",
    "first_word = input(\"Input your first word:\")\n",
    "second_word = input(\"Input your second word:\")\n",
    "result = are_anagrams(first_word, second_word)\n",
    "print(result)"
   ]
  },
  {
   "cell_type": "raw",
   "id": "5c2c0c98-b471-4409-aaca-d706b8ed9785",
   "metadata": {},
   "source": [
    "You are working on a code formatter. Write a function that converts a given CamelCase string to snake_case (all lowercase with underscores).\n",
    "\n",
    "# Test case \n",
    "(\"CamelCaseExample\")\n",
    "# Output: \"camel_case_example\""
   ]
  },
  {
   "cell_type": "code",
   "execution_count": 2,
   "id": "4dd06964-b706-4567-a954-b033ccad9acc",
   "metadata": {},
   "outputs": [
    {
     "name": "stdin",
     "output_type": "stream",
     "text": [
      "Input your CamelCase: CamelCase\n"
     ]
    },
    {
     "name": "stdout",
     "output_type": "stream",
     "text": [
      "snake_case: camel_case\n"
     ]
    }
   ],
   "source": [
    "def convert_camel_case_to_snake_case(camel_case_string):\n",
    "    uppercase_letters = \"ABCDEFGHIJKLMNOPQRSTUVWXYZ\"\n",
    "    snake_case_string = camel_case_string[0].lower()\n",
    "    for character in camel_case_string[1:]:\n",
    "        if character in uppercase_letters:\n",
    "            snake_case_string += \"_\"\n",
    "        snake_case_string += character.lower()\n",
    "    return snake_case_string\n",
    "\n",
    "camel_case_input = input(\"Input your CamelCase:\")\n",
    "snake_case_output = convert_camel_case_to_snake_case(camel_case_input)\n",
    "print(\"snake_case:\", snake_case_output)"
   ]
  },
  {
   "cell_type": "raw",
   "id": "69fb3e2a-1940-4d69-9dd7-ddb6e7a043fa",
   "metadata": {},
   "source": [
    "You are building a user registration system. Write a function that checks whether a given password meets the following criteria:\n",
    "1.    At least 8 characters long\n",
    "2.    Contains at least one uppercase letter\n",
    "3.    Contains at least one lowercase letter\n",
    "4.    Contains at least one digit"
   ]
  },
  {
   "cell_type": "code",
   "execution_count": 3,
   "id": "d5764414-295b-43c6-8006-4540ee77d984",
   "metadata": {},
   "outputs": [
    {
     "name": "stdin",
     "output_type": "stream",
     "text": [
      "Input your password: 12Abcdefgh\n"
     ]
    },
    {
     "name": "stdout",
     "output_type": "stream",
     "text": [
      "Password meets our criteria!\n"
     ]
    }
   ],
   "source": [
    "def is_password_valid(password):\n",
    "    uppercase_letters = \"ABCDEFGHIJKLMNOPQRSTUVWXYZ\"\n",
    "    lowercase_letters = \"abcdefghijklmnopqrstuvwxyz\"\n",
    "    digits = \"1234567890\"\n",
    "    has_uppercase = False\n",
    "    has_lowercase = False\n",
    "    has_digit = False\n",
    "    for character in password:\n",
    "        if character in uppercase_letters:\n",
    "            has_uppercase = True\n",
    "        elif character in lowercase_letters:\n",
    "            has_lowercase = True\n",
    "        elif character in digits:\n",
    "            has_digit = True\n",
    "    if len(password) > 8 and has_uppercase and has_lowercase and has_digit:\n",
    "        print(\"Password meets our criteria!\")\n",
    "    else:\n",
    "        print(\"Password does not meet our criteria!\")\n",
    "\n",
    "password_input = input(\"Input your password:\")\n",
    "is_password_valid(password_input)"
   ]
  },
  {
   "cell_type": "raw",
   "id": "5319c0b3-765c-4a95-8beb-fb71b6364260",
   "metadata": {},
   "source": [
    "You are working on a text manipulation tool that requires rotating words in a sentence. Implement a Python function rotate_sentence(sentence, n) that takes a sentence and an integer n as input and rotates each word in the sentence by n positions to the right. \n",
    "# Test case rotating \"Hello World\" by\n",
    "1 position results in \"World Hello\"."
   ]
  },
  {
   "cell_type": "code",
   "execution_count": 4,
   "id": "3f9fca66-996f-40cf-b988-2aec6acd06c0",
   "metadata": {},
   "outputs": [
    {
     "name": "stdin",
     "output_type": "stream",
     "text": [
      "Input your sentence: Hello World\n",
      "Input number of positions: 1\n"
     ]
    },
    {
     "name": "stdout",
     "output_type": "stream",
     "text": [
      "Rotated sentence: World Hello\n"
     ]
    }
   ],
   "source": [
    "def rotate_sentence(sentence, number_of_positions):\n",
    "    word_list = sentence.split()\n",
    "    for _ in range(number_of_positions):\n",
    "        temp_word = word_list.pop(0)\n",
    "        word_list.append(temp_word)\n",
    "    rotated_sentence = \" \".join(word_list)\n",
    "    return rotated_sentence\n",
    "\n",
    "input_sentence = input(\"Input your sentence:\")\n",
    "positions = int(input(\"Input number of positions:\"))\n",
    "rotated_sentence = rotate_sentence(input_sentence, positions)\n",
    "print(\"Rotated sentence:\", rotated_sentence)"
   ]
  },
  {
   "cell_type": "raw",
   "id": "287895ad-9a40-43b9-aacb-613c38df6449",
   "metadata": {},
   "source": [
    "You are working on a text processing tool and need to determine whether a given string is a palindrome. Write a Python function is_palindrome(word) that takes a word as input and returns True if it is a palindrome, otherwise False."
   ]
  },
  {
   "cell_type": "code",
   "execution_count": 5,
   "id": "d1609032-7071-4f01-94b6-fa80bf517b0c",
   "metadata": {},
   "outputs": [
    {
     "name": "stdin",
     "output_type": "stream",
     "text": [
      "Input your word: Camel\n"
     ]
    },
    {
     "name": "stdout",
     "output_type": "stream",
     "text": [
      "Is not a palindrome.\n"
     ]
    }
   ],
   "source": [
    "def is_palindrome(word):\n",
    "    lowercase_word = word.lower()\n",
    "    cleaned_word = lowercase_word.replace(\"\", \"\")\n",
    "    reversed_word = cleaned_word[::-1]\n",
    "    if cleaned_word == reversed_word:\n",
    "        return True\n",
    "    else:\n",
    "        return False\n",
    "\n",
    "word_input = input(\"Input your word:\")\n",
    "result = is_palindrome(word_input)\n",
    "if result:\n",
    "    print(\"Is a palindrome.\")\n",
    "else:\n",
    "    print(\"Is not a palindrome.\")"
   ]
  }
 ],
 "metadata": {
  "kernelspec": {
   "display_name": "Python 3 (ipykernel)",
   "language": "python",
   "name": "python3"
  },
  "language_info": {
   "codemirror_mode": {
    "name": "ipython",
    "version": 3
   },
   "file_extension": ".py",
   "mimetype": "text/x-python",
   "name": "python",
   "nbconvert_exporter": "python",
   "pygments_lexer": "ipython3",
   "version": "3.13.2"
  }
 },
 "nbformat": 4,
 "nbformat_minor": 5
}
