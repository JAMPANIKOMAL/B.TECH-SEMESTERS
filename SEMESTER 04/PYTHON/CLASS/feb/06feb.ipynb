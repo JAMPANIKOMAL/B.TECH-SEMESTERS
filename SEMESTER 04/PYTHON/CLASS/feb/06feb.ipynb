{
 "cells": [
  {
   "cell_type": "markdown",
   "id": "96e3984e-7819-4d5f-ad2b-bf54bd9a561f",
   "metadata": {},
   "source": [
    "**Patterns using for loops**"
   ]
  },
  {
   "cell_type": "code",
   "execution_count": 1,
   "id": "415978a1-eed5-45dc-af57-181a00c50170",
   "metadata": {},
   "outputs": [
    {
     "name": "stdout",
     "output_type": "stream",
     "text": [
      "1\n",
      "121\n",
      "121321\n",
      "1213214321\n",
      "121321432154321\n"
     ]
    }
   ],
   "source": [
    "rows = 5\n",
    "for i in range(1, rows + 1):\n",
    "    for j in range(1, i + 1):\n",
    "        print(''.join(str(k) for k in range(j, 0, -1)), end = '')\n",
    "    print()"
   ]
  },
  {
   "cell_type": "markdown",
   "id": "05cbe243-a1fd-4305-b824-c3c302aa30a5",
   "metadata": {},
   "source": [
    "**String**"
   ]
  },
  {
   "cell_type": "code",
   "execution_count": 2,
   "id": "02941d68-ef51-49a1-bdb4-746eb0eefd3a",
   "metadata": {},
   "outputs": [
    {
     "name": "stdout",
     "output_type": "stream",
     "text": [
      "Index of 'Python': 19\n",
      "Updated quote: Life is short, use Javascript!\n"
     ]
    }
   ],
   "source": [
    "# find and replace\n",
    "quote = \"Life is short, use Python!\"\n",
    "print(\"Index of 'Python':\", quote.find(\"Python\"))\n",
    "updated_quote = quote.replace(\"Python\", \"Javascript\")\n",
    "print(\"Updated quote:\", updated_quote)"
   ]
  },
  {
   "cell_type": "code",
   "execution_count": 3,
   "id": "46fb092f-54dc-4242-8cb0-6ece17b6fb4a",
   "metadata": {},
   "outputs": [
    {
     "name": "stdout",
     "output_type": "stream",
     "text": [
      "\n",
      "Roses are red,\n",
      "Voilets are blue,\n",
      "Sugar is sweet,\n",
      "And so are you.\n",
      "\n"
     ]
    }
   ],
   "source": [
    "# multiline strings\n",
    "poem = \"\"\"\n",
    "Roses are red,\n",
    "Voilets are blue,\n",
    "Sugar is sweet,\n",
    "And so are you.\n",
    "\"\"\"\n",
    "\n",
    "print(poem)"
   ]
  },
  {
   "cell_type": "code",
   "execution_count": 4,
   "id": "40980950-f4a6-4471-8826-9a5248efb55a",
   "metadata": {},
   "outputs": [
    {
     "name": "stdout",
     "output_type": "stream",
     "text": [
      "Original string: Hello, World!\n",
      "String starts with 'Hello'\n",
      "String ends with 'World!'\n"
     ]
    }
   ],
   "source": [
    "my_string = \"Hello, World!\"\n",
    "print(\"Original string:\", my_string)\n",
    "# Check if string starts with a prefix\n",
    "if my_string.startswith(\"Hello\"):\n",
    "    print(\"String starts with 'Hello'\")\n",
    "\n",
    "# Check if string ends with a suffix\n",
    "if my_string.endswith(\"World!\"):\n",
    "    print(\"String ends with 'World!'\")"
   ]
  },
  {
   "cell_type": "code",
   "execution_count": 7,
   "id": "b0cbf38f-616e-4269-9705-e5eb0992e4bd",
   "metadata": {},
   "outputs": [
    {
     "name": "stdout",
     "output_type": "stream",
     "text": [
      "Original string:     Hello, World!    \n",
      "String after stripping leading whitespace: Hello, World!    \n",
      "String after stripping trailing whitespace:     Hello, World!\n",
      "String after stripping leading and trailing whitespace: Hello, World!\n"
     ]
    }
   ],
   "source": [
    "my_string = \"    Hello, World!    \"\n",
    "print(\"Original string:\", my_string)\n",
    "\n",
    "#Reomve leading whitespaces\n",
    "stripped_left = my_string.lstrip()\n",
    "print(\"String after stripping leading whitespace:\", stripped_left)\n",
    "\n",
    "#Reomve trialing whitespaces\n",
    "stripped_right = my_string.rstrip()\n",
    "print(\"String after stripping trailing whitespace:\", stripped_right)\n",
    "\n",
    "#Reomve leading and trialing whitespaces\n",
    "stripped = my_string.strip()\n",
    "print(\"String after stripping leading and trailing whitespace:\", stripped)"
   ]
  },
  {
   "cell_type": "code",
   "execution_count": null,
   "id": "e1433990-a824-4118-b052-370033758e0d",
   "metadata": {},
   "outputs": [],
   "source": []
  }
 ],
 "metadata": {
  "kernelspec": {
   "display_name": "Python 3 (ipykernel)",
   "language": "python",
   "name": "python3"
  },
  "language_info": {
   "codemirror_mode": {
    "name": "ipython",
    "version": 3
   },
   "file_extension": ".py",
   "mimetype": "text/x-python",
   "name": "python",
   "nbconvert_exporter": "python",
   "pygments_lexer": "ipython3",
   "version": "3.13.1"
  }
 },
 "nbformat": 4,
 "nbformat_minor": 5
}
