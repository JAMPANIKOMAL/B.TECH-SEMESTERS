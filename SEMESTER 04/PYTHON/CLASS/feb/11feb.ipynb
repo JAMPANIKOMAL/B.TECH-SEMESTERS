{
 "cells": [
  {
   "cell_type": "markdown",
   "id": "cc03da69-fbad-4e16-8524-493015d83746",
   "metadata": {},
   "source": [
    "Lambda Function"
   ]
  },
  {
   "cell_type": "code",
   "execution_count": 1,
   "id": "4585b8f1-c64f-45d5-a70c-5a38ba8001b7",
   "metadata": {},
   "outputs": [
    {
     "name": "stdout",
     "output_type": "stream",
     "text": [
      "PRASANN BAROT SIR\n"
     ]
    }
   ],
   "source": [
    "str1 = \"Prasann Barot Sir\"\n",
    "upper = lambda string: string.upper()\n",
    "print(upper(str1))"
   ]
  },
  {
   "cell_type": "code",
   "execution_count": 2,
   "id": "1385cbb8-d057-4c2a-b19b-2543befa802b",
   "metadata": {},
   "outputs": [
    {
     "name": "stdout",
     "output_type": "stream",
     "text": [
      "Using 'def' keyword, cube: 125\n",
      "Using lambda function, cube: 125\n"
     ]
    }
   ],
   "source": [
    "def cube(y):\n",
    "    return y * y * y\n",
    "lambda_cube = lambda y: y * y * y\n",
    "print(\"Using 'def' keyword, cube:\", cube(5))\n",
    "print(\"Using lambda function, cube:\", lambda_cube(5))"
   ]
  },
  {
   "cell_type": "code",
   "execution_count": 4,
   "id": "14ca259d-b206-405a-89fd-0896581521cd",
   "metadata": {},
   "outputs": [
    {
     "name": "stdout",
     "output_type": "stream",
     "text": [
      "Sorted list\n",
      "[1, 2, 3, 4, 5]\n",
      "Original list after sorting:\n",
      "[1, 5, 4, 2, 3]\n",
      "Sort List:\n",
      "[1, 2, 3, 4, 5]\n"
     ]
    }
   ],
   "source": [
    "L = [1, 5, 4, 2, 3]\n",
    "print(\"Sorted list\")\n",
    "a = sorted(L)\n",
    "print(a)\n",
    "#Print the original list\n",
    "print(\"Original list after sorting:\")\n",
    "print(L)\n",
    "print(\"Sort List:\")\n",
    "L.sort()\n",
    "print(L)"
   ]
  },
  {
   "cell_type": "code",
   "execution_count": 5,
   "id": "5a45fcf3-acad-41bf-b10c-7fefceb64d1a",
   "metadata": {},
   "outputs": [
    {
     "name": "stdout",
     "output_type": "stream",
     "text": [
      "[(1, 5), (3, 10), (2, 80)]\n"
     ]
    },
    {
     "data": {
      "text/plain": [
       "[(1, 5), (3, 10), (2, 80)]"
      ]
     },
     "execution_count": 5,
     "metadata": {},
     "output_type": "execute_result"
    }
   ],
   "source": [
    "#Sorting a listy of tuples by second element\n",
    "data = [(3, 10), (1, 5), (2, 80)]\n",
    "sorted_data = sorted(data, key = lambda x: x[1])\n",
    "print(sorted_data)\n",
    "[(1, 5), (3, 10), (2, 80)]"
   ]
  },
  {
   "cell_type": "code",
   "execution_count": 6,
   "id": "28bdf81d-2281-44c1-aaea-d55a0e8c8402",
   "metadata": {},
   "outputs": [
    {
     "name": "stdout",
     "output_type": "stream",
     "text": [
      "Factorial of 5: 120\n"
     ]
    }
   ],
   "source": [
    "#Calculating factorial using recursion\n",
    "factorial = lambda n: 1 if n == 1 else n * factorial(n - 1)\n",
    "print(\"Factorial of 5:\", factorial(5))"
   ]
  },
  {
   "cell_type": "code",
   "execution_count": 7,
   "id": "aa75f0d2-3ec9-4d77-aaa2-1c3c0d10daaf",
   "metadata": {},
   "outputs": [
    {
     "name": "stdout",
     "output_type": "stream",
     "text": [
      "[10, 6, 10]\n"
     ]
    }
   ],
   "source": [
    "def myfunc(n):\n",
    "    return len(n)\n",
    "\n",
    "x = list(map(myfunc, (\"Rashtriya \", \"Raksha\", \"University\")))\n",
    "print(x)"
   ]
  },
  {
   "cell_type": "markdown",
   "id": "db699e11-e254-488a-be24-989c844ee10f",
   "metadata": {},
   "source": [
    "In exam, sir will ask question about fibonnaci series using lambda"
   ]
  },
  {
   "cell_type": "code",
   "execution_count": 8,
   "id": "7cdee922-fb0f-40d3-a2e0-7d48a90ccba9",
   "metadata": {},
   "outputs": [
    {
     "name": "stdout",
     "output_type": "stream",
     "text": [
      "<filter object at 0x000001BE9D6B28C0>\n",
      "18\n",
      "24\n",
      "32\n"
     ]
    }
   ],
   "source": [
    "ages = [5, 12, 17, 18, 24, 32]\n",
    "def myfunc(x):\n",
    "    if x < 18:\n",
    "        return False\n",
    "    else:\n",
    "        return True\n",
    "adults = filter(myfunc, ages)\n",
    "print(adults)\n",
    "for x in adults:\n",
    "    print(x)"
   ]
  },
  {
   "cell_type": "code",
   "execution_count": 16,
   "id": "cdfb92b6-76a5-4273-bfa5-6c5691eb8718",
   "metadata": {},
   "outputs": [
    {
     "name": "stdout",
     "output_type": "stream",
     "text": [
      "[2, 4, 6, 8, 10]\n"
     ]
    }
   ],
   "source": [
    "numbers = [1, 2, 3, 4, 5, 6, 7, 8, 9, 10]\n",
    "#Use filter() with lambda to filter even numbers\n",
    "even_numbers = list(filter(lambda x: x % 2 == 0, numbers))\n",
    "print(even_numbers)"
   ]
  },
  {
   "cell_type": "code",
   "execution_count": 22,
   "id": "f50f75d9-b100-4e91-965c-fda12b0dafce",
   "metadata": {},
   "outputs": [
    {
     "name": "stdin",
     "output_type": "stream",
     "text": [
      "Enter your number: 3\n"
     ]
    },
    {
     "ename": "NameError",
     "evalue": "name 'i' is not defined",
     "output_type": "error",
     "traceback": [
      "\u001b[1;31m---------------------------------------------------------------------------\u001b[0m",
      "\u001b[1;31mNameError\u001b[0m                                 Traceback (most recent call last)",
      "Cell \u001b[1;32mIn[22], line 10\u001b[0m\n\u001b[0;32m      7\u001b[0m         \u001b[38;5;28;01mreturn\u001b[39;00m fibonacci(x \u001b[38;5;241m-\u001b[39m \u001b[38;5;241m2\u001b[39m) \u001b[38;5;241m+\u001b[39m fibonacci(x \u001b[38;5;241m-\u001b[39m \u001b[38;5;241m1\u001b[39m)\n\u001b[0;32m      9\u001b[0m n \u001b[38;5;241m=\u001b[39m \u001b[38;5;28mint\u001b[39m(\u001b[38;5;28minput\u001b[39m(\u001b[38;5;124m\"\u001b[39m\u001b[38;5;124mEnter your number:\u001b[39m\u001b[38;5;124m\"\u001b[39m))\n\u001b[1;32m---> 10\u001b[0m \u001b[38;5;28mprint\u001b[39m(\u001b[38;5;124m\"\u001b[39m\u001b[38;5;124mFibonacci Series:\u001b[39m\u001b[38;5;124m\"\u001b[39m, \u001b[38;5;28mlist\u001b[39m(\u001b[38;5;28mmap\u001b[39m(fibonacci, \u001b[43mi\u001b[49m \u001b[38;5;129;01min\u001b[39;00m \u001b[38;5;28mrange\u001b[39m(n \u001b[38;5;241m+\u001b[39m \u001b[38;5;241m1\u001b[39m))))\n",
      "\u001b[1;31mNameError\u001b[0m: name 'i' is not defined"
     ]
    }
   ],
   "source": [
    "def fibonacci(x):\n",
    "    if x == 1:\n",
    "        return 0\n",
    "    elif x == 2:\n",
    "        return 1\n",
    "    else:\n",
    "        return fibonacci(x - 2) + fibonacci(x - 1)\n",
    "        \n",
    "n = int(input(\"Enter your number:\"))\n",
    "Fibonacci =Series\n",
    "print(\"Fibonacci Series:\", list(map(fibonacci, range(n + 1))))"
   ]
  },
  {
   "cell_type": "code",
   "execution_count": 15,
   "id": "c5ce1cde-fa06-4374-b496-4973ce55bb89",
   "metadata": {},
   "outputs": [
    {
     "ename": "SyntaxError",
     "evalue": "invalid syntax (1756347755.py, line 3)",
     "output_type": "error",
     "traceback": [
      "\u001b[1;36m  Cell \u001b[1;32mIn[15], line 3\u001b[1;36m\u001b[0m\n\u001b[1;33m    fibonacci = lambda x:\u001b[0m\n\u001b[1;37m                          ^\u001b[0m\n\u001b[1;31mSyntaxError\u001b[0m\u001b[1;31m:\u001b[0m invalid syntax\n"
     ]
    }
   ],
   "source": [
    "n = int(input(\"Enter your number:\"))\n",
    "\n",
    "fibonacci = lambda x: 0 if x == 1\n",
    "print(\"Fibonacci Series:\", fibonacci(n))"
   ]
  },
  {
   "cell_type": "code",
   "execution_count": null,
   "id": "c51defe0-9598-4e4b-8c6b-79a655785e82",
   "metadata": {},
   "outputs": [],
   "source": []
  }
 ],
 "metadata": {
  "kernelspec": {
   "display_name": "Python 3 (ipykernel)",
   "language": "python",
   "name": "python3"
  },
  "language_info": {
   "codemirror_mode": {
    "name": "ipython",
    "version": 3
   },
   "file_extension": ".py",
   "mimetype": "text/x-python",
   "name": "python",
   "nbconvert_exporter": "python",
   "pygments_lexer": "ipython3",
   "version": "3.13.1"
  }
 },
 "nbformat": 4,
 "nbformat_minor": 5
}
