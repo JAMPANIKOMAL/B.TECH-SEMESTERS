{
 "cells": [
  {
   "cell_type": "markdown",
   "id": "17797cb7-fcdd-4f9b-ac58-65a112f34777",
   "metadata": {},
   "source": [
    "List manipulation"
   ]
  },
  {
   "cell_type": "code",
   "execution_count": 1,
   "id": "142a18bb-a603-4835-895e-f2c876387941",
   "metadata": {},
   "outputs": [
    {
     "name": "stdout",
     "output_type": "stream",
     "text": [
      "['Mathemamtics', 'Chemistry', 1997, 2000]\n",
      "['Mathemamtics', 'Chemistry', 1997, 2000, 20544]\n"
     ]
    }
   ],
   "source": [
    "my_list = [\"Mathemamtics\", \"Chemistry\", 1997, 2000]\n",
    "print(my_list)\n",
    "my_list.append(20544)\n",
    "print(my_list)"
   ]
  },
  {
   "cell_type": "code",
   "execution_count": 2,
   "id": "dba96df1-17c0-4a02-bfa5-013ce5682362",
   "metadata": {},
   "outputs": [
    {
     "name": "stdout",
     "output_type": "stream",
     "text": [
      "[1, 2, 3]\n",
      "[1, 2, 3, 1, 2, 3, 4, 5]\n"
     ]
    }
   ],
   "source": [
    "list1 = [1, 2, 3,]\n",
    "list2 = [1, 2, 3, 4, 5]\n",
    "print(list1)\n",
    "list1.extend(list2)\n",
    "print(list1)"
   ]
  },
  {
   "cell_type": "code",
   "execution_count": 4,
   "id": "91d233ca-0f4a-410c-b660-d71a39d59fb9",
   "metadata": {},
   "outputs": [
    {
     "name": "stdout",
     "output_type": "stream",
     "text": [
      "['Mathemamtics', 'Chemistry', 1997, 2000]\n",
      "['Mathemamtics', 1997, 2000]\n"
     ]
    }
   ],
   "source": [
    "my_list = [\"Mathemamtics\", \"Chemistry\", 1997, 2000]\n",
    "print(my_list)\n",
    "last_value = my_list.pop(1)\n",
    "print(my_list)"
   ]
  },
  {
   "cell_type": "code",
   "execution_count": 5,
   "id": "794dc037-983a-4de6-ae69-6eb1a4f8c0f2",
   "metadata": {},
   "outputs": [
    {
     "name": "stdout",
     "output_type": "stream",
     "text": [
      "[5, 4, 3, 1, 8]\n",
      "[1, 3, 4, 5, 8]\n"
     ]
    }
   ],
   "source": [
    "list3 = [5, 4, 3, 1, 8]\n",
    "print(list3)\n",
    "list3.sort()\n",
    "print(list3)"
   ]
  },
  {
   "cell_type": "code",
   "execution_count": 6,
   "id": "b625ce99-0777-4654-bf9b-5b27da9c0d19",
   "metadata": {},
   "outputs": [],
   "source": [
    "list4 = [1, 2, 3, 3, 2, 4]\n",
    "count_of_twos = list4.count(2)"
   ]
  },
  {
   "cell_type": "code",
   "execution_count": 17,
   "id": "2510e95d-02ab-4690-ab40-71fd3b6f641b",
   "metadata": {},
   "outputs": [
    {
     "name": "stdout",
     "output_type": "stream",
     "text": [
      "['1']\n"
     ]
    }
   ],
   "source": [
    "# # Problem 01\n",
    "# def filter_and_convert_to_int(l):\n",
    "#     num = \"0123456789.\"\n",
    "#     nl =[]\n",
    "#     for i in l:\n",
    "#         for j in i:\n",
    "#             li = len(i)\n",
    "#             c = 0\n",
    "#             if j in num:\n",
    "#                 c += 1\n",
    "#         if li == c:\n",
    "#             nl.append(i)\n",
    "#     return nl\n",
    "\n",
    "# l = [\"a\", \"1\", \"a1\", \"1a\", \"1.23\"]\n",
    "# print(filter_and_convert_to_int(l))"
   ]
  },
  {
   "cell_type": "code",
   "execution_count": 19,
   "id": "1f710102-002c-49f7-814c-2d1d5d16de7a",
   "metadata": {},
   "outputs": [
    {
     "name": "stdout",
     "output_type": "stream",
     "text": [
      "[1, 1.23]\n"
     ]
    }
   ],
   "source": [
    "# Problem 01\n",
    "# Partially correct refer sir's code\n",
    "def filter_and_convert_to_int(l):\n",
    "    num = \"0123456789.\"\n",
    "    nl =[]\n",
    "    for i in l:\n",
    "        li = len(i)\n",
    "        c = 0\n",
    "        for j in range(li):\n",
    "            if i[j] in num:\n",
    "                c += 1\n",
    "        if li == c:\n",
    "            if \".\" in i:\n",
    "                nl.append(float(i))\n",
    "            else:\n",
    "                nl.append(int(i))\n",
    "    return nl\n",
    "\n",
    "l = [\"a\", \"1\", \"a1\", \"1a\", \"1.23\"]\n",
    "print(filter_and_convert_to_int(l))"
   ]
  },
  {
   "cell_type": "code",
   "execution_count": 20,
   "id": "2af921b4-8b5f-49c7-bb1b-27187bf744d4",
   "metadata": {},
   "outputs": [
    {
     "name": "stdout",
     "output_type": "stream",
     "text": [
      "['ant', 'oninon', 'orion', 'pig', 'tor']\n"
     ]
    }
   ],
   "source": [
    "# Problem 02\n",
    "def mergeandsortplaylist(p1, p2):\n",
    "    p1.extend(p2)\n",
    "    p1.sort()\n",
    "    return p1\n",
    "\n",
    "p1 = [\"ant\", \"pig\", \"tor\"]\n",
    "p2 = [\"oninon\", \"orion\"]\n",
    "p3 = mergeandsortplaylist(p1, p2)\n",
    "print(p3)"
   ]
  },
  {
   "cell_type": "code",
   "execution_count": 21,
   "id": "30b7cbaa-7beb-47ad-a2a8-cefd3d3b026f",
   "metadata": {},
   "outputs": [
    {
     "ename": "_IncompleteInputError",
     "evalue": "incomplete input (3257498282.py, line 3)",
     "output_type": "error",
     "traceback": [
      "\u001b[1;36m  Cell \u001b[1;32mIn[21], line 3\u001b[1;36m\u001b[0m\n\u001b[1;33m    \u001b[0m\n\u001b[1;37m    ^\u001b[0m\n\u001b[1;31m_IncompleteInputError\u001b[0m\u001b[1;31m:\u001b[0m incomplete input\n"
     ]
    }
   ],
   "source": [
    "# Problem 03\n",
    "def filter_numbers(numli, con):\n",
    "    "
   ]
  },
  {
   "cell_type": "code",
   "execution_count": 25,
   "id": "4d2080f7-a6c3-41b0-ab45-f89a345dbed1",
   "metadata": {},
   "outputs": [
    {
     "name": "stdout",
     "output_type": "stream",
     "text": [
      "[3, 4, 1, 2]\n"
     ]
    }
   ],
   "source": [
    "# Problem 04\n",
    "def rotate_list_left(numli, p):\n",
    "    nl = []\n",
    "    for i in range(len(numli)):\n",
    "        nl.append(numli[(i + p) % len(numli)])\n",
    "    return nl\n",
    "\n",
    "l = [1, 2, 3, 4]\n",
    "nl = rotate_list_left(l, 6)\n",
    "print(nl)"
   ]
  },
  {
   "cell_type": "code",
   "execution_count": 26,
   "id": "892a1a78-2f63-4e93-a68e-d1fdd40888d1",
   "metadata": {},
   "outputs": [
    {
     "name": "stdin",
     "output_type": "stream",
     "text": [
      "Enter your full name: Jampani Komal\n"
     ]
    },
    {
     "name": "stdout",
     "output_type": "stream",
     "text": [
      "Username: JKomal\n"
     ]
    }
   ],
   "source": [
    "# Problem 05\n",
    "fn = input(\"Enter your full name:\")\n",
    "\n",
    "un = \"\" \n",
    "un += fn[0]\n",
    "for i in range(len(fn)):\n",
    "    if fn[i] == \" \":\n",
    "        un = un + fn[i + 1 : ]\n",
    "\n",
    "print(\"Username:\", un)"
   ]
  },
  {
   "cell_type": "code",
   "execution_count": 27,
   "id": "7a1500c3-c8a4-4954-9620-642c5935de37",
   "metadata": {},
   "outputs": [
    {
     "name": "stdin",
     "output_type": "stream",
     "text": [
      "Enter your string: komal\n"
     ]
    },
    {
     "name": "stdout",
     "output_type": "stream",
     "text": [
      "\n"
     ]
    }
   ],
   "source": [
    "# Problem 06\n",
    "# Wrong\n",
    "s1 = input(\"Enter your string:\")\n",
    "s2 = \"\"\n",
    "\n",
    "ls1 = len(s1)\n",
    "for i in range(ls1 - 1, -1):\n",
    "    s2 = s2 + ls1[i]\n",
    "\n",
    "print(s2)"
   ]
  },
  {
   "cell_type": "code",
   "execution_count": null,
   "id": "8d5a75cb-2642-48ff-b01d-c02a8cd2f23d",
   "metadata": {},
   "outputs": [],
   "source": []
  }
 ],
 "metadata": {
  "kernelspec": {
   "display_name": "Python 3 (ipykernel)",
   "language": "python",
   "name": "python3"
  },
  "language_info": {
   "codemirror_mode": {
    "name": "ipython",
    "version": 3
   },
   "file_extension": ".py",
   "mimetype": "text/x-python",
   "name": "python",
   "nbconvert_exporter": "python",
   "pygments_lexer": "ipython3",
   "version": "3.13.1"
  }
 },
 "nbformat": 4,
 "nbformat_minor": 5
}
