{
 "cells": [
  {
   "cell_type": "markdown",
   "id": "6c52726f-e6ee-4ae6-9b65-147b803c501f",
   "metadata": {},
   "source": [
    "Dictionary Inbuilt functions"
   ]
  },
  {
   "cell_type": "code",
   "execution_count": 1,
   "id": "20323160-bb48-4e32-8f40-e26f9ecf09d0",
   "metadata": {},
   "outputs": [
    {
     "name": "stdout",
     "output_type": "stream",
     "text": [
      "{'1': 'RRU', '2': 'SITAICS', '3': 'CE, IT'}\n",
      "{}\n"
     ]
    }
   ],
   "source": [
    "my_dict = {'1' : 'RRU', '2' : 'SITAICS', '3' : 'CE, IT'}\n",
    "print(my_dict)\n",
    "my_dict.clear()\n",
    "print(my_dict)"
   ]
  },
  {
   "cell_type": "code",
   "execution_count": 4,
   "id": "021d29d9-8c5e-4360-b540-9c695a4dad4e",
   "metadata": {},
   "outputs": [
    {
     "name": "stdout",
     "output_type": "stream",
     "text": [
      "{'Name': 'Ram', 'Age': '19', 'Country': 'India'}\n",
      "Ram\n",
      "None\n"
     ]
    }
   ],
   "source": [
    "d = {\"Name\" : \"Ram\", \"Age\" : \"19\", \"Country\" : \"India\"}\n",
    "print(d)\n",
    "print(d.get('Name'))\n",
    "print(d.get('Gender'))"
   ]
  },
  {
   "cell_type": "code",
   "execution_count": 5,
   "id": "c7234b08-9dcd-460a-81a8-0c383bd8abb0",
   "metadata": {},
   "outputs": [
    {
     "name": "stdout",
     "output_type": "stream",
     "text": [
      "dict_items([('Name', 'Ram'), ('Age', '19'), ('Country', 'India')])\n",
      "Age\n",
      "19\n"
     ]
    }
   ],
   "source": [
    "d = {\"Name\" : \"Ram\", \"Age\" : \"19\", \"Country\" : \"India\"}\n",
    "x = d.items()\n",
    "print(x)\n",
    "print(list(d.items())[1][0])\n",
    "print(list(d.items())[1][1])"
   ]
  },
  {
   "cell_type": "code",
   "execution_count": 6,
   "id": "6bdf49ec-1359-4aa8-8b15-9d81ed280fb5",
   "metadata": {},
   "outputs": [
    {
     "name": "stdout",
     "output_type": "stream",
     "text": [
      "dict_keys(['Name', 'Age', 'Country'])\n"
     ]
    }
   ],
   "source": [
    "d = {\"Name\" : \"Ram\", \"Age\" : \"19\", \"Country\" : \"India\"}\n",
    "keys_view = d.keys()\n",
    "print(keys_view)"
   ]
  },
  {
   "cell_type": "code",
   "execution_count": 7,
   "id": "2b1bcce1-b74c-45ac-883e-7b85f29f39ec",
   "metadata": {},
   "outputs": [
    {
     "name": "stdout",
     "output_type": "stream",
     "text": [
      "19\n",
      "{'Name': 'Ram', 'Country': 'India'}\n"
     ]
    }
   ],
   "source": [
    "d = {\"Name\" : \"Ram\", \"Age\" : \"19\", \"Country\" : \"India\"}\n",
    "removed_value = d.pop('Age')\n",
    "print(removed_value)\n",
    "print(d)"
   ]
  },
  {
   "cell_type": "code",
   "execution_count": 8,
   "id": "a3adbe9c-bfd8-4c66-b50c-ab31edd09a25",
   "metadata": {},
   "outputs": [
    {
     "name": "stdout",
     "output_type": "stream",
     "text": [
      "{'Name': 'Alice', 'Age': 26, 'Country': 'USA'}\n",
      "{'Country': 'USA', 'Age': 26}\n"
     ]
    }
   ],
   "source": [
    "d1 = {\"Name\" : \"Alice\", \"Age\" : 25}\n",
    "d2 = {\"Country\" : \"USA\", \"Age\" : 26}\n",
    "d1.update(d2)\n",
    "print(d1)\n",
    "print(d2)"
   ]
  },
  {
   "cell_type": "code",
   "execution_count": 26,
   "id": "a7085006-d5f5-4d09-9028-fb833e3cbf24",
   "metadata": {},
   "outputs": [
    {
     "name": "stdin",
     "output_type": "stream",
     "text": [
      "Input your paragraph: My name is Jampani Komal. Is it oka\n"
     ]
    },
    {
     "name": "stdout",
     "output_type": "stream",
     "text": [
      "{'My': 1, 'name': 1, 'is': 1, 'Jampani': 1, 'Komal.': 1, 'Is': 1, 'it': 1}\n"
     ]
    }
   ],
   "source": [
    "#Problem 01\n",
    "#Not working\n",
    "def count_word_frequency(p):\n",
    "    pl = len(p)\n",
    "    pd = {}\n",
    "    word = \"\"\n",
    "    for i in range(pl):\n",
    "        if p[i] == \" \" or i == pl:\n",
    "            if word in pd.keys():\n",
    "                pd[word] += 1\n",
    "                word = \"\"\n",
    "            else:\n",
    "                pd[word] = 1\n",
    "                word = \"\"\n",
    "        else:\n",
    "            word += p[i]\n",
    "\n",
    "    return pd\n",
    "\n",
    "para = input(\"Input your paragraph:\")\n",
    "parad_dict = count_word_frequency(para)\n",
    "print(parad_dict)"
   ]
  },
  {
   "cell_type": "code",
   "execution_count": 27,
   "id": "a692c74d-a411-4670-ae94-120fdc6e2d56",
   "metadata": {},
   "outputs": [
    {
     "name": "stdin",
     "output_type": "stream",
     "text": [
      "Input your paragraph: My name is Jampani Komal. Is it oka\n"
     ]
    },
    {
     "name": "stdout",
     "output_type": "stream",
     "text": [
      "{'My': 1, 'name': 1, 'is': 1, 'Jampani': 1, 'Komal.': 1, 'Is': 1, 'it': 1, 'oka': 1}\n"
     ]
    }
   ],
   "source": [
    "#Problem 01\n",
    "\n",
    "def count_word_frequency(p):\n",
    "    pl = len(p)\n",
    "    pd = {}\n",
    "    word = \"\"\n",
    "    for i in range(pl):\n",
    "        if p[i] == \" \" or i == pl - 1: \n",
    "            if i == pl - 1: \n",
    "                word += p[i] \n",
    "            if word in pd.keys():\n",
    "                pd[word] += 1\n",
    "                word = \"\"\n",
    "            else:\n",
    "                pd[word] = 1\n",
    "                word = \"\"\n",
    "        else:\n",
    "            word += p[i]\n",
    "\n",
    "    return pd\n",
    "\n",
    "para = input(\"Input your paragraph:\")\n",
    "parad_dict = count_word_frequency(para)\n",
    "print(parad_dict)"
   ]
  },
  {
   "cell_type": "code",
   "execution_count": 29,
   "id": "cfde0c0c-164a-4478-aa5f-d0b6eb68d8e1",
   "metadata": {},
   "outputs": [
    {
     "name": "stdout",
     "output_type": "stream",
     "text": [
      "{'name': 'Ram', 'age': '19', 'country': 'India'}\n"
     ]
    }
   ],
   "source": [
    "# Problem 03\n",
    "#keys to lowercase\n",
    "def transform_keys_to_lowercase(d):\n",
    "    nd = {}\n",
    "    for i, j in d.items():\n",
    "        i = i.lower()\n",
    "        nd[i] = j\n",
    "    return nd\n",
    "\n",
    "d = {\"Name\" : \"Ram\", \"Age\" : \"19\", \"Country\" : \"India\"}\n",
    "nd = transform_keys_to_lowercase(d)\n",
    "print(nd)"
   ]
  },
  {
   "cell_type": "code",
   "execution_count": 31,
   "id": "28789684-e4d0-4ee8-9ae1-e65f4654d266",
   "metadata": {},
   "outputs": [
    {
     "name": "stdout",
     "output_type": "stream",
     "text": [
      "{'Ram': 'Name', '19': 'Age', 'India': 'Country'}\n"
     ]
    }
   ],
   "source": [
    "# Problem 04\n",
    "# invert dictionary\n",
    "def function_invert_dict(d):\n",
    "    nd = {}\n",
    "    for i, j in d.items():\n",
    "        nd[j] = i\n",
    "    return nd\n",
    "\n",
    "d = {\"Name\" : \"Ram\", \"Age\" : \"19\", \"Country\" : \"India\"}\n",
    "nd = function_invert_dict(d)\n",
    "print(nd)"
   ]
  }
 ],
 "metadata": {
  "kernelspec": {
   "display_name": "Python 3 (ipykernel)",
   "language": "python",
   "name": "python3"
  },
  "language_info": {
   "codemirror_mode": {
    "name": "ipython",
    "version": 3
   },
   "file_extension": ".py",
   "mimetype": "text/x-python",
   "name": "python",
   "nbconvert_exporter": "python",
   "pygments_lexer": "ipython3",
   "version": "3.13.1"
  }
 },
 "nbformat": 4,
 "nbformat_minor": 5
}
