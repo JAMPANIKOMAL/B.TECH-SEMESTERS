{
 "cells": [
  {
   "cell_type": "markdown",
   "id": "f2bd8cc5-b610-413a-9d7c-35c4577e4bf0",
   "metadata": {},
   "source": [
    "Creation using comprehension"
   ]
  },
  {
   "cell_type": "code",
   "execution_count": 1,
   "id": "0ecd7ac3-040c-4ace-94a3-726bc1481cd2",
   "metadata": {},
   "outputs": [
    {
     "name": "stdout",
     "output_type": "stream",
     "text": [
      "Square of numbers: [1, 4, 9, 16, 25, 36, 49, 64, 81, 100]\n"
     ]
    }
   ],
   "source": [
    "squares = [ x ** 2 for x in range(1, 11)]\n",
    "print(\"Square of numbers:\", squares)"
   ]
  },
  {
   "cell_type": "code",
   "execution_count": 2,
   "id": "52ad251c-e512-4a23-b713-4b943a465a12",
   "metadata": {},
   "outputs": [
    {
     "name": "stdout",
     "output_type": "stream",
     "text": [
      "Even Numbers: [2, 4, 6, 8, 10, 12, 14, 16, 18, 20]\n"
     ]
    }
   ],
   "source": [
    "even_numbers = [x for x in range(1, 21) if x % 2 == 0]\n",
    "print(\"Even Numbers:\", even_numbers)"
   ]
  },
  {
   "cell_type": "code",
   "execution_count": 11,
   "id": "c8084681-b47b-4d35-81af-3bb6ac9890b2",
   "metadata": {},
   "outputs": [
    {
     "name": "stdin",
     "output_type": "stream",
     "text": [
      "Input your sentence: My name is Komal Chowdary\n"
     ]
    },
    {
     "name": "stdout",
     "output_type": "stream",
     "text": [
      "Sentence list: ['M', 'N', 'I', 'K', 'C']\n"
     ]
    }
   ],
   "source": [
    "# First letter upeercase\n",
    "#Refere sir's answer\n",
    "\n",
    "sen = input(\"Input your sentence:\")\n",
    "nsen = sen.upper()\n",
    "sl = nsen.split()\n",
    "nsl = [x[0] for x in sl]\n",
    "print(\"Sentence list:\", nsl)"
   ]
  },
  {
   "cell_type": "code",
   "execution_count": 15,
   "id": "268142c6-a770-4c58-b716-6e900b5eea8e",
   "metadata": {},
   "outputs": [
    {
     "name": "stdout",
     "output_type": "stream",
     "text": [
      "{'Mother': 6, 'Note': 4, 'India': 5, 'Komal': 5, 'Cat': 3}\n"
     ]
    }
   ],
   "source": [
    "#World length\n",
    "\n",
    "l = ['Mother', 'Note', 'India', 'Komal', 'Cat']\n",
    "ld = {x: len(x) for x in l}\n",
    "print(ld)"
   ]
  },
  {
   "cell_type": "code",
   "execution_count": 22,
   "id": "98cc990f-87e0-4408-8fa7-889a9e90529c",
   "metadata": {},
   "outputs": [
    {
     "name": "stdout",
     "output_type": "stream",
     "text": [
      "{'m': 3, 'y': 2, 'n': 1, 'a': 3, 'e': 1, 'i': 1, 's': 1, 'k': 1, 'o': 2, 'l': 1, 'c': 1, 'h': 1, 'w': 1, 'd': 1, 'r': 1}\n"
     ]
    }
   ],
   "source": [
    "#Character Frequencies\n",
    "# Refer sir's answer\n",
    "\n",
    "s = \"My name is Komal Chowdary\"\n",
    "s = s.lower()\n",
    "sd = {x: s.count(x) for x in (s.replace(\" \", \"\"))}\n",
    "print(sd)"
   ]
  },
  {
   "cell_type": "code",
   "execution_count": 23,
   "id": "7f350376-c60d-4136-b918-93bd664c17ab",
   "metadata": {},
   "outputs": [],
   "source": [
    "# String creation\n",
    "\n",
    "l = ['M', 'N', 'I', 'K', 'C']"
   ]
  },
  {
   "cell_type": "code",
   "execution_count": 29,
   "id": "f87c8d9f-4899-4f0f-a206-8c58ac5904a3",
   "metadata": {},
   "outputs": [
    {
     "name": "stdout",
     "output_type": "stream",
     "text": [
      "<class 'str'> HelloAworldAfromAPython\n"
     ]
    }
   ],
   "source": [
    "a = ['Hello', 'world', 'from', 'Python']\n",
    "res = 'A'.join(a)\n",
    "print(type(res), res)"
   ]
  },
  {
   "cell_type": "code",
   "execution_count": 33,
   "id": "2c2134a3-a76e-42b7-b660-c80eb6a71a81",
   "metadata": {},
   "outputs": [
    {
     "name": "stdout",
     "output_type": "stream",
     "text": [
      "aeiaaioaaaaiaoa\n"
     ]
    }
   ],
   "source": [
    "#Only Vowels\n",
    "# Refer sir's solution\n",
    "\n",
    "s = \"My name is Jampani Komal Pavan Sai Nadh Chowdary\"\n",
    "vs = ''.join([x for x in s if x == \"a\" or x == \"e\" or x == \"i\" or x == \"o\"  or x == \"u\" or x == \"A\" or x == \"E\"  or x == \"I\" or x == \"O\" or x == \"U\"])\n",
    "print(vs)"
   ]
  },
  {
   "cell_type": "code",
   "execution_count": null,
   "id": "1fd8c035-c817-4562-9844-4826abb7d5ab",
   "metadata": {},
   "outputs": [],
   "source": []
  }
 ],
 "metadata": {
  "kernelspec": {
   "display_name": "Python 3 (ipykernel)",
   "language": "python",
   "name": "python3"
  },
  "language_info": {
   "codemirror_mode": {
    "name": "ipython",
    "version": 3
   },
   "file_extension": ".py",
   "mimetype": "text/x-python",
   "name": "python",
   "nbconvert_exporter": "python",
   "pygments_lexer": "ipython3",
   "version": "3.13.1"
  }
 },
 "nbformat": 4,
 "nbformat_minor": 5
}
