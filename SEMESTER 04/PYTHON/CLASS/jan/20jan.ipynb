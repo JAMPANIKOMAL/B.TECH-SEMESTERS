{
 "cells": [
  {
   "cell_type": "markdown",
   "id": "02fd81a4-2b38-425b-92f1-a76d0f013e63",
   "metadata": {},
   "source": [
    "Defining list and list slicing"
   ]
  },
  {
   "cell_type": "code",
   "execution_count": 1,
   "id": "7dbd1c54-58e3-4246-88a0-0a8e58535c5c",
   "metadata": {},
   "outputs": [
    {
     "name": "stdout",
     "output_type": "stream",
     "text": [
      "['apple', 'banana', 'cherry']\n"
     ]
    }
   ],
   "source": [
    "#Defining list\n",
    "my_list = ['apple', 'banana', 'cherry']\n",
    "print(my_list)"
   ]
  },
  {
   "cell_type": "code",
   "execution_count": 2,
   "id": "b9de4502-5cf6-461b-a564-9c77f6d554f4",
   "metadata": {},
   "outputs": [
    {
     "name": "stdout",
     "output_type": "stream",
     "text": [
      "apple\n",
      "banana\n"
     ]
    }
   ],
   "source": [
    "#Accessing elements in a list\n",
    "print(my_list[0])\n",
    "print(my_list[1])"
   ]
  },
  {
   "cell_type": "code",
   "execution_count": 3,
   "id": "73cb1815-12f0-49ec-9ec2-cdb8055dba97",
   "metadata": {},
   "outputs": [
    {
     "name": "stdout",
     "output_type": "stream",
     "text": [
      "['banana', 'cherry']\n"
     ]
    }
   ],
   "source": [
    "# list slicing\n",
    "print(my_list[1:3])"
   ]
  },
  {
   "cell_type": "code",
   "execution_count": 4,
   "id": "89f7c1e8-c7bc-4163-9286-a70319b4d8cd",
   "metadata": {},
   "outputs": [
    {
     "name": "stdout",
     "output_type": "stream",
     "text": [
      "cherry\n",
      "banana\n"
     ]
    }
   ],
   "source": [
    "# Negative indexing\n",
    "print(my_list[-1])\n",
    "print(my_list[-2])"
   ]
  },
  {
   "cell_type": "code",
   "execution_count": 5,
   "id": "edfc3c82-e713-46c1-b7e6-efb4694912ae",
   "metadata": {},
   "outputs": [
    {
     "name": "stdout",
     "output_type": "stream",
     "text": [
      "['apple', 'blueberry', 'cherry']\n"
     ]
    }
   ],
   "source": [
    "# Modifying elements in a list\n",
    "# my_list = 'blueberry'\n",
    "# print(my_list)\n",
    "# print(type(my_list))\n",
    "\n",
    "my_list[1] = 'blueberry'\n",
    "print(my_list)"
   ]
  },
  {
   "cell_type": "code",
   "execution_count": 6,
   "id": "7f7c58c0-38a5-4fb5-9664-cf07ba5e4ed7",
   "metadata": {},
   "outputs": [
    {
     "name": "stdout",
     "output_type": "stream",
     "text": [
      "List of numbers: [1, 2, 3, 4, 5]\n",
      "List of fruits: ['apple', 'banana', 'orange', 'kiwi']\n",
      "Mixed list: [1, 'apple', True, 3.14]\n"
     ]
    }
   ],
   "source": [
    "#Define q list of integers\n",
    "numbers = [1, 2, 3, 4, 5]\n",
    "print(\"List of numbers:\", numbers)\n",
    "\n",
    "#Define a list of strings\n",
    "fruits = ['apple', 'banana', 'orange', 'kiwi']\n",
    "print(\"List of fruits:\", fruits)\n",
    "\n",
    "#Define a list of mixed types\n",
    "mixed_list = [1, 'apple', True, 3.14]\n",
    "print(\"Mixed list:\", mixed_list)"
   ]
  },
  {
   "cell_type": "code",
   "execution_count": 7,
   "id": "81c47bd6-f4d6-4ae5-b11e-6857630ff10d",
   "metadata": {},
   "outputs": [
    {
     "name": "stdout",
     "output_type": "stream",
     "text": [
      "<class 'list'>\n",
      "<class 'list'>\n",
      "<class 'list'>\n"
     ]
    }
   ],
   "source": [
    "print(type(numbers))\n",
    "print(type(fruits))\n",
    "print(type(mixed_list))"
   ]
  },
  {
   "cell_type": "code",
   "execution_count": 8,
   "id": "c6a47dda-5705-4c5a-a2d2-e5d62544b30a",
   "metadata": {},
   "outputs": [
    {
     "name": "stdout",
     "output_type": "stream",
     "text": [
      "First three elements: [1, 2, 3]\n",
      "Elements from index 2 to 5: [3, 4, 5, 6]\n",
      "Last three elements: [8, 9, 10]\n",
      "Every second element: [1, 3, 5, 7, 9]\n",
      "Reverse the list: [10, 9, 8, 7, 6, 5, 4, 3, 2, 1]\n"
     ]
    }
   ],
   "source": [
    "# Define a list\n",
    "numbers = [1, 2, 3, 4, 5, 6, 7, 8, 9, 10]\n",
    "\n",
    "#Slice the list to get a portion of it\n",
    "print(\"First three elements:\", numbers[:3])\n",
    "print(\"Elements from index 2 to 5:\", numbers[2:6])\n",
    "print(\"Last three elements:\", numbers[-3:])\n",
    "print(\"Every second element:\", numbers[::2])\n",
    "print(\"Reverse the list:\", numbers[::-1])"
   ]
  },
  {
   "cell_type": "code",
   "execution_count": 9,
   "id": "c4dacb6c-9a41-4b59-b5b3-a29182054802",
   "metadata": {},
   "outputs": [
    {
     "name": "stdout",
     "output_type": "stream",
     "text": [
      "Copy of numbers: [1, 2, 3, 4, 5, 6, 7, 8, 9, 10]\n"
     ]
    }
   ],
   "source": [
    "# Using slicing to copy a list\n",
    "copy_of_numbers = numbers[:]\n",
    "print(\"Copy of numbers:\", copy_of_numbers)"
   ]
  },
  {
   "cell_type": "code",
   "execution_count": 10,
   "id": "ed313ee1-3062-4a46-8407-e8d60b216ac6",
   "metadata": {},
   "outputs": [
    {
     "name": "stdout",
     "output_type": "stream",
     "text": [
      "List of characters: ['a', 'b', 'c', 'd', 'e']\n",
      "Nested list: [[1, 2, 3], [4, 5, 6], [7, 8, 9]]\n",
      "Empty list: []\n"
     ]
    }
   ],
   "source": [
    "#Define a list of characters\n",
    "characters = ['a', 'b', 'c', 'd', 'e']\n",
    "print(\"List of characters:\", characters)\n",
    "\n",
    "# Define a list of lists (nested list)\n",
    "nested_list = [[1, 2, 3], [4, 5, 6], [7, 8, 9]]\n",
    "print(\"Nested list:\", nested_list)\n",
    "\n",
    "#Define an empty list\n",
    "empty_list = []\n",
    "print(\"Empty list:\", empty_list)"
   ]
  },
  {
   "cell_type": "code",
   "execution_count": 11,
   "id": "a098956d-a40a-42a4-afc4-d45d952f2c33",
   "metadata": {},
   "outputs": [
    {
     "name": "stdout",
     "output_type": "stream",
     "text": [
      "Original list: [10, 20, 30, 40, 50, 60, 70, 80, 90, 100]\n"
     ]
    }
   ],
   "source": [
    "#Defining a list\n",
    "numbers = [10, 20, 30, 40, 50, 60, 70, 80, 90, 100]\n",
    "\n",
    "# Print the original list\n",
    "print(f\"Original list: {numbers}\")"
   ]
  },
  {
   "cell_type": "code",
   "execution_count": 12,
   "id": "42c2c2ff-e20d-44b2-89de-f1114c52d503",
   "metadata": {},
   "outputs": [
    {
     "name": "stdout",
     "output_type": "stream",
     "text": [
      "List after reversing: [100, 90, 80, 70, 60, 50, 40, 30, 20, 10]\n",
      "First half of the list: [100, 90, 80, 70, 60]\n",
      "Second half of the list: [50, 40, 30, 20, 10]\n"
     ]
    }
   ],
   "source": [
    "#Rverse the list\n",
    "numbers.reverse()\n",
    "print(f\"List after reversing: {numbers}\")\n",
    "\n",
    "#Slice the list to get the first half and second half\n",
    "first_half = numbers[:len(numbers) // 2]\n",
    "second_half = numbers[len(numbers) // 2 :]\n",
    "print(f\"First half of the list: {first_half}\")\n",
    "print(f\"Second half of the list: {second_half}\")"
   ]
  },
  {
   "cell_type": "code",
   "execution_count": 13,
   "id": "2480688f-06ce-40a9-84ac-177883e2958b",
   "metadata": {},
   "outputs": [
    {
     "name": "stdout",
     "output_type": "stream",
     "text": [
      "First half sorted in ascending order: [60, 70, 80, 90, 100]\n",
      "Second half sorted in descending order: [50, 40, 30, 20, 10]\n"
     ]
    }
   ],
   "source": [
    "# Sort the first half in ascending order and the second half in descending order\n",
    "first_half.sort()\n",
    "second_half.sort(reverse = True)\n",
    "print(f\"First half sorted in ascending order: {first_half}\")\n",
    "print(f\"Second half sorted in descending order: {second_half}\")"
   ]
  },
  {
   "cell_type": "code",
   "execution_count": 14,
   "id": "0553120d-414f-4b8d-9809-338b0d42ae5d",
   "metadata": {},
   "outputs": [
    {
     "name": "stdout",
     "output_type": "stream",
     "text": [
      "Final list: [60, 70, 80, 90, 100, 50, 40, 30, 20, 10]\n"
     ]
    }
   ],
   "source": [
    "# Merge the two halves and print the final list\n",
    "final_list = first_half + second_half\n",
    "print(f\"Final list: {final_list}\")"
   ]
  },
  {
   "cell_type": "code",
   "execution_count": 15,
   "id": "bfc067fd-f8df-441a-a3d3-ccd6a8addfbd",
   "metadata": {},
   "outputs": [
    {
     "name": "stdout",
     "output_type": "stream",
     "text": [
      "The whole school: [['John', 'Emma', 'Sam'], ['Amy', 'Tom', 'Tim'], ['Sara', 'Anna', 'Mia']]\n",
      "Class 1 : ['John', 'Emma', 'Sam']\n",
      "Class 2 : ['Amy', 'Tom', 'Tim']\n",
      "Class 3 : ['Sara', 'Anna', 'Mia']\n",
      "Student 1 in Class 1 : John\n",
      "Student 2 in Class 1 : Emma\n",
      "Student 3 in Class 1 : Sam\n",
      "Student 1 in Class 2 : Amy\n",
      "Student 2 in Class 2 : Tom\n",
      "Student 3 in Class 2 : Tim\n",
      "Student 1 in Class 3 : Sara\n",
      "Student 2 in Class 3 : Anna\n",
      "Student 3 in Class 3 : Mia\n"
     ]
    }
   ],
   "source": [
    "# Creating a nested list\n",
    "school = [[\"John\", \"Emma\", \"Sam\"], #Class 1\n",
    "          [\"Amy\", \"Tom\", \"Tim\"],   #Class 2\n",
    "          [\"Sara\", \"Anna\", \"Mia\"]] #Class 3\n",
    "\n",
    "# Accessing elements in the nested list\n",
    "print(\"The whole school:\", school)\n",
    "\n",
    "#Accessing each class\n",
    "for i in range(len(school)):\n",
    "    print(\"Class\", i + 1, \":\", school[i])\n",
    "\n",
    "#Accessing each student\n",
    "for i in range(len(school)):\n",
    "    for j in range(len(school[i])):\n",
    "        print(\"Student\", j + 1, \"in Class\", i + 1, \":\", school[i][j])"
   ]
  },
  {
   "cell_type": "code",
   "execution_count": 16,
   "id": "b770a47f-2c47-4572-b5ec-2ff438a54f40",
   "metadata": {},
   "outputs": [
    {
     "name": "stdout",
     "output_type": "stream",
     "text": [
      "<enumerate object at 0x0000027359987420>\n",
      "[(0, 'apple'), (1, 'banana'), (2, 'cherry')]\n"
     ]
    }
   ],
   "source": [
    "#enumerate()\n",
    "x = ['apple', 'banana', 'cherry']\n",
    "y = enumerate(x)\n",
    "print(y)\n",
    "print(list(y))"
   ]
  },
  {
   "cell_type": "code",
   "execution_count": 17,
   "id": "c22a259c-fa73-44d3-bec5-0485d64cb94a",
   "metadata": {},
   "outputs": [
    {
     "name": "stdout",
     "output_type": "stream",
     "text": [
      "['Rashtriya ', 'Raksha ', 'University ', ', ', 'Gandhinagar ', 'Gujarat']\n",
      "1 Rashtriya \n",
      "2 Raksha \n",
      "3 University \n",
      "4 , \n",
      "5 Gandhinagar \n",
      "6 Gujarat\n"
     ]
    }
   ],
   "source": [
    "# custom index in enumerate()\n",
    "a = [\"Rashtriya \", \"Raksha \", \"University \", \", \", \"Gandhinagar \", \"Gujarat\"]\n",
    "print(a)\n",
    "\n",
    "#Looping through the list using enummerate\n",
    "#starting the index from 1\n",
    "for index, x in enumerate(a, start = 1):\n",
    "    print(index, x)"
   ]
  },
  {
   "cell_type": "code",
   "execution_count": 18,
   "id": "4c5bcb16-5ebf-4dea-81fc-a3cf60b6857c",
   "metadata": {},
   "outputs": [
    {
     "name": "stdout",
     "output_type": "stream",
     "text": [
      "Sublist 0:\n",
      " Element 0: 1\n",
      " Element 1: 2\n",
      " Element 2: 3\n",
      "Sublist 1:\n",
      " Element 0: a\n",
      " Element 1: b\n",
      " Element 2: c\n",
      "Sublist 2:\n",
      " Element 0: True\n",
      " Element 1: False\n",
      " Element 2: True\n"
     ]
    }
   ],
   "source": [
    "# Define a nested list containg some data\n",
    "nested_list = [\n",
    "    [1, 2, 3],\n",
    "    ['a', 'b', 'c'],\n",
    "    [True, False, True] ]\n",
    "\n",
    "# Iterate over each sublist\n",
    "for sublist_index, sublist in enumerate(nested_list):\n",
    "    print(f\"Sublist {sublist_index}:\")\n",
    "\n",
    "    #Iterate over each element in the sublist\n",
    "    for element_index, element in enumerate(sublist):\n",
    "        print(f\" Element {element_index}: {element}\")\n",
    "\n",
    "#Inside the loops, we use enumerate to get both the index and the element itself for easier"
   ]
  }
 ],
 "metadata": {
  "kernelspec": {
   "display_name": "Python 3 (ipykernel)",
   "language": "python",
   "name": "python3"
  },
  "language_info": {
   "codemirror_mode": {
    "name": "ipython",
    "version": 3
   },
   "file_extension": ".py",
   "mimetype": "text/x-python",
   "name": "python",
   "nbconvert_exporter": "python",
   "pygments_lexer": "ipython3",
   "version": "3.13.1"
  }
 },
 "nbformat": 4,
 "nbformat_minor": 5
}
