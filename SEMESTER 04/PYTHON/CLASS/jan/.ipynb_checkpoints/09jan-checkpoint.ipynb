{
 "cells": [
  {
   "cell_type": "markdown",
   "id": "b57fa2f0-e6b4-461b-b233-83b058ad1753",
   "metadata": {},
   "source": [
    "Unit 01/Basic Data Types"
   ]
  },
  {
   "cell_type": "code",
   "execution_count": 10,
   "id": "60d3193f-0b9e-488b-a15d-0370c3d17acf",
   "metadata": {},
   "outputs": [
    {
     "name": "stdout",
     "output_type": "stream",
     "text": [
      "HelloWorld\n"
     ]
    }
   ],
   "source": [
    "#String Concatenation\n",
    "a = \"Hello\"\n",
    "b = \"World\"\n",
    "c = a + b\n",
    "print(c)"
   ]
  },
  {
   "cell_type": "code",
   "execution_count": 11,
   "id": "d60f85ef-cd55-48b2-92bf-5e6235aaa90b",
   "metadata": {},
   "outputs": [
    {
     "name": "stdout",
     "output_type": "stream",
     "text": [
      "Hello World\n",
      "HiHiHi\n"
     ]
    }
   ],
   "source": [
    "#Concatenate  and repeat strings\n",
    "u = \"Hello\" + \" \" + \"World\"\n",
    "v = \"Hi\" * 3\n",
    "print(u)\n",
    "print(v)"
   ]
  },
  {
   "cell_type": "code",
   "execution_count": 12,
   "id": "b0f3f0c7-2157-4fef-a883-43f7baf3d606",
   "metadata": {},
   "outputs": [
    {
     "name": "stdout",
     "output_type": "stream",
     "text": [
      "Length of string is: 13\n"
     ]
    }
   ],
   "source": [
    "#String Length\n",
    "str1 = \"Hello, World!\"\n",
    "print(\"Length of string is:\", len(str1))"
   ]
  },
  {
   "cell_type": "code",
   "execution_count": 13,
   "id": "34f1825e-5323-4956-9b0a-e979a63eb1a2",
   "metadata": {},
   "outputs": [
    {
     "name": "stdout",
     "output_type": "stream",
     "text": [
      "First Character: P\n",
      "Last Character: n\n"
     ]
    }
   ],
   "source": [
    "#Program to demonstrate String Indexing\n",
    "str1 = \"Python\"\n",
    "print(\"First Character:\", str1[0])\n",
    "print(\"Last Character:\", str1[-1])"
   ]
  },
  {
   "cell_type": "code",
   "execution_count": 14,
   "id": "e2b2b98d-c06d-4661-bc18-b1f8686c7e77",
   "metadata": {},
   "outputs": [
    {
     "name": "stdout",
     "output_type": "stream",
     "text": [
      "First five characters: tnrrm\n",
      "Last five characters: mming\n"
     ]
    }
   ],
   "source": [
    "#String Slicing\n",
    "str1 = \"Python Programming\"\n",
    "print(\"First five characters:\", str1[2:15:3])\n",
    "print(\"Last five characters:\", str1[-5:])"
   ]
  },
  {
   "cell_type": "code",
   "execution_count": 17,
   "id": "2ac5a3ed-1e8b-4b7d-b256-91205dd0c444",
   "metadata": {},
   "outputs": [
    {
     "name": "stdout",
     "output_type": "stream",
     "text": [
      "My name is Alice, I'm 30 years old, and my height is 5.611 feet.\n"
     ]
    }
   ],
   "source": [
    "#String Formatting\n",
    "name = \"Alice\"\n",
    "age = 30\n",
    "height = 5.611\n",
    "formatted_str = \"My name is {}, I'm {} years old, and my height is {:.3f} feet.\".format(name, age, height)\n",
    "print(formatted_str)                                                            "
   ]
  },
  {
   "cell_type": "code",
   "execution_count": 20,
   "id": "f2d11e2e-3da1-480b-b3b1-babe476f5b01",
   "metadata": {},
   "outputs": [
    {
     "name": "stdout",
     "output_type": "stream",
     "text": [
      "THIS IS A STRING\n",
      "this is a string\n",
      "This is another string\n",
      "['This', 'is', 'a', 'string']\n",
      "True\n",
      "True\n",
      "2\n",
      "2\n",
      "16\n",
      "False\n",
      "False\n",
      "False\n"
     ]
    }
   ],
   "source": [
    "#String methods and properties\n",
    "w = \"This is a string\"\n",
    "print(w.upper())\n",
    "print(w.lower())\n",
    "print(w.replace(\"a\", \"another\"))\n",
    "print(w.split()) #split string to list, (by default splits from space)\n",
    "print(w.startswith(\"This\")) #check is string starting with\n",
    "print(w.endswith(\"string\"))\n",
    "print(w.find(\"is\"))\n",
    "print(w.count(\"is\"))\n",
    "print(len(w))\n",
    "print(w.isalpha()) #check if string contains only alpha\n",
    "print(w.isdigit())\n",
    "print(w.isspace()) #check if a string contains only whitespace characters"
   ]
  }
 ],
 "metadata": {
  "kernelspec": {
   "display_name": "Python 3 (ipykernel)",
   "language": "python",
   "name": "python3"
  },
  "language_info": {
   "codemirror_mode": {
    "name": "ipython",
    "version": 3
   },
   "file_extension": ".py",
   "mimetype": "text/x-python",
   "name": "python",
   "nbconvert_exporter": "python",
   "pygments_lexer": "ipython3",
   "version": "3.13.1"
  }
 },
 "nbformat": 4,
 "nbformat_minor": 5
}
