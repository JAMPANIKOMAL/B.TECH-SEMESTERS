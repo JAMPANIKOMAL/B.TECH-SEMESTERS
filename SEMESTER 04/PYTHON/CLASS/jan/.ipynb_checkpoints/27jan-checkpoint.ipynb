{
 "cells": [
  {
   "cell_type": "markdown",
   "id": "14c86475-af91-4cac-b5fe-44d1d3875b7a",
   "metadata": {},
   "source": [
    "Dictionaries"
   ]
  },
  {
   "cell_type": "code",
   "execution_count": 1,
   "id": "dc9058f6-9929-4d36-8c23-26355fdb4bf0",
   "metadata": {},
   "outputs": [
    {
     "name": "stdout",
     "output_type": "stream",
     "text": [
      "{'name': 'john', 'age': 30, 'city': 'New York'}\n"
     ]
    }
   ],
   "source": [
    "# Creating a dictionary\n",
    "person = {\"name\" : \"john\", \"age\" : 30, \"city\" : \"New York\"}\n",
    "print(person)"
   ]
  },
  {
   "cell_type": "code",
   "execution_count": 2,
   "id": "d03267f3-6f49-4026-b302-bda1f815b0b5",
   "metadata": {},
   "outputs": [
    {
     "name": "stdout",
     "output_type": "stream",
     "text": [
      "Another dictionary: {'name': 'Alice', 'age': 25, 'city': 'San Franscisco'}\n"
     ]
    }
   ],
   "source": [
    "# Creating a dictonary using dict() constructor\n",
    "another_dict = dict(name = \"Alice\", age = 25, city = \"San Franscisco\")\n",
    "print(\"Another dictionary:\", another_dict)"
   ]
  },
  {
   "cell_type": "code",
   "execution_count": 3,
   "id": "0e4990c0-d276-4cc1-bdf8-e59a72c6423c",
   "metadata": {},
   "outputs": [
    {
     "name": "stdout",
     "output_type": "stream",
     "text": [
      "john\n"
     ]
    }
   ],
   "source": [
    "# Accessing an element of the dictionary\n",
    "print(person[\"name\"])"
   ]
  },
  {
   "cell_type": "code",
   "execution_count": 4,
   "id": "1c9020e2-eec1-4f13-9a81-4733616959e0",
   "metadata": {},
   "outputs": [
    {
     "name": "stdout",
     "output_type": "stream",
     "text": [
      "Name: Alice\n",
      "Age: 25\n"
     ]
    }
   ],
   "source": [
    "# Acessing values using square brackets\n",
    "print(\"Name:\", another_dict[\"name\"])\n",
    "\n",
    "#Accessing values using the get() method\n",
    "print(\"Age:\", another_dict.get(\"age\"))"
   ]
  },
  {
   "cell_type": "code",
   "execution_count": 5,
   "id": "ed92a6d5-7968-4645-937f-cd20250a5b00",
   "metadata": {},
   "outputs": [
    {
     "name": "stdout",
     "output_type": "stream",
     "text": [
      "After adding gender: {'name': 'Alice', 'age': 25, 'city': 'San Franscisco', 'gender': 'Female'}\n",
      "After updating age: {'name': 'Alice', 'age': 35, 'city': 'San Franscisco', 'gender': 'Female'}\n"
     ]
    }
   ],
   "source": [
    "#Adding a new key-value pair to the dictionary\n",
    "another_dict[\"gender\"] = \"Female\"\n",
    "print(\"After adding gender:\", another_dict)\n",
    "\n",
    "#Updating the value of an existing key\n",
    "another_dict[\"age\"] = 35\n",
    "print(\"After updating age:\", another_dict)"
   ]
  },
  {
   "cell_type": "code",
   "execution_count": 6,
   "id": "5130607d-85c1-436d-a9fa-427e2415ded5",
   "metadata": {},
   "outputs": [
    {
     "name": "stdout",
     "output_type": "stream",
     "text": [
      "{'name': 'john', 'city': 'New York'}\n"
     ]
    }
   ],
   "source": [
    "# Removing a key-value pair from the dictionary\n",
    "del person[\"age\"]\n",
    "print(person)"
   ]
  },
  {
   "cell_type": "code",
   "execution_count": 7,
   "id": "c4b1246f-a627-4be3-9505-8b4d9f122b42",
   "metadata": {},
   "outputs": [
    {
     "name": "stdout",
     "output_type": "stream",
     "text": [
      "True\n",
      "False\n"
     ]
    }
   ],
   "source": [
    "#Checking if a key is in the dictionary\n",
    "print(\"name\" in person)\n",
    "print(\"age\" in person)"
   ]
  },
  {
   "cell_type": "code",
   "execution_count": 8,
   "id": "9f5075af-0e1d-4a30-8c43-3a63f8abe915",
   "metadata": {},
   "outputs": [
    {
     "name": "stdout",
     "output_type": "stream",
     "text": [
      "Keys: dict_keys(['name', 'age', 'city', 'gender'])\n",
      "Values: dict_values(['Alice', 35, 'San Franscisco', 'Female'])\n",
      "Items: dict_items([('name', 'Alice'), ('age', 35), ('city', 'San Franscisco'), ('gender', 'Female')])\n",
      "Is 'age' a key in my_dict? True\n",
      "Is 30 a value in my_dict? False\n",
      "Length of my_dict: 4\n"
     ]
    }
   ],
   "source": [
    "# Getting keys\n",
    "keysa = another_dict.keys()\n",
    "print(\"Keys:\", keysa)\n",
    "\n",
    "#Getting values\n",
    "values = another_dict.values()\n",
    "print(\"Values:\", values)\n",
    "\n",
    "#Getting key-value pairs(items)\n",
    "items = another_dict.items()\n",
    "print(\"Items:\", items)\n",
    "\n",
    "#Checking membership\n",
    "print(\"Is 'age' a key in my_dict?\", \"age\" in another_dict)\n",
    "print(\"Is 30 a value in my_dict?\", 30 in another_dict.values())\n",
    "\n",
    "#Length of the dictonary\n",
    "print(\"Length of my_dict:\", len(another_dict))"
   ]
  },
  {
   "cell_type": "code",
   "execution_count": 9,
   "id": "e55781f1-f434-4d53-a883-286c655ae696",
   "metadata": {},
   "outputs": [
    {
     "name": "stdout",
     "output_type": "stream",
     "text": [
      "Alice\n",
      "35\n",
      "San Franscisco\n",
      "Female\n",
      "_______________________\n",
      "name\n",
      "age\n",
      "city\n",
      "gender\n",
      "_______________________\n",
      "name Alice\n",
      "age 35\n",
      "city San Franscisco\n",
      "gender Female\n",
      "_______________________\n"
     ]
    }
   ],
   "source": [
    "# Loop over another dict values\n",
    "for val in another_dict.values():\n",
    "    print(val)\n",
    "print(\"_______________________\")\n",
    "\n",
    "# Loop over another keys\n",
    "for key in another_dict.keys():\n",
    "    print(key)\n",
    "print(\"_______________________\")\n",
    "\n",
    "# Loop over another dict items\n",
    "for key, val in another_dict.items():\n",
    "    print(key, val)\n",
    "print(\"_______________________\")"
   ]
  },
  {
   "cell_type": "code",
   "execution_count": 10,
   "id": "3fba8131-fe3d-42e9-95ac-c649b276c003",
   "metadata": {},
   "outputs": [
    {
     "name": "stdout",
     "output_type": "stream",
     "text": [
      "The Gujarat state has capital -> Gandhinagar\n",
      "The Maharashtra state has capital -> Mumbai\n",
      "The Rajasthan state has capital -> Jaipur\n",
      "The Bihar state has capital -> Patna\n"
     ]
    }
   ],
   "source": [
    "statesAndCapitals = {\n",
    "    \"Gujarat\" : \"Gandhinagar\",\n",
    "    \"Maharashtra\" : \"Mumbai\",\n",
    "    \"Rajasthan\" : \"Jaipur\",\n",
    "    \"Bihar\" : \"Patna\" }\n",
    "\n",
    "for key, val in statesAndCapitals.items():\n",
    "    print(\"The\", key, \"state has capital ->\", val)"
   ]
  },
  {
   "cell_type": "markdown",
   "id": "7d0a7255-a309-41c6-b265-9cde1ea3e261",
   "metadata": {},
   "source": [
    "if, else, elif"
   ]
  },
  {
   "cell_type": "code",
   "execution_count": 11,
   "id": "a54759ac-5b67-4abf-bd22-3e9db59fb861",
   "metadata": {},
   "outputs": [
    {
     "name": "stdout",
     "output_type": "stream",
     "text": [
      "Price is less than 100\n"
     ]
    }
   ],
   "source": [
    "price = 50\n",
    "if price < 100:\n",
    "    print(\"Price is less than 100\")"
   ]
  },
  {
   "cell_type": "code",
   "execution_count": 12,
   "id": "cf07d3e7-b5ea-4362-bf8c-cef7ac8611e5",
   "metadata": {},
   "outputs": [
    {
     "name": "stdout",
     "output_type": "stream",
     "text": [
      "Price * quantity is less than 500\n",
      "Price = 50\n",
      "Quantity = 5\n"
     ]
    }
   ],
   "source": [
    "# Multiple statements in the if block:\n",
    "price = 50\n",
    "quantity = 5\n",
    "if price * quantity < 500:\n",
    "    print(\"Price * quantity is less than 500\")\n",
    "    print(\"Price =\", price)\n",
    "    print(\"Quantity =\", quantity)"
   ]
  },
  {
   "cell_type": "code",
   "execution_count": 14,
   "id": "bb932a29-b04b-4ba1-8a5e-333c5158a3c5",
   "metadata": {},
   "outputs": [
    {
     "ename": "IndentationError",
     "evalue": "unindent does not match any outer indentation level (<string>, line 7)",
     "output_type": "error",
     "traceback": [
      "\u001b[1;36m  File \u001b[1;32m<string>:7\u001b[1;36m\u001b[0m\n\u001b[1;33m    print(\"Quantity =\", quantity)\u001b[0m\n\u001b[1;37m                                 ^\u001b[0m\n\u001b[1;31mIndentationError\u001b[0m\u001b[1;31m:\u001b[0m unindent does not match any outer indentation level\n"
     ]
    }
   ],
   "source": [
    "# Multiple statements in the if block:\n",
    "price = 50\n",
    "quantity = 5\n",
    "if price * quantity < 500:\n",
    "print(\"Price * quantity is less than 500\")\n",
    "    print(\"Price =\", price)\n",
    "   print(\"Quantity =\", quantity)"
   ]
  },
  {
   "cell_type": "code",
   "execution_count": 15,
   "id": "22973030-960d-42db-ba69-dbead0dac7de",
   "metadata": {},
   "outputs": [
    {
     "name": "stdout",
     "output_type": "stream",
     "text": [
      "Price is lesser tahn 100\n"
     ]
    }
   ],
   "source": [
    "price = 50\n",
    "if price > 100:\n",
    "    print(\"Price is greater tahn 100\")\n",
    "elif price == 100:\n",
    "    print(\"Price is 100\")\n",
    "else:\n",
    "    print(\"Price is lesser tahn 100\")"
   ]
  },
  {
   "cell_type": "code",
   "execution_count": null,
   "id": "287d229a-0387-4d47-8162-8734fc097232",
   "metadata": {},
   "outputs": [],
   "source": []
  }
 ],
 "metadata": {
  "kernelspec": {
   "display_name": "Python 3 (ipykernel)",
   "language": "python",
   "name": "python3"
  },
  "language_info": {
   "codemirror_mode": {
    "name": "ipython",
    "version": 3
   },
   "file_extension": ".py",
   "mimetype": "text/x-python",
   "name": "python",
   "nbconvert_exporter": "python",
   "pygments_lexer": "ipython3",
   "version": "3.13.1"
  }
 },
 "nbformat": 4,
 "nbformat_minor": 5
}
