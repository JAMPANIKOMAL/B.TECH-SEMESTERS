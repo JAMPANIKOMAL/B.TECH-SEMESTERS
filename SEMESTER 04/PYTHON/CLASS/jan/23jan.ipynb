{
 "cells": [
  {
   "cell_type": "markdown",
   "id": "0ec30a26-f3e4-4088-9421-432d599cfb77",
   "metadata": {},
   "source": [
    "Tuples"
   ]
  },
  {
   "cell_type": "code",
   "execution_count": 1,
   "id": "bac702da-8fd8-42c1-b032-f2357245f47a",
   "metadata": {},
   "outputs": [
    {
     "name": "stdout",
     "output_type": "stream",
     "text": [
      "('apple', 'banana', 'cherry')\n"
     ]
    }
   ],
   "source": [
    "# Defining a tuple\n",
    "my_tuple = ('apple', 'banana', 'cherry')\n",
    "print(my_tuple)"
   ]
  },
  {
   "cell_type": "code",
   "execution_count": 2,
   "id": "a8d4df08-437a-47ff-972e-c65b3d434229",
   "metadata": {},
   "outputs": [
    {
     "name": "stdout",
     "output_type": "stream",
     "text": [
      "apple\n",
      "banana\n"
     ]
    }
   ],
   "source": [
    "# Accessing elements in a tuple\n",
    "print(my_tuple[0])\n",
    "print(my_tuple[1])"
   ]
  },
  {
   "cell_type": "code",
   "execution_count": 3,
   "id": "00cc8dc8-e9e4-4c8d-8fbd-4833b8b1f5c9",
   "metadata": {},
   "outputs": [
    {
     "name": "stdout",
     "output_type": "stream",
     "text": [
      "('banana', 'cherry')\n"
     ]
    }
   ],
   "source": [
    "# Tuple slicing\n",
    "print(my_tuple[1:3])"
   ]
  },
  {
   "cell_type": "code",
   "execution_count": 4,
   "id": "add37bb7-c7d9-4089-9914-de5d4f72a4ca",
   "metadata": {},
   "outputs": [
    {
     "name": "stdout",
     "output_type": "stream",
     "text": [
      "cherry\n",
      "banana\n"
     ]
    }
   ],
   "source": [
    "# Negative Indexing\n",
    "print(my_tuple[-1])\n",
    "print(my_tuple[-2])"
   ]
  },
  {
   "cell_type": "code",
   "execution_count": 5,
   "id": "b1ab6f9f-5e0b-461e-999c-accc73e636f0",
   "metadata": {},
   "outputs": [
    {
     "ename": "TypeError",
     "evalue": "'tuple' object does not support item assignment",
     "output_type": "error",
     "traceback": [
      "\u001b[1;31m---------------------------------------------------------------------------\u001b[0m",
      "\u001b[1;31mTypeError\u001b[0m                                 Traceback (most recent call last)",
      "Cell \u001b[1;32mIn[5], line 2\u001b[0m\n\u001b[0;32m      1\u001b[0m \u001b[38;5;66;03m# Trying to modify elements in a tuple\u001b[39;00m\n\u001b[1;32m----> 2\u001b[0m \u001b[43mmy_tuple\u001b[49m\u001b[43m[\u001b[49m\u001b[38;5;241;43m1\u001b[39;49m\u001b[43m]\u001b[49m \u001b[38;5;241m=\u001b[39m \u001b[38;5;124m'\u001b[39m\u001b[38;5;124mblueberry\u001b[39m\u001b[38;5;124m'\u001b[39m\n",
      "\u001b[1;31mTypeError\u001b[0m: 'tuple' object does not support item assignment"
     ]
    }
   ],
   "source": [
    "# Trying to modify elements in a tuple\n",
    "my_tuple[1] = 'blueberry'"
   ]
  },
  {
   "cell_type": "code",
   "execution_count": 6,
   "id": "a16b3a97-788a-47d1-9bd2-cfb4b53ea59e",
   "metadata": {},
   "outputs": [
    {
     "name": "stdout",
     "output_type": "stream",
     "text": [
      "Tuple of integers: (1, 2, 3, 4, 5)\n",
      "Tuple of strings: ('apple', 'banana', 'ornage', 'kiwi')\n",
      "Mixed tuple: (1, 'apple', True, 3.14)\n"
     ]
    }
   ],
   "source": [
    "# Define a tuple of integers\n",
    "tuple_of_integers = (1, 2, 3, 4, 5)\n",
    "print(\"Tuple of integers:\", tuple_of_integers)\n",
    "\n",
    "# Define a tuple of strings\n",
    "tuple_of_strings = ('apple', 'banana', 'ornage', 'kiwi')\n",
    "print(\"Tuple of strings:\", tuple_of_strings)\n",
    "\n",
    "# Define a tuple of mixed types\n",
    "mixed_tuple = (1, 'apple', True, 3.14)\n",
    "print(\"Mixed tuple:\", mixed_tuple)"
   ]
  },
  {
   "cell_type": "code",
   "execution_count": 7,
   "id": "1727c27e-2ba0-44c1-a69e-a89e8ea51c07",
   "metadata": {},
   "outputs": [
    {
     "name": "stdout",
     "output_type": "stream",
     "text": [
      "First three elements: (1, 2, 3)\n",
      "Elements from index 2 to 5: (3, 4, 5, 6)\n",
      "Last three elements: (8, 9, 10)\n",
      "Every second element: (1, 3, 5, 7, 9)\n",
      "Reverse the tuple: (10, 9, 8, 7, 6, 5, 4, 3, 2, 1)\n"
     ]
    }
   ],
   "source": [
    "# Define a tuple\n",
    "tuple_of_numbers = (1, 2, 3, 4, 5, 6, 7, 8, 9, 10)\n",
    "\n",
    "#Slice the tuple to het a portion of it\n",
    "print(\"First three elements:\", tuple_of_numbers[:3]) #Output: (1, 2, 3)\n",
    "print(\"Elements from index 2 to 5:\", tuple_of_numbers[2:6])\n",
    "print(\"Last three elements:\", tuple_of_numbers[-3:])\n",
    "print(\"Every second element:\", tuple_of_numbers[::2])\n",
    "print(\"Reverse the tuple:\", tuple_of_numbers[::-1])\n",
    "# print(\"Reverse the tuple:\", tuple_of_numbers[-1:]) # Not Working"
   ]
  },
  {
   "cell_type": "code",
   "execution_count": 8,
   "id": "dada4baf-9d62-4b6b-b561-2cc6f4f56b83",
   "metadata": {},
   "outputs": [
    {
     "name": "stdout",
     "output_type": "stream",
     "text": [
      "Tuple after reversing: (10, 9, 8, 7, 6, 5, 4, 3, 2, 1)\n",
      "First half of the tuple: (10, 9, 8, 7, 6)\n",
      "Second half of the tuple: (5, 4, 3, 2, 1)\n"
     ]
    }
   ],
   "source": [
    "# Reverse the tuple\n",
    "reversed_tuple = tuple_of_numbers[::-1]\n",
    "print(f\"Tuple after reversing: {reversed_tuple}\")\n",
    "\n",
    "# Slice the tuple to get the first half and the second half\n",
    "first_half = reversed_tuple[:len(reversed_tuple)//2]\n",
    "second_half = reversed_tuple[len(reversed_tuple)//2:]\n",
    "print(f\"First half of the tuple: {first_half}\")\n",
    "print(f\"Second half of the tuple: {second_half}\")"
   ]
  },
  {
   "cell_type": "code",
   "execution_count": 9,
   "id": "f4fe403c-4a6b-456b-b71d-976f5c8af38a",
   "metadata": {},
   "outputs": [
    {
     "name": "stdout",
     "output_type": "stream",
     "text": [
      "First half sorted in ascending order: (6, 7, 8, 9, 10)\n",
      "Second half sorted in descending order: (5, 4, 3, 2, 1)\n"
     ]
    }
   ],
   "source": [
    "# Sort the first half in ascending order and the second half in descending order\n",
    "# Since tuples are immutable, we need to convert them to lists before sorting\n",
    "first_half = list(first_half)\n",
    "second_half = list(second_half)\n",
    "first_half.sort()\n",
    "second_half.sort(reverse = True)\n",
    "print(f\"First half sorted in ascending order: {tuple(first_half)}\")\n",
    "print(f\"Second half sorted in descending order: {tuple(second_half)}\")"
   ]
  },
  {
   "cell_type": "code",
   "execution_count": 10,
   "id": "cbe63486-0eff-4e46-890c-fb0054a42713",
   "metadata": {},
   "outputs": [
    {
     "name": "stdout",
     "output_type": "stream",
     "text": [
      "Final tuple: (6, 7, 8, 9, 10, 5, 4, 3, 2, 1)\n"
     ]
    }
   ],
   "source": [
    "# Merge the two halves and print the final tuple\n",
    "# We need to convert them back to tuples after sorting\n",
    "final_tuple = tuple(first_half + second_half)\n",
    "print(f\"Final tuple: {final_tuple}\")"
   ]
  }
 ],
 "metadata": {
  "kernelspec": {
   "display_name": "Python 3 (ipykernel)",
   "language": "python",
   "name": "python3"
  },
  "language_info": {
   "codemirror_mode": {
    "name": "ipython",
    "version": 3
   },
   "file_extension": ".py",
   "mimetype": "text/x-python",
   "name": "python",
   "nbconvert_exporter": "python",
   "pygments_lexer": "ipython3",
   "version": "3.13.1"
  }
 },
 "nbformat": 4,
 "nbformat_minor": 5
}
