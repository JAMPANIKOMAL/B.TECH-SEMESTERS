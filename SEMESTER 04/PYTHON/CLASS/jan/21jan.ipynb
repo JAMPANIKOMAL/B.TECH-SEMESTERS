{
 "cells": [
  {
   "cell_type": "markdown",
   "id": "03a6437b-0fcc-423f-9628-15ff7fb0a580",
   "metadata": {},
   "source": [
    "Set"
   ]
  },
  {
   "cell_type": "code",
   "execution_count": 1,
   "id": "bbc830db-bce1-4579-a346-ac263f9c2980",
   "metadata": {},
   "outputs": [
    {
     "name": "stdout",
     "output_type": "stream",
     "text": [
      "Set created using curly braces: {50, 20, 40, 10, 30}\n",
      "Set created using set() constructor: {5, 6, 7, 8, 9}\n"
     ]
    }
   ],
   "source": [
    "# Unordered collection, mutable, no duplicates, not indexed, supports mathematical operations like uninon, intersection, difference, and symmetric difference.\n",
    "\n",
    "# Creating a set using curly { } braces\n",
    "my_set = {10, 20, 30, 40, 50, 50}\n",
    "print(\"Set created using curly braces:\", my_set)\n",
    "\n",
    "# Creating a set using the set() constructor \n",
    "another_set = set([5, 6, 7, 8, 9])\n",
    "print(\"Set created using set() constructor:\", another_set)"
   ]
  },
  {
   "cell_type": "code",
   "execution_count": 2,
   "id": "c1b8fe47-a450-40ae-99d8-5275f79a9edd",
   "metadata": {},
   "outputs": [
    {
     "name": "stdout",
     "output_type": "stream",
     "text": [
      "After adding element 6: {50, 20, 6, 40, 10, 30}\n",
      "After removing element 30: {50, 20, 6, 40, 10}\n"
     ]
    }
   ],
   "source": [
    "#Adding elements to a set\n",
    "my_set.add(6)    #single argument\n",
    "print(\"After adding element 6:\", my_set)\n",
    "\n",
    "#Removing elements from a set\n",
    "my_set.remove(30)\n",
    "print(\"After removing element 30:\", my_set)"
   ]
  },
  {
   "cell_type": "code",
   "execution_count": 3,
   "id": "172d2f6f-6bab-45bc-9fc8-49ccf26c4fff",
   "metadata": {},
   "outputs": [
    {
     "name": "stdout",
     "output_type": "stream",
     "text": [
      "{'cherry', 'banana', 'apple'}\n"
     ]
    }
   ],
   "source": [
    "# Creating a set\n",
    "fruits = {\"apple\", \"banana\", \"cherry\"}\n",
    "print(fruits)"
   ]
  },
  {
   "cell_type": "code",
   "execution_count": 4,
   "id": "d2e24109-9d8d-43ca-aa1a-73c8194e4a61",
   "metadata": {},
   "outputs": [
    {
     "name": "stdout",
     "output_type": "stream",
     "text": [
      "{'cherry', 'orange', 'banana', 'apple'}\n",
      "{'cherry', 'orange', 'apple'}\n"
     ]
    }
   ],
   "source": [
    "# Adding an element to the set\n",
    "fruits.add(\"orange\")\n",
    "print(fruits)\n",
    "\n",
    "# Removing an element from the set\n",
    "fruits.remove(\"banana\")\n",
    "print(fruits)"
   ]
  },
  {
   "cell_type": "code",
   "execution_count": 5,
   "id": "b791c9a1-6809-4116-9827-d704cab00fa1",
   "metadata": {},
   "outputs": [
    {
     "name": "stdout",
     "output_type": "stream",
     "text": [
      "Is 2 present in my_set? False\n",
      "Is 7 present in my_set? False\n"
     ]
    }
   ],
   "source": [
    "# Checking membership in a set\n",
    "print(\"Is 2 present in my_set?\", 2 in my_set)\n",
    "print(\"Is 7 present in my_set?\", 7 in my_set)"
   ]
  },
  {
   "cell_type": "code",
   "execution_count": 6,
   "id": "a9c48834-ca39-4093-946e-9d6953445f79",
   "metadata": {},
   "outputs": [
    {
     "name": "stdout",
     "output_type": "stream",
     "text": [
      "Length of my_set: 5\n"
     ]
    }
   ],
   "source": [
    "# Length of a set\n",
    "print(\"Length of my_set:\", len(my_set))"
   ]
  },
  {
   "cell_type": "code",
   "execution_count": 7,
   "id": "b09f1c01-f110-4134-893a-35b7880ea7a0",
   "metadata": {},
   "outputs": [
    {
     "name": "stdout",
     "output_type": "stream",
     "text": [
      "True\n",
      "False\n"
     ]
    }
   ],
   "source": [
    "# Checking if an element is in the set\n",
    "print(\"apple\" in fruits)\n",
    "print(\"banana\" in fruits)"
   ]
  },
  {
   "cell_type": "code",
   "execution_count": 8,
   "id": "88cb6ac7-1251-46c5-96c5-cbc86a934747",
   "metadata": {},
   "outputs": [
    {
     "name": "stdout",
     "output_type": "stream",
     "text": [
      "Iterating over my_set:\n",
      "50\n",
      "20\n",
      "6\n",
      "40\n",
      "10\n"
     ]
    }
   ],
   "source": [
    "#Iterating over a set\n",
    "print(\"Iterating over my_set:\")\n",
    "for element in my_set:\n",
    "    print(element)"
   ]
  },
  {
   "cell_type": "code",
   "execution_count": 9,
   "id": "b91d46c5-69c2-43e0-9298-3f5462c04c44",
   "metadata": {},
   "outputs": [
    {
     "name": "stdout",
     "output_type": "stream",
     "text": [
      "Frozen Set: frozenset({1, 2, 3, 4, 5})\n"
     ]
    }
   ],
   "source": [
    "#Frozenset --> Immutable set\n",
    "\n",
    "#Create a frozenset\n",
    "frozen_set = frozenset([1, 2, 3, 4, 5])\n",
    "print(\"Frozen Set:\", frozen_set)\n",
    "# frozen_set.add(6)\n",
    "# print(sorted(frozen_set))"
   ]
  },
  {
   "cell_type": "code",
   "execution_count": 10,
   "id": "2ef90067-475b-4d8c-959a-7e48b02e791b",
   "metadata": {},
   "outputs": [
    {
     "name": "stdout",
     "output_type": "stream",
     "text": [
      "{'cherry', 'orange', 'lime', 'lemon', 'banana', 'apple'}\n",
      "{'orange'}\n",
      "{'cherry', 'banana', 'apple'}\n",
      "{'cherry', 'apple', 'lime', 'lemon', 'banana'}\n"
     ]
    }
   ],
   "source": [
    "# Creating two sets\n",
    "fruits = {\"apple\", \"banana\", \"cherry\", \"orange\"}\n",
    "citrus = {\"orange\", \"lemon\", \"lime\"}\n",
    "\n",
    "#Union of two sets\n",
    "print(fruits.union(citrus))\n",
    "\n",
    "#Intersection of two sets\n",
    "print(fruits.intersection(citrus))\n",
    "\n",
    "#Differnce of two sets\n",
    "print(fruits.difference(citrus))\n",
    "\n",
    "#Symmetric differnce of two sets\n",
    "print(fruits.symmetric_difference(citrus))"
   ]
  },
  {
   "cell_type": "code",
   "execution_count": 11,
   "id": "91182f19-f18d-4640-b10a-aeb4d282baf3",
   "metadata": {},
   "outputs": [
    {
     "name": "stdout",
     "output_type": "stream",
     "text": [
      "Is set 1 a subset of set 2? False\n",
      "Is set 1 a superset of set 2? False\n",
      "Are set 1 and set 2 disjoint? False\n"
     ]
    }
   ],
   "source": [
    "set1 = {1, 2, 3}\n",
    "set2 = {3, 4, 5}\n",
    "\n",
    "subset_check = set1.issubset(set2)\n",
    "print(\"Is set 1 a subset of set 2?\", subset_check)\n",
    "\n",
    "superset_check = set1.issuperset(set2)\n",
    "print(\"Is set 1 a superset of set 2?\", superset_check)\n",
    "\n",
    "disjoint_check = set1.isdisjoint(set2)\n",
    "print(\"Are set 1 and set 2 disjoint?\", disjoint_check)"
   ]
  },
  {
   "cell_type": "code",
   "execution_count": null,
   "id": "fd33529b-0c40-455e-abac-6c5605fc3e62",
   "metadata": {},
   "outputs": [],
   "source": []
  }
 ],
 "metadata": {
  "kernelspec": {
   "display_name": "Python 3 (ipykernel)",
   "language": "python",
   "name": "python3"
  },
  "language_info": {
   "codemirror_mode": {
    "name": "ipython",
    "version": 3
   },
   "file_extension": ".py",
   "mimetype": "text/x-python",
   "name": "python",
   "nbconvert_exporter": "python",
   "pygments_lexer": "ipython3",
   "version": "3.13.1"
  }
 },
 "nbformat": 4,
 "nbformat_minor": 5
}
