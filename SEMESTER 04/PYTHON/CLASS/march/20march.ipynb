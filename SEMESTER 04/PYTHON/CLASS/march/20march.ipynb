{
 "cells": [
  {
   "cell_type": "markdown",
   "id": "2da3b735-5a7b-437b-88e6-55b8fe30b0c5",
   "metadata": {},
   "source": [
    "Destructor"
   ]
  },
  {
   "cell_type": "code",
   "execution_count": 1,
   "id": "beb68c27-0ca4-4f42-a32f-1a8152668dd0",
   "metadata": {},
   "outputs": [
    {
     "name": "stdout",
     "output_type": "stream",
     "text": [
      "Destructor called, object deleted.\n"
     ]
    }
   ],
   "source": [
    "class MyClass:\n",
    "    def __del__(self):\n",
    "        print(\"Destructor called, object deleted.\")\n",
    "\n",
    "obj = MyClass()\n",
    "del obj"
   ]
  },
  {
   "cell_type": "code",
   "execution_count": 2,
   "id": "faf42870-f4d5-4a30-a5b4-37ab4c06e6f6",
   "metadata": {},
   "outputs": [],
   "source": [
    "#CIY\n",
    "\n",
    "class BankAccount:\n",
    "    def __init__(self, balance = 0):\n",
    "        self.balance = balance\n",
    "        \n",
    "    def withdraw(amount):\n",
    "        if amount < self.balance:\n",
    "            print(\"Withdrawn!\")\n",
    "            self.balance += amount\n",
    "        else:\n",
    "            print(\"Insufficent funds!\")\n",
    "            \n",
    "    def deposit(amount):\n",
    "        print(\"Deposited!\")"
   ]
  },
  {
   "cell_type": "markdown",
   "id": "fc71f51d-5087-473f-901c-10af18a4789d",
   "metadata": {},
   "source": [
    "Inheritance"
   ]
  },
  {
   "cell_type": "code",
   "execution_count": 20,
   "id": "7ec39335-d776-44bd-904c-142eb43efa96",
   "metadata": {},
   "outputs": [],
   "source": [
    "#ciy\n",
    "\n",
    "class Animal:\n",
    "    def __init__(self, species : str):\n",
    "        self.species = species\n",
    "    def make_sound(self):\n",
    "        print(f\"The {self.species} makes a generic sound.\")\n",
    "    def nam(self):\n",
    "        return f\"The Species is {self.species}.\"\n",
    "\n",
    "class Dog(Animal):\n",
    "    def __init__(self, name : str):\n",
    "        super().__init__(\"Dog\")\n",
    "        self.name = name\n",
    "    def make_sound(self):\n",
    "        print(f\"{self.name}, the {self.species}, says: Woof!\")\n",
    "    def display_info(self):\n",
    "        print(f\"This is {self.name}, and it is a {self.species}.\")"
   ]
  },
  {
   "cell_type": "code",
   "execution_count": 21,
   "id": "9495f8f2-c67b-49fe-84ff-2ca3896d50d4",
   "metadata": {},
   "outputs": [],
   "source": [
    "dog1 = Dog(\"Buddy\")"
   ]
  },
  {
   "cell_type": "code",
   "execution_count": 22,
   "id": "d3efd9bb-3218-438d-94f9-25b40ed7734f",
   "metadata": {},
   "outputs": [
    {
     "name": "stdout",
     "output_type": "stream",
     "text": [
      "Species: Dog\n",
      "Name: Buddy\n",
      "Buddy, the Dog, says: Woof!\n",
      "The Species is Dog.\n"
     ]
    }
   ],
   "source": [
    "print(\"Species:\", dog1.species)\n",
    "print(\"Name:\", dog1.name)\n",
    "dog1.make_sound()\n",
    "print(dog1.nam())"
   ]
  },
  {
   "cell_type": "code",
   "execution_count": 23,
   "id": "5f11efd5-0d1a-4b32-9428-854e5f6afae2",
   "metadata": {},
   "outputs": [],
   "source": [
    "# Vehicle Hierachy\n",
    "\n",
    "class vehicle:\n",
    "    def __init__(self, make : str, model : str, year : int):\n",
    "        self.make = make\n",
    "        self.model = model\n",
    "        self.year = year\n",
    "    def displayinfo(self):\n",
    "        print(f\"Make: {self.make}, Model: {self.model}, Year: {self.year}\")\n",
    "\n",
    "class car(vehicle):\n",
    "    def __init__(self, seats : int, engine : str):\n",
    "        super().__init__(\"Ford\", \"Mustang\", 1965)\n",
    "        self.seats = seats\n",
    "        self.engine = engine\n",
    "    def display_info(self):\n",
    "        print(f\"Make: {self.make}, Model: {self.model}, Year: {self.year}, Seatng Capacity: {seats}, Type of engine: {engine}\")"
   ]
  },
  {
   "cell_type": "code",
   "execution_count": null,
   "id": "35bb4adc-0dea-436a-91a8-a20f5b7a728c",
   "metadata": {},
   "outputs": [],
   "source": []
  }
 ],
 "metadata": {
  "kernelspec": {
   "display_name": "Python 3 (ipykernel)",
   "language": "python",
   "name": "python3"
  },
  "language_info": {
   "codemirror_mode": {
    "name": "ipython",
    "version": 3
   },
   "file_extension": ".py",
   "mimetype": "text/x-python",
   "name": "python",
   "nbconvert_exporter": "python",
   "pygments_lexer": "ipython3",
   "version": "3.13.2"
  }
 },
 "nbformat": 4,
 "nbformat_minor": 5
}
