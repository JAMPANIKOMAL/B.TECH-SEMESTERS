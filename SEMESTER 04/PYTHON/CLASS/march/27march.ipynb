{
 "cells": [
  {
   "cell_type": "markdown",
   "id": "0dc4d8f7-2542-4a33-b31e-417b185356cc",
   "metadata": {},
   "source": [
    "RegEx"
   ]
  },
  {
   "cell_type": "code",
   "execution_count": 1,
   "id": "c0ce84d0-9895-47dc-8164-055b2fc7d5fd",
   "metadata": {},
   "outputs": [],
   "source": [
    "import re"
   ]
  },
  {
   "cell_type": "code",
   "execution_count": 2,
   "id": "a0c69716-e0a3-49e9-a2d8-249aedafe7e1",
   "metadata": {},
   "outputs": [
    {
     "name": "stdout",
     "output_type": "stream",
     "text": [
      "Pattern Found!\n"
     ]
    }
   ],
   "source": [
    "pattern = \"apple\"\n",
    "text = \"I have an apple and an orange.\"\n",
    "match = re.search(pattern, text)\n",
    "if match:\n",
    "    print(\"Pattern Found!\")\n",
    "else:\n",
    "    print(\"Pattern not found!\")"
   ]
  },
  {
   "cell_type": "code",
   "execution_count": 3,
   "id": "3ecadf08-a862-4d65-baa4-5a4feb2aff6b",
   "metadata": {},
   "outputs": [
    {
     "name": "stdout",
     "output_type": "stream",
     "text": [
      "['3', '5']\n"
     ]
    }
   ],
   "source": [
    "pattern = r'\\d+'\n",
    "text = \"I have 3 apples and 5 oranges\"\n",
    "matches = re.findall(pattern, text)\n",
    "print(matches)"
   ]
  },
  {
   "cell_type": "code",
   "execution_count": 4,
   "id": "7259b291-9e3b-4825-84e1-78907dab9f96",
   "metadata": {},
   "outputs": [
    {
     "name": "stdout",
     "output_type": "stream",
     "text": [
      "['apple', 'orange', 'banana', 'grape12', '34qwer']\n"
     ]
    }
   ],
   "source": [
    "pattern = r'\\W+'\n",
    "text = \"apple,orange;banana grape12 34qwer\"\n",
    "split_text = re.split(pattern, text)\n",
    "print(split_text)"
   ]
  },
  {
   "cell_type": "code",
   "execution_count": 5,
   "id": "fd115f3b-0307-4fbc-80f1-1278f8ca5321",
   "metadata": {},
   "outputs": [
    {
     "name": "stdout",
     "output_type": "stream",
     "text": [
      "I have X apples and X oranges\n"
     ]
    }
   ],
   "source": [
    "pattern = r'\\d+'\n",
    "text = \"I have 3 apples and 5 oranges\"\n",
    "replacement = 'X'\n",
    "new_text = re.sub(pattern, replacement, text)\n",
    "print(new_text)"
   ]
  },
  {
   "cell_type": "code",
   "execution_count": 6,
   "id": "70eac974-8395-432e-a83f-32b79c6c6057",
   "metadata": {},
   "outputs": [
    {
     "name": "stdout",
     "output_type": "stream",
     "text": [
      "['cat', 'cut']\n"
     ]
    }
   ],
   "source": [
    "pattern = 'c.t'\n",
    "text = \"The cat sat on the mat cut.\"\n",
    "matches = re.findall(pattern, text)\n",
    "print(matches)"
   ]
  },
  {
   "cell_type": "code",
   "execution_count": 7,
   "id": "27ddc489-0db4-46da-b031-0f5e5dcc2e2a",
   "metadata": {},
   "outputs": [],
   "source": [
    "pattern = '^The'\n",
    "text = \"Th cat sat on the mat.\"\n",
    "if re.search(pattern, text):\n",
    "    print(\"Pattern found at the start!\")"
   ]
  },
  {
   "cell_type": "code",
   "execution_count": 8,
   "id": "0f51a9dc-ab41-46bf-b754-738a1b1a5df4",
   "metadata": {},
   "outputs": [
    {
     "name": "stdout",
     "output_type": "stream",
     "text": [
      "Pattern found at the end!\n"
     ]
    }
   ],
   "source": [
    "pattern = 'mat.$'\n",
    "text = \"The cat sat on the mat.\"\n",
    "if re.search(pattern, text):\n",
    "    print(\"Pattern found at the end!\")"
   ]
  },
  {
   "cell_type": "code",
   "execution_count": 9,
   "id": "d65a0f68-0f7e-4db6-993f-5d08e9a4e0b3",
   "metadata": {},
   "outputs": [
    {
     "name": "stdout",
     "output_type": "stream",
     "text": [
      "['cl', 'col', 'coooooooool']\n"
     ]
    }
   ],
   "source": [
    "pattern = 'co*l'      # * ---> 0 or more than 0\n",
    "text = \"The cl col cat sat on the coooooooool mat.\"\n",
    "matches = re.findall(pattern, text)\n",
    "print(matches)"
   ]
  },
  {
   "cell_type": "code",
   "execution_count": 10,
   "id": "2b1a0436-8387-4394-8daa-9378e3dba7b8",
   "metadata": {},
   "outputs": [
    {
     "name": "stdout",
     "output_type": "stream",
     "text": [
      "['col', 'coooooooool']\n"
     ]
    }
   ],
   "source": [
    "pattern = 'co+l'      # = ---> 1 or more than 1\n",
    "text = \"The cl col cat sat on the coooooooool mat.\"\n",
    "matches = re.findall(pattern, text)\n",
    "print(matches)"
   ]
  },
  {
   "cell_type": "code",
   "execution_count": 11,
   "id": "ece7b6f8-662b-4538-8689-edaed3be4406",
   "metadata": {},
   "outputs": [
    {
     "name": "stdout",
     "output_type": "stream",
     "text": [
      "['color', 'colour']\n"
     ]
    }
   ],
   "source": [
    "pattern = \"colou?r\"     # ? ---> 0 or only 1 ocuurance of precceding charactetr\n",
    "text = \"The color is blue, but the colour is green.\"\n",
    "matches = re.findall(pattern, text)\n",
    "print(matches)"
   ]
  },
  {
   "cell_type": "code",
   "execution_count": 12,
   "id": "7d6a8025-c944-4e8a-bad4-e5fb45a42ac4",
   "metadata": {},
   "outputs": [
    {
     "name": "stdout",
     "output_type": "stream",
     "text": [
      "['gray', 'grey']\n"
     ]
    }
   ],
   "source": [
    "pattern = 'gr[ae]y'\n",
    "text = \"The sky is gray. but the cat is grey grmy.\"\n",
    "matches = re.findall(pattern, text)\n",
    "print(matches)"
   ]
  },
  {
   "cell_type": "code",
   "execution_count": 13,
   "id": "e7732597-ef6f-48c6-ab98-79a013131cee",
   "metadata": {},
   "outputs": [
    {
     "name": "stdout",
     "output_type": "stream",
     "text": [
      "['gray', 'grey', 'grmy']\n"
     ]
    }
   ],
   "source": [
    "pattern = 'gr[aem]y'\n",
    "text = \"The sky is gray. but the cat is grey grmy and gremy graemy.\"\n",
    "matches = re.findall(pattern, text)\n",
    "print(matches)"
   ]
  },
  {
   "cell_type": "code",
   "execution_count": 14,
   "id": "b6dcc303-30b4-4498-b317-ef6fc5c2890b",
   "metadata": {},
   "outputs": [
    {
     "name": "stdout",
     "output_type": "stream",
     "text": [
      "['cat', 'dog']\n"
     ]
    }
   ],
   "source": [
    "pattern = 'cat|dog'\n",
    "text = \"I have a cat and a dog.\"\n",
    "matches = re.findall(pattern, text)\n",
    "print(matches)"
   ]
  },
  {
   "cell_type": "code",
   "execution_count": 15,
   "id": "2a8f87f2-6cd9-486f-bbf0-e3cf1ad6428e",
   "metadata": {},
   "outputs": [
    {
     "name": "stdout",
     "output_type": "stream",
     "text": [
      "['cool']\n"
     ]
    }
   ],
   "source": [
    "pattern = 'co{2}l'      \n",
    "text = \"The cl col cat sat on the coooooooool mat cool.\"\n",
    "matches = re.findall(pattern, text)\n",
    "print(matches)"
   ]
  },
  {
   "cell_type": "code",
   "execution_count": 16,
   "id": "73c905e3-425f-455d-bda0-42ada70e01d2",
   "metadata": {},
   "outputs": [
    {
     "name": "stdout",
     "output_type": "stream",
     "text": [
      "['coooooooool', 'cool']\n"
     ]
    }
   ],
   "source": [
    "pattern = 'co{2,}l'      \n",
    "text = \"The cl col cat sat on the coooooooool mat cool.\"\n",
    "matches = re.findall(pattern, text)\n",
    "print(matches)"
   ]
  },
  {
   "cell_type": "code",
   "execution_count": 17,
   "id": "8166a315-32f8-40c9-83c3-4ce293ff672f",
   "metadata": {},
   "outputs": [
    {
     "name": "stdout",
     "output_type": "stream",
     "text": [
      "['col', 'cool']\n"
     ]
    }
   ],
   "source": [
    "pattern = 'co{1,2}l'      \n",
    "text = \"The cl col cat sat on the coooooooool mat cool.\"\n",
    "matches = re.findall(pattern, text)\n",
    "print(matches)"
   ]
  },
  {
   "cell_type": "code",
   "execution_count": 18,
   "id": "d1cc804f-392c-4c89-9582-d716b30a0a26",
   "metadata": {},
   "outputs": [
    {
     "name": "stdout",
     "output_type": "stream",
     "text": [
      "['cl', 'col', 'cool']\n"
     ]
    }
   ],
   "source": [
    "pattern = 'co{,2}l'      \n",
    "text = \"The cl col cat sat on the coooooooool mat cool.\"\n",
    "matches = re.findall(pattern, text)\n",
    "print(matches)"
   ]
  },
  {
   "cell_type": "markdown",
   "id": "77e188f5-69b5-44fe-bddd-a9ae5a6aae36",
   "metadata": {},
   "source": [
    "Gropus and capturing"
   ]
  },
  {
   "cell_type": "code",
   "execution_count": 19,
   "id": "367eb523-b536-4cd0-8770-96f7efaec49a",
   "metadata": {},
   "outputs": [
    {
     "name": "stdout",
     "output_type": "stream",
     "text": [
      "[('27', '03', '2025')]\n",
      "Day: 27, Month: 03, Year: 2025\n"
     ]
    }
   ],
   "source": [
    "pattern = r'(\\d{2})-(\\d{2})-(\\d{4})'\n",
    "text = \"Today is 27-03-2025\"\n",
    "matches = re.findall(pattern, text)\n",
    "print(matches)\n",
    "for match in matches:\n",
    "    print(f\"Day: {match[0]}, Month: {match[1]}, Year: {match[2]}\")"
   ]
  },
  {
   "cell_type": "code",
   "execution_count": null,
   "id": "3cfffb81-c1f9-404f-987f-f2e3ac494456",
   "metadata": {},
   "outputs": [],
   "source": []
  }
 ],
 "metadata": {
  "kernelspec": {
   "display_name": "Python 3 (ipykernel)",
   "language": "python",
   "name": "python3"
  },
  "language_info": {
   "codemirror_mode": {
    "name": "ipython",
    "version": 3
   },
   "file_extension": ".py",
   "mimetype": "text/x-python",
   "name": "python",
   "nbconvert_exporter": "python",
   "pygments_lexer": "ipython3",
   "version": "3.13.2"
  }
 },
 "nbformat": 4,
 "nbformat_minor": 5
}
