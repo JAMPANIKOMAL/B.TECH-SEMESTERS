{
 "cells": [
  {
   "cell_type": "markdown",
   "id": "ea054928-c703-4a03-84e0-a6c95334b112",
   "metadata": {},
   "source": [
    "Public attributes and methods"
   ]
  },
  {
   "cell_type": "code",
   "execution_count": 1,
   "id": "91ea0636-6a6f-41a8-b87d-25d8aecccfbc",
   "metadata": {},
   "outputs": [],
   "source": [
    "class BankAccount:\n",
    "    def __init__(self, account_holder: str, balance: float):\n",
    "        self.__account_holder = account_holder\n",
    "        self.__balance = balance\n",
    "    def __calculate_interest(self):\n",
    "        return self.__balance * 0.03\n",
    "    def get_account_info(self):\n",
    "        interest = self.__calculate_interest()\n",
    "        print(f\"Account Holder: {self.__account_holder}, Balnce: {self.__balance}, Interset: {interest}\")"
   ]
  },
  {
   "cell_type": "code",
   "execution_count": 4,
   "id": "ae5e37f2-937e-4bc5-aa2d-b131d6d040b9",
   "metadata": {},
   "outputs": [
    {
     "name": "stdout",
     "output_type": "stream",
     "text": [
      "Account Holder: Komal, Balnce: 100, Interset: 3.0\n",
      "None\n",
      "Accessing Private Balance via Name Mangling: 100\n"
     ]
    }
   ],
   "source": [
    "account = BankAccount(\"Komal\", 100)\n",
    "print(account.get_account_info())\n",
    "print(f\"Accessing Private Balance via Name Mangling: {account._BankAccount__balance}\")"
   ]
  },
  {
   "cell_type": "code",
   "execution_count": 1,
   "id": "a36b1861-6ecc-4dd4-9e65-4cff322138f9",
   "metadata": {},
   "outputs": [
    {
     "ename": "SyntaxError",
     "evalue": "leading zeros in decimal integer literals are not permitted; use an 0o prefix for octal integers (1412413789.py, line 19)",
     "output_type": "error",
     "traceback": [
      "  \u001b[36mCell\u001b[39m\u001b[36m \u001b[39m\u001b[32mIn[1]\u001b[39m\u001b[32m, line 19\u001b[39m\n\u001b[31m    \u001b[39m\u001b[31msuper.__init__(\"Ram\", 01, 23000)\u001b[39m\n                          ^\n\u001b[31mSyntaxError\u001b[39m\u001b[31m:\u001b[39m leading zeros in decimal integer literals are not permitted; use an 0o prefix for octal integers\n"
     ]
    }
   ],
   "source": [
    "# Question\n",
    "# Employee Management System\n",
    "# CIY\n",
    "# Refer sir's code\n",
    "\n",
    "class Employee:\n",
    "    def __init__(self, name: str, eid: str, salary: float):\n",
    "        self.name = name\n",
    "        self.__eid = eid\n",
    "        self._salary = salary\n",
    "    def __display_info(self):\n",
    "        print(f\"Name: {self.name}, Employee ID: {self.__eid}, Salary: {self._salary}\")\n",
    "    def _calculate_salary(self, hours_worked, payperhour):\n",
    "        self._salary = hours_worked * payperhour\n",
    "\n",
    "class Manager(Employee):\n",
    "    def __init__(self):\n",
    "        self.position = \"Manager\"\n",
    "        super.__init__(\"Ram\", 01, 23000)\n",
    "    def __display_info(self):\n",
    "        print(\"Manager\")\n",
    "        Employee.__display_info(self)"
   ]
  },
  {
   "cell_type": "markdown",
   "id": "2580622c-6edb-4c69-a308-1ce10c0489dd",
   "metadata": {},
   "source": [
    "Operator Overloading"
   ]
  },
  {
   "cell_type": "code",
   "execution_count": 2,
   "id": "7fc5533a-dd7f-42e6-8b8a-ca40d80b34b6",
   "metadata": {},
   "outputs": [],
   "source": [
    "class MyClass:\n",
    "    def __init__(self, value):\n",
    "        self.value = value\n",
    "    def __add__(self, other):\n",
    "        return self.value + other.value\n",
    "    def __sub__(self, other):\n",
    "        return self.value - other.value\n",
    "    def __mul__(self, other):\n",
    "        return self.value * other.value\n",
    "    def __truediv__(self, other):\n",
    "        return self.value / other.value\n",
    "    def __eq__(self, other):\n",
    "        return self.value == other.value\n",
    "    def __lt__(self, other):\n",
    "        return self.value < other.value\n",
    "    def __gt__(self, other):\n",
    "        return self.value > other.value"
   ]
  },
  {
   "cell_type": "code",
   "execution_count": 4,
   "id": "c61fbd95-b61c-4e32-9ef2-3e883f3f9491",
   "metadata": {},
   "outputs": [],
   "source": [
    "#Create Instances\n",
    "obj1 = MyClass(5)\n",
    "obj2 = MyClass(3)"
   ]
  },
  {
   "cell_type": "code",
   "execution_count": 5,
   "id": "f1070d2a-c375-4d4e-93d3-52bc8bf531aa",
   "metadata": {},
   "outputs": [
    {
     "name": "stdout",
     "output_type": "stream",
     "text": [
      "Addition: 8\n",
      "Subtraction: 2\n",
      "Multiplication: 15\n",
      "Division: 1.6666666666666667\n",
      "Equality: False\n",
      "Lesser tHa: False\n",
      "Freater than: True\n"
     ]
    }
   ],
   "source": [
    "# Overloaded operators\n",
    "print(\"Addition:\", obj1 + obj2)\n",
    "print(\"Subtraction:\", obj1 - obj2)\n",
    "print(\"Multiplication:\", obj1 * obj2)\n",
    "print(\"Division:\", obj1 / obj2)\n",
    "print(\"Equality:\", obj1 == obj2)\n",
    "print(\"Lesser tHa:\", obj1 < obj2)\n",
    "print(\"Freater than:\", obj1 > obj2)"
   ]
  },
  {
   "cell_type": "code",
   "execution_count": null,
   "id": "ece4a39f-b131-4e96-ba40-7209a1d71227",
   "metadata": {},
   "outputs": [],
   "source": []
  }
 ],
 "metadata": {
  "kernelspec": {
   "display_name": "Python 3 (ipykernel)",
   "language": "python",
   "name": "python3"
  },
  "language_info": {
   "codemirror_mode": {
    "name": "ipython",
    "version": 3
   },
   "file_extension": ".py",
   "mimetype": "text/x-python",
   "name": "python",
   "nbconvert_exporter": "python",
   "pygments_lexer": "ipython3",
   "version": "3.13.2"
  }
 },
 "nbformat": 4,
 "nbformat_minor": 5
}
