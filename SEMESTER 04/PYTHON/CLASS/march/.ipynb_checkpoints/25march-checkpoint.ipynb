{
 "cells": [
  {
   "cell_type": "markdown",
   "id": "7f4347e0-6bf2-4128-9003-48f8e1f4a641",
   "metadata": {},
   "source": [
    "Dynamic Attributes"
   ]
  },
  {
   "cell_type": "code",
   "execution_count": 1,
   "id": "8016f655-71f0-43e4-b685-bd742a1031c3",
   "metadata": {},
   "outputs": [
    {
     "name": "stdout",
     "output_type": "stream",
     "text": [
      "Nano\n",
      "1234\n"
     ]
    }
   ],
   "source": [
    "class vehicle:\n",
    "    def __init__(self, name, number):\n",
    "        self.name = name\n",
    "        self.number = number\n",
    "\n",
    "v1 = vehicle(\"Nano\", \"1234\")\n",
    "print(v1.name)\n",
    "print(v1.number)"
   ]
  },
  {
   "cell_type": "code",
   "execution_count": 2,
   "id": "fd781304-b30e-4167-8b22-ec01f7dfbcd4",
   "metadata": {},
   "outputs": [
    {
     "name": "stdin",
     "output_type": "stream",
     "text": [
      "Which attribute you want to access? number\n"
     ]
    },
    {
     "name": "stdout",
     "output_type": "stream",
     "text": [
      "1234\n"
     ]
    }
   ],
   "source": [
    "choice = input(\"Which attribute you want to access?\")\n",
    "if choice == \"name\":\n",
    "    print(v1.name)\n",
    "elif choice == \"number\":\n",
    "    print(v1.number)\n",
    "else:\n",
    "    print(\"--invalid\")"
   ]
  },
  {
   "cell_type": "code",
   "execution_count": 3,
   "id": "f85a23a5-8839-48eb-8d62-01a2e8713a4a",
   "metadata": {},
   "outputs": [
    {
     "name": "stdin",
     "output_type": "stream",
     "text": [
      "Which attribute you want to access? komal\n"
     ]
    },
    {
     "name": "stdout",
     "output_type": "stream",
     "text": [
      "--invalid--\n"
     ]
    }
   ],
   "source": [
    "choice = input(\"Which attribute you want to access?\")\n",
    "print(getattr(v1, choice, \"--invalid--\"))"
   ]
  },
  {
   "cell_type": "code",
   "execution_count": 4,
   "id": "366a0395-3211-4ab2-b581-bcf823a6dba3",
   "metadata": {},
   "outputs": [
    {
     "name": "stdin",
     "output_type": "stream",
     "text": [
      "Which attribute you want to change? colour\n",
      "What attribute do you want to change this to = black\n"
     ]
    }
   ],
   "source": [
    "choice = input(\"Which attribute you want to change?\")\n",
    "value = input(\"What attribute do you want to change this to =\")\n",
    "setattr(v1, choice, value)"
   ]
  },
  {
   "cell_type": "code",
   "execution_count": 5,
   "id": "59d9ef8c-066d-4cce-9e41-ed137c08a261",
   "metadata": {},
   "outputs": [
    {
     "name": "stdout",
     "output_type": "stream",
     "text": [
      "Nano\n",
      "1234\n",
      "black\n"
     ]
    }
   ],
   "source": [
    "print(v1.name)\n",
    "print(v1.number)\n",
    "print(v1.colour)"
   ]
  },
  {
   "cell_type": "code",
   "execution_count": 6,
   "id": "a117cb3d-c92a-4d93-a7d6-531589f8a2b7",
   "metadata": {},
   "outputs": [
    {
     "name": "stdout",
     "output_type": "stream",
     "text": [
      "False\n"
     ]
    }
   ],
   "source": [
    "print(hasattr(v1, \"asdfg\"))"
   ]
  },
  {
   "cell_type": "code",
   "execution_count": 7,
   "id": "9dc57d7f-e44e-4b18-b1c6-b80957979ede",
   "metadata": {},
   "outputs": [],
   "source": [
    "delattr(v1, \"name\")"
   ]
  },
  {
   "cell_type": "code",
   "execution_count": 8,
   "id": "28a146ea-dd76-4f65-b15e-7ecfef388734",
   "metadata": {},
   "outputs": [
    {
     "ename": "AttributeError",
     "evalue": "'vehicle' object has no attribute 'name'",
     "output_type": "error",
     "traceback": [
      "\u001b[31m---------------------------------------------------------------------------\u001b[39m",
      "\u001b[31mAttributeError\u001b[39m                            Traceback (most recent call last)",
      "\u001b[36mCell\u001b[39m\u001b[36m \u001b[39m\u001b[32mIn[8]\u001b[39m\u001b[32m, line 1\u001b[39m\n\u001b[32m----> \u001b[39m\u001b[32m1\u001b[39m \u001b[38;5;28mprint\u001b[39m(\u001b[43mv1\u001b[49m\u001b[43m.\u001b[49m\u001b[43mname\u001b[49m)\n",
      "\u001b[31mAttributeError\u001b[39m: 'vehicle' object has no attribute 'name'"
     ]
    }
   ],
   "source": [
    "print(v1.name)"
   ]
  },
  {
   "cell_type": "code",
   "execution_count": 15,
   "id": "a2f67cda-d2d1-497b-92f8-1d64bdee936c",
   "metadata": {},
   "outputs": [],
   "source": [
    "class myclass:\n",
    "    def __setattr__(self, name, value):\n",
    "        print(f\"Setting attribute '{name}' to '{value}'\")\n",
    "        super().__setattr__(name, value)\n",
    "    def __delattr__(Self, name):\n",
    "        print(f\"Deleting attribute '{name}'\")\n",
    "        super().__delattr__(name)"
   ]
  },
  {
   "cell_type": "code",
   "execution_count": 17,
   "id": "e463feb7-2db3-4bf0-a33a-6029f62698e0",
   "metadata": {},
   "outputs": [
    {
     "name": "stdout",
     "output_type": "stream",
     "text": [
      "Setting attribute 'asdf' to '29'\n",
      "Dynamic attribute: 29\n",
      "Deleting attribute 'asdf'\n"
     ]
    }
   ],
   "source": [
    "obj = myclass()\n",
    "obj.asdf = 29\n",
    "print(\"Dynamic attribute:\", obj.asdf)\n",
    "del obj.asdf"
   ]
  },
  {
   "cell_type": "code",
   "execution_count": 18,
   "id": "a45d35b6-3f50-43fc-9cf7-6b0533ff7c5b",
   "metadata": {},
   "outputs": [
    {
     "name": "stdout",
     "output_type": "stream",
     "text": [
      "Setting attribute 'attr1' to '42'\n",
      "Deleting attribute 'attr1'\n"
     ]
    }
   ],
   "source": [
    "onj = myclass()\n",
    "obj.attr1 = 42\n",
    "del obj.attr1"
   ]
  },
  {
   "cell_type": "code",
   "execution_count": null,
   "id": "1feb92e4-e7c7-4ea8-b483-01df2ba9599d",
   "metadata": {},
   "outputs": [],
   "source": []
  }
 ],
 "metadata": {
  "kernelspec": {
   "display_name": "Python 3 (ipykernel)",
   "language": "python",
   "name": "python3"
  },
  "language_info": {
   "codemirror_mode": {
    "name": "ipython",
    "version": 3
   },
   "file_extension": ".py",
   "mimetype": "text/x-python",
   "name": "python",
   "nbconvert_exporter": "python",
   "pygments_lexer": "ipython3",
   "version": "3.13.2"
  }
 },
 "nbformat": 4,
 "nbformat_minor": 5
}
