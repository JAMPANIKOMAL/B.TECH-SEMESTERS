{
 "cells": [
  {
   "cell_type": "markdown",
   "id": "631f309e-40bf-43a5-a7fb-ed76f5208923",
   "metadata": {},
   "source": [
    "OOPS IN PYTHON"
   ]
  },
  {
   "cell_type": "code",
   "execution_count": 1,
   "id": "f1ed01e3-0e94-4d6e-b1ac-26667e3226c1",
   "metadata": {},
   "outputs": [
    {
     "name": "stdout",
     "output_type": "stream",
     "text": [
      "Krypto id 3 years old.\n",
      "Krypto says Wooof!\n"
     ]
    }
   ],
   "source": [
    "class Dog:\n",
    "    def __init__(self, name, age):\n",
    "        self.name = name\n",
    "        self.age = age\n",
    "\n",
    "    def bark(self):\n",
    "        print(f\"{self.name} says Wooof!\")\n",
    "\n",
    "#Creating an object of the Dog class\n",
    "dog1 = Dog(\"Krypto\", 3)\n",
    "\n",
    "#Accessing attributes and calling methods of the object\n",
    "print(f\"{dog1.name} id {dog1.age} years old.\")\n",
    "dog1.bark()"
   ]
  },
  {
   "cell_type": "code",
   "execution_count": 2,
   "id": "a19f62c9-bcfd-4487-ae92-ac1e38d7716c",
   "metadata": {},
   "outputs": [
    {
     "name": "stdout",
     "output_type": "stream",
     "text": [
      "Area of circle 1: 78.5\n",
      "Area of circle 2: 153.86\n"
     ]
    }
   ],
   "source": [
    "class Circle:\n",
    "    pi = 3.14\n",
    "    def __init__(self, radius):\n",
    "        self.radius = radius\n",
    "\n",
    "    def calculate_area(self):\n",
    "        return self.pi * self.radius ** 2\n",
    "\n",
    "#Creating an object of the Circle class\n",
    "circle1 = Circle(5)\n",
    "circle2 = Circle(7)\n",
    "\n",
    "#Calculating and printing the area of circles\n",
    "print(\"Area of circle 1:\", circle1.calculate_area())\n",
    "print(\"Area of circle 2:\", circle2.calculate_area())"
   ]
  },
  {
   "cell_type": "code",
   "execution_count": 3,
   "id": "b2e95bb5-7285-4de8-b3f2-7026305806f0",
   "metadata": {},
   "outputs": [],
   "source": [
    "class BankAccount:\n",
    "    def __init__(self, accno, balance):\n",
    "        self.accno = accno\n",
    "        self.balance = balance\n",
    "\n",
    "    def deposit(self, amount):\n",
    "        if amount > 0:\n",
    "            self.balance += amount\n",
    "            print(f\"Deposited ${amount}. New balance: ${self.balance}\")\n",
    "        else:\n",
    "            print(\"Invalid depsoit amount.\")\n",
    "\n",
    "    def withdraw(self, amount):\n",
    "        if amount > 0 and amount <= self.balance:\n",
    "            self.balance -= amount\n",
    "            print(f\"Withdraw ${amount}. New balance: ${self.balance}\")\n",
    "        else:\n",
    "            print(\"Invalid withdrawl amount or insufficient funds.\")\n",
    "\n",
    "    def display_balance(self):\n",
    "        print(f\"Account Number: {self.accno} \\nCurrent Balance: ${self.balance}\")"
   ]
  },
  {
   "cell_type": "code",
   "execution_count": 4,
   "id": "720cc43b-bf5b-4be1-80fa-31e5fdca7d54",
   "metadata": {},
   "outputs": [],
   "source": [
    "#Create an insatnace of the Bank Acoount class\n",
    "account1= BankAccount(\"12345678\", 1000)"
   ]
  },
  {
   "cell_type": "code",
   "execution_count": 5,
   "id": "8b9d0e4b-29b3-4829-89c8-f21144caa399",
   "metadata": {},
   "outputs": [
    {
     "name": "stdout",
     "output_type": "stream",
     "text": [
      "Deposited $100. New balance: $1100\n"
     ]
    }
   ],
   "source": [
    "#Deposit some money\n",
    "account1.deposit(100)"
   ]
  },
  {
   "cell_type": "code",
   "execution_count": 6,
   "id": "89560623-a1cf-4ad0-a03a-29e9dac43da4",
   "metadata": {},
   "outputs": [
    {
     "name": "stdout",
     "output_type": "stream",
     "text": [
      "Withdraw $1000. New balance: $100\n"
     ]
    }
   ],
   "source": [
    "#Withdraw some money\n",
    "account1.withdraw(1000)"
   ]
  },
  {
   "cell_type": "code",
   "execution_count": 7,
   "id": "ba50fe84-b628-4b79-acb4-e4631c41ea15",
   "metadata": {},
   "outputs": [
    {
     "name": "stdout",
     "output_type": "stream",
     "text": [
      "Account Number: 12345678 \n",
      "Current Balance: $100\n"
     ]
    }
   ],
   "source": [
    "#Dispaly the current balance\n",
    "account1.display_balance()"
   ]
  },
  {
   "cell_type": "code",
   "execution_count": null,
   "id": "176c51e2-947e-4fc2-b92c-7a149fe0ec58",
   "metadata": {},
   "outputs": [],
   "source": []
  }
 ],
 "metadata": {
  "kernelspec": {
   "display_name": "Python 3 (ipykernel)",
   "language": "python",
   "name": "python3"
  },
  "language_info": {
   "codemirror_mode": {
    "name": "ipython",
    "version": 3
   },
   "file_extension": ".py",
   "mimetype": "text/x-python",
   "name": "python",
   "nbconvert_exporter": "python",
   "pygments_lexer": "ipython3",
   "version": "3.13.2"
  }
 },
 "nbformat": 4,
 "nbformat_minor": 5
}
