{
 "cells": [
  {
   "cell_type": "markdown",
   "id": "0bb9715e-cadc-4ed9-bd86-a15f4a5e5a78",
   "metadata": {},
   "source": [
    "Operations using classes and objects"
   ]
  },
  {
   "cell_type": "code",
   "execution_count": 3,
   "id": "9592c928-27e9-4494-b9fb-dac4bb40fa4e",
   "metadata": {},
   "outputs": [],
   "source": [
    "class Employee:\n",
    "    def __init__(self, rate_per_hour):\n",
    "        self.rate_per_hour = rate_per_hour\n",
    "    def input_hours_worked(self):\n",
    "        self.hours_worked = float(input(\"Enter hours worked: \"))\n",
    "    def calculate_salary(self):\n",
    "        return self.hours_worked * self.rate_per_hour"
   ]
  },
  {
   "cell_type": "code",
   "execution_count": 4,
   "id": "cf6ba7b1-70c6-4b62-a15b-7b7f9659a566",
   "metadata": {},
   "outputs": [
    {
     "name": "stdout",
     "output_type": "stream",
     "text": [
      "Enter hours worked:  13.5\n"
     ]
    },
    {
     "name": "stdout",
     "output_type": "stream",
     "text": [
      "Salary: 135.0\n"
     ]
    }
   ],
   "source": [
    "employee1 = Employee(10)\n",
    "\n",
    "employee1.input_hours_worked()\n",
    "print(\"Salary:\", employee1.calculate_salary())"
   ]
  },
  {
   "cell_type": "code",
   "execution_count": 5,
   "id": "58309b08-05ec-4fe4-838a-d03b74ba2d8e",
   "metadata": {},
   "outputs": [
    {
     "name": "stdout",
     "output_type": "stream",
     "text": [
      "Enter hours worked:  13.5\n"
     ]
    },
    {
     "name": "stdout",
     "output_type": "stream",
     "text": [
      "Salary: 270.0\n"
     ]
    }
   ],
   "source": [
    "employee2 = Employee(20)\n",
    "\n",
    "employee2.input_hours_worked()\n",
    "print(\"Salary:\", employee2.calculate_salary())"
   ]
  },
  {
   "cell_type": "code",
   "execution_count": 14,
   "id": "261b59fd-8d75-4a8a-a1e7-4a1e4678c128",
   "metadata": {},
   "outputs": [],
   "source": [
    "#Student grade calculation\n",
    "#Refer sir's code\n",
    "\n",
    "class Student:\n",
    "    def __init__(self, name, markslist):\n",
    "        self.name = name\n",
    "        self.markslist = markslist\n",
    "    def grade_calcualtion(self):\n",
    "        self.total = sum(self.markslist)\n",
    "        self.grades = []\n",
    "        for i in self.markslist:\n",
    "            if i > 90:\n",
    "                self.grades.append(\"A\")\n",
    "            elif i > 80:\n",
    "                self.grades.append(\"B\")\n",
    "            elif i > 70:\n",
    "                self.grades.append(\"C\")\n",
    "            else:\n",
    "                self.grades.append(\"F\")\n",
    "        return self.grades"
   ]
  },
  {
   "cell_type": "code",
   "execution_count": 15,
   "id": "0cb667f7-a710-4a9a-8d69-577d4e88213e",
   "metadata": {},
   "outputs": [
    {
     "name": "stdout",
     "output_type": "stream",
     "text": [
      "Grades: ['B', 'F', 'C']\n"
     ]
    }
   ],
   "source": [
    "student1 = Student(\"Komal\", [90, 12, 73])\n",
    "\n",
    "print(\"Grades:\", student1.grade_calcualtion())"
   ]
  },
  {
   "cell_type": "code",
   "execution_count": 18,
   "id": "c9e2f6f6-2923-4f06-a2d3-ccbbb7d133df",
   "metadata": {},
   "outputs": [],
   "source": [
    "#Library book management\n",
    "#Refer sir's code\n",
    "#ciy\n",
    "\n",
    "class Book:\n",
    "    def __init__(self, bookname):\n",
    "        self.bookname = bookname\n",
    "    def inputbookdetails(self):\n",
    "        print(\"Enter details of the book,\", self.bookname)\n",
    "        self.author = input(\"Input author name\")\n",
    "        self.available = True\n",
    "    def borrow(self):\n",
    "        if self.available == True:\n",
    "            print(\"Borrow success\")\n",
    "            self.available = False\n",
    "        else:\n",
    "            print(\"Book not available\")\n",
    "    def return_book(self):\n",
    "        print(\"Return success\")\n",
    "        self.available = True\n",
    "    def book_info(self):\n",
    "        print(\"Book Name:\", self.bookname, \"Author:\", self.author, \"Status:\", self.available)"
   ]
  },
  {
   "cell_type": "code",
   "execution_count": 20,
   "id": "39ba71f4-8ebe-495d-b1c7-5955a9d15fe5",
   "metadata": {},
   "outputs": [
    {
     "name": "stdout",
     "output_type": "stream",
     "text": [
      "Enter details of the book, C Programming\n"
     ]
    },
    {
     "name": "stdout",
     "output_type": "stream",
     "text": [
      "Input author name Komal\n"
     ]
    },
    {
     "name": "stdout",
     "output_type": "stream",
     "text": [
      "Borrow success\n",
      "Book Name: C Programming Author: Komal Status: False\n",
      "Book not available\n",
      "Return success\n",
      "Book Name: C Programming Author: Komal Status: True\n"
     ]
    }
   ],
   "source": [
    "book1 = Book(\"C Programming\")\n",
    "book1.inputbookdetails()\n",
    "book1.borrow()\n",
    "book1.book_info()\n",
    "book1.borrow()\n",
    "book1.return_book()\n",
    "book1.book_info()"
   ]
  },
  {
   "cell_type": "code",
   "execution_count": null,
   "id": "1c7ed04b-e258-4f75-86b3-886f01f0e4fd",
   "metadata": {},
   "outputs": [
    {
     "ename": "NameError",
     "evalue": "name 'Counter' is not defined",
     "output_type": "error",
     "traceback": [
      "\u001b[31m---------------------------------------------------------------------------\u001b[39m",
      "\u001b[31mNameError\u001b[39m                                 Traceback (most recent call last)",
      "\u001b[36mCell\u001b[39m\u001b[36m \u001b[39m\u001b[32mIn[1]\u001b[39m\u001b[32m, line 4\u001b[39m\n\u001b[32m      1\u001b[39m \u001b[38;5;66;03m#Static attributes\u001b[39;00m\n\u001b[32m      2\u001b[39m \u001b[38;5;66;03m#ciy using sir's code\u001b[39;00m\n\u001b[32m----> \u001b[39m\u001b[32m4\u001b[39m \u001b[38;5;28;43;01mclass\u001b[39;49;00m\u001b[38;5;250;43m \u001b[39;49m\u001b[34;43;01mCounter\u001b[39;49;00m\u001b[43m:\u001b[49m\n\u001b[32m      5\u001b[39m \u001b[43m    \u001b[49m\u001b[43mobject_count\u001b[49m\u001b[43m \u001b[49m\u001b[43m=\u001b[49m\u001b[43m \u001b[49m\u001b[32;43m0\u001b[39;49m\n\u001b[32m      6\u001b[39m \u001b[43m    \u001b[49m\u001b[38;5;28;43;01mdef\u001b[39;49;00m\u001b[38;5;250;43m \u001b[39;49m\u001b[34;43m__init__\u001b[39;49m\u001b[43m(\u001b[49m\u001b[38;5;28;43mself\u001b[39;49m\u001b[43m)\u001b[49m\u001b[43m:\u001b[49m\n",
      "\u001b[36mCell\u001b[39m\u001b[36m \u001b[39m\u001b[32mIn[1]\u001b[39m\u001b[32m, line 9\u001b[39m, in \u001b[36mCounter\u001b[39m\u001b[34m()\u001b[39m\n\u001b[32m      6\u001b[39m \u001b[38;5;28;01mdef\u001b[39;00m\u001b[38;5;250m \u001b[39m\u001b[34m__init__\u001b[39m(\u001b[38;5;28mself\u001b[39m):\n\u001b[32m      7\u001b[39m     Counter.object_count += \u001b[32m1\u001b[39m\n\u001b[32m----> \u001b[39m\u001b[32m9\u001b[39m obj1 = \u001b[43mCounter\u001b[49m()\n\u001b[32m     10\u001b[39m obj2 = Counter()\n\u001b[32m     11\u001b[39m obj3 = Counter()\n",
      "\u001b[31mNameError\u001b[39m: name 'Counter' is not defined"
     ]
    }
   ],
   "source": [
    "#Static attributes\n",
    "#ciy using sir's code\n",
    "\n",
    "class Counter:\n",
    "    object_count = 0\n",
    "    def __init__(self):\n",
    "        Counter.object_count += 1\n",
    "\n",
    "    obj1 = Counter()\n",
    "    obj2 = Counter()\n",
    "    obj3 = Counter()\n",
    "    obj1 = Counter()"
   ]
  },
  {
   "cell_type": "code",
   "execution_count": null,
   "id": "9dfed2fe",
   "metadata": {},
   "outputs": [],
   "source": []
  }
 ],
 "metadata": {
  "kernelspec": {
   "display_name": "Python 3",
   "language": "python",
   "name": "python3"
  },
  "language_info": {
   "codemirror_mode": {
    "name": "ipython",
    "version": 3
   },
   "file_extension": ".py",
   "mimetype": "text/x-python",
   "name": "python",
   "nbconvert_exporter": "python",
   "pygments_lexer": "ipython3",
   "version": "3.13.2"
  }
 },
 "nbformat": 4,
 "nbformat_minor": 5
}
